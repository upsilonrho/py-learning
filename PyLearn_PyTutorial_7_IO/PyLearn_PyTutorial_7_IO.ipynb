{
 "cells": [
  {
   "cell_type": "markdown",
   "metadata": {},
   "source": [
    "# <center>Learning Python</center>\n",
    "# The Python Tutorial -> Input & Output\n",
    "Link: https://docs.python.org/3/tutorial/inputoutput.html"
   ]
  },
  {
   "cell_type": "markdown",
   "metadata": {},
   "source": [
    "## Fancier Output Formatting"
   ]
  },
  {
   "cell_type": "markdown",
   "metadata": {},
   "source": [
    "**formatted string literals**  \n",
    "- begin a string with **`f`** or **`F`** before the opening quotation mark or triple quotation mark.   \n",
    "- can write a Python expression between **`{`** and **`}`** characters that can refer to variables or literal values."
   ]
  },
  {
   "cell_type": "code",
   "execution_count": 4,
   "metadata": {},
   "outputs": [
    {
     "name": "stdout",
     "output_type": "stream",
     "text": [
      "Results of the 2016 Referendum\n"
     ]
    }
   ],
   "source": [
    "year = 2016\n",
    "event = 'Referendum'\n",
    "print(f'Results of the {year} {event}')"
   ]
  },
  {
   "cell_type": "markdown",
   "metadata": {},
   "source": [
    "**`str.format()`**"
   ]
  },
  {
   "cell_type": "code",
   "execution_count": 5,
   "metadata": {},
   "outputs": [
    {
     "name": "stdout",
     "output_type": "stream",
     "text": [
      " 42572654 YES votes  49.67%\n"
     ]
    }
   ],
   "source": [
    "yes_votes = 42_572_654\n",
    "no_votes = 43_132_495\n",
    "percentage = yes_votes / (yes_votes + no_votes)\n",
    "print( '{:-9} YES votes  {:2.2%}'.format(yes_votes, percentage) )"
   ]
  },
  {
   "cell_type": "markdown",
   "metadata": {},
   "source": [
    "**`str()`**, **`repr()`**"
   ]
  },
  {
   "cell_type": "markdown",
   "metadata": {},
   "source": [
    "- The **`str()`** function is meant to return representations of values which are fairly human-readable, \n",
    "- while **`repr()`** is meant to generate representations which can be read by the interpreter (or will force a `SyntaxError` if there is no equivalent syntax).\n",
    "- For objects which don’t have a particular representation for human consumption, `str()` will return the same value as `repr()`.\n",
    "- Many values, such as numbers or structures like lists and dictionaries, have the same representation using either function. \n",
    "- Strings, in particular, have two distinct representations."
   ]
  },
  {
   "cell_type": "code",
   "execution_count": 14,
   "metadata": {},
   "outputs": [
    {
     "name": "stdout",
     "output_type": "stream",
     "text": [
      "0.14285714285714285\n",
      "0.14285714285714285\n",
      "0.14285714285714285\n"
     ]
    }
   ],
   "source": [
    "print(1/7)\n",
    "print(str(1/7))\n",
    "print(repr(1/7))"
   ]
  },
  {
   "cell_type": "code",
   "execution_count": 16,
   "metadata": {},
   "outputs": [
    {
     "name": "stdout",
     "output_type": "stream",
     "text": [
      "The value of x is 32.5, and y is 40000...\n",
      "The value of x is 32.5, and y is 40000...\n"
     ]
    }
   ],
   "source": [
    "x = 10 * 3.25\n",
    "y = 200 * 200\n",
    "s1 = 'The value of x is ' + str(x) + ', and y is ' + str(y) + '...'\n",
    "s2 = 'The value of x is ' + repr(x) + ', and y is ' + repr(y) + '...'\n",
    "print(s1)\n",
    "print(s2)"
   ]
  },
  {
   "cell_type": "code",
   "execution_count": 18,
   "metadata": {},
   "outputs": [
    {
     "name": "stdout",
     "output_type": "stream",
     "text": [
      "hello, world\n",
      "\n",
      "'hello, world\\n'\n"
     ]
    }
   ],
   "source": [
    "# The repr() of a string adds string quotes and backslashes:\n",
    "hello = 'hello, world\\n'\n",
    "hellos = repr(hello)\n",
    "print(hello)\n",
    "print(hellos)"
   ]
  },
  {
   "cell_type": "code",
   "execution_count": 21,
   "metadata": {},
   "outputs": [
    {
     "name": "stdout",
     "output_type": "stream",
     "text": [
      "(32.5, 40000, ('spam', 'eggs'))\n"
     ]
    }
   ],
   "source": [
    "x = 10 * 3.25\n",
    "y = 200 * 200\n",
    "# The argument to repr() may be any Python object:\n",
    "print(repr((x, y, ('spam', 'eggs'))))"
   ]
  },
  {
   "cell_type": "markdown",
   "metadata": {},
   "source": [
    "### Formatted String Literals\n",
    "Also called **f-strings** for short  \n",
    "An optional format specifier can follow the expression."
   ]
  },
  {
   "cell_type": "code",
   "execution_count": 22,
   "metadata": {},
   "outputs": [
    {
     "name": "stdout",
     "output_type": "stream",
     "text": [
      "The value of pi is approximately 3.142.\n"
     ]
    }
   ],
   "source": [
    "import math\n",
    "print(f'The value of pi is approximately {math.pi:.3f}.')"
   ]
  },
  {
   "cell_type": "code",
   "execution_count": 23,
   "metadata": {},
   "outputs": [
    {
     "name": "stdout",
     "output_type": "stream",
     "text": [
      "Sjoerd     ==>       4127\n",
      "Jack       ==>       4098\n",
      "Dcab       ==>       7678\n"
     ]
    }
   ],
   "source": [
    "table = {'Sjoerd': 4127, 'Jack': 4098, 'Dcab': 7678}\n",
    "for name, phone in table.items():\n",
    "    print(f'{name:10} ==> {phone:10d}')"
   ]
  },
  {
   "cell_type": "markdown",
   "metadata": {},
   "source": [
    "Other modifiers can be used to convert the value before it is formatted.  \n",
    "**`!a`** applies **`ascii()`**   \n",
    "**`!s`** applies **`str()`**   \n",
    "**`!r`** applies **`repr()`**   \n",
    "\n",
    "For a reference on these format specifications, see the reference guide for the Format Specification Mini-Language:\n",
    "https://docs.python.org/3/library/string.html#formatspec"
   ]
  },
  {
   "cell_type": "code",
   "execution_count": 25,
   "metadata": {},
   "outputs": [
    {
     "name": "stdout",
     "output_type": "stream",
     "text": [
      "My hovercraft is full of eels.\n",
      "My hovercraft is full of 'eels'.\n"
     ]
    }
   ],
   "source": [
    "animals = 'eels'\n",
    "print(f'My hovercraft is full of {animals}.')\n",
    "print(f'My hovercraft is full of {animals!r}.')"
   ]
  },
  {
   "cell_type": "markdown",
   "metadata": {},
   "source": [
    "### The String format() Method\n",
    "\n",
    "**`str.format()`**\n",
    "The brackets and characters within them (called **format fields**) are replaced with the objects passed into the `str.format()` method.   \n",
    "A number in the brackets can be used to refer to the position of the object passed into the `str.format()` method.\n",
    "\n",
    "References:  \n",
    "**`str.format()`** : https://docs.python.org/3/library/stdtypes.html#str.format  \n",
    "**Format String Syntax** : https://docs.python.org/3/library/string.html#formatstrings"
   ]
  },
  {
   "cell_type": "code",
   "execution_count": 30,
   "metadata": {},
   "outputs": [
    {
     "name": "stdout",
     "output_type": "stream",
     "text": [
      "We are the knights who say \"Ni!\"\n"
     ]
    }
   ],
   "source": [
    "print('We are the {} who say \"{}!\"'.format('knights', 'Ni'))"
   ]
  },
  {
   "cell_type": "code",
   "execution_count": 31,
   "metadata": {},
   "outputs": [
    {
     "name": "stdout",
     "output_type": "stream",
     "text": [
      "spam and eggs\n",
      "eggs and spam\n"
     ]
    }
   ],
   "source": [
    "print('{0} and {1}'.format('spam', 'eggs'))\n",
    "print('{1} and {0}'.format('spam', 'eggs'))"
   ]
  },
  {
   "cell_type": "markdown",
   "metadata": {},
   "source": [
    "If keyword arguments are used in the `str.format()` method, their values are referred to by using the name of the argument."
   ]
  },
  {
   "cell_type": "code",
   "execution_count": 33,
   "metadata": {},
   "outputs": [
    {
     "name": "stdout",
     "output_type": "stream",
     "text": [
      "This spam is absolutely horrible.\n",
      "This spam is absolutely horrible.\n"
     ]
    }
   ],
   "source": [
    "print('This {food} is {adjective}.'.format( \n",
    "     food='spam', adjective='absolutely horrible'))\n",
    "\n",
    "print('This {food} is {adjective}.'.format( \n",
    "     adjective='absolutely horrible', food='spam'))"
   ]
  },
  {
   "cell_type": "markdown",
   "metadata": {},
   "source": [
    "Positional and keyword arguments can be arbitrarily combined:"
   ]
  },
  {
   "cell_type": "code",
   "execution_count": 34,
   "metadata": {},
   "outputs": [
    {
     "name": "stdout",
     "output_type": "stream",
     "text": [
      "The story of Bill, Manfred, and Georg.\n"
     ]
    }
   ],
   "source": [
    "print('The story of {0}, {1}, and {other}.'.format('Bill', 'Manfred',\n",
    "                                                       other='Georg'))"
   ]
  },
  {
   "cell_type": "markdown",
   "metadata": {},
   "source": [
    "If you have a really long format string that you don’t want to split up, it would be nice if you could reference the variables to be formatted by name instead of by position. This can be done by simply passing the dict and using square brackets `[]` to access the keys"
   ]
  },
  {
   "cell_type": "code",
   "execution_count": 35,
   "metadata": {},
   "outputs": [
    {
     "name": "stdout",
     "output_type": "stream",
     "text": [
      "Jack: 4098; Sjoerd: 4127; Dcab: 8637678\n"
     ]
    }
   ],
   "source": [
    "table = {'Sjoerd': 4127, 'Jack': 4098, 'Dcab': 8637678}\n",
    "print('Jack: {0[Jack]:d}; Sjoerd: {0[Sjoerd]:d}; '\n",
    "      'Dcab: {0[Dcab]:d}'.format(table))"
   ]
  },
  {
   "cell_type": "markdown",
   "metadata": {},
   "source": [
    "This could also be done by passing the table as keyword arguments with the `**` notation.  \n",
    "This is particularly useful in combination with the built-in function `vars()`, which returns a dictionary containing all local variables."
   ]
  },
  {
   "cell_type": "code",
   "execution_count": 36,
   "metadata": {},
   "outputs": [
    {
     "name": "stdout",
     "output_type": "stream",
     "text": [
      "Jack: 4098; Sjoerd: 4127; Dcab: 8637678\n"
     ]
    }
   ],
   "source": [
    "table = {'Sjoerd': 4127, 'Jack': 4098, 'Dcab': 8637678} \n",
    "print('Jack: {Jack:d}; Sjoerd: {Sjoerd:d}; Dcab: {Dcab:d}'.format(**table))"
   ]
  },
  {
   "cell_type": "markdown",
   "metadata": {},
   "source": [
    "As an example, the following lines produce a tidily-aligned set of columns giving integers and their squares and cubes"
   ]
  },
  {
   "cell_type": "code",
   "execution_count": 38,
   "metadata": {},
   "outputs": [
    {
     "name": "stdout",
     "output_type": "stream",
     "text": [
      " 1   1    1\n",
      " 2   4    8\n",
      " 3   9   27\n",
      " 4  16   64\n",
      " 5  25  125\n",
      " 6  36  216\n",
      " 7  49  343\n",
      " 8  64  512\n",
      " 9  81  729\n",
      "10 100 1000\n"
     ]
    }
   ],
   "source": [
    "for x in range(1, 11):\n",
    "     print('{0:2d} {1:3d} {2:4d}'.format(x, x*x, x*x*x))"
   ]
  },
  {
   "cell_type": "markdown",
   "metadata": {},
   "source": [
    "### Manual String Formatting"
   ]
  },
  {
   "cell_type": "code",
   "execution_count": 39,
   "metadata": {},
   "outputs": [
    {
     "name": "stdout",
     "output_type": "stream",
     "text": [
      " 1   1    1\n",
      " 2   4    8\n",
      " 3   9   27\n",
      " 4  16   64\n",
      " 5  25  125\n",
      " 6  36  216\n",
      " 7  49  343\n",
      " 8  64  512\n",
      " 9  81  729\n",
      "10 100 1000\n"
     ]
    }
   ],
   "source": [
    "for x in range(1, 11):\n",
    "    print(repr(x).rjust(2), repr(x*x).rjust(3), end=' ')\n",
    "    # Note use of 'end' on previous line\n",
    "    print(repr(x*x*x).rjust(4))"
   ]
  },
  {
   "cell_type": "markdown",
   "metadata": {},
   "source": [
    "> Note that the one space between each column was added by the way `print()` works: it always adds spaces between its arguments.\n",
    "> \n",
    "> The `str.rjust()`, `str.ljust()` and `str.center()` methods do not write anything, they just return a new string. If the input string is too long, they don’t truncate it, but return it unchanged.\n",
    "> If weu really want truncation we can always add a slice operation, as in `x.ljust(n)[:n]`."
   ]
  },
  {
   "cell_type": "markdown",
   "metadata": {},
   "source": [
    "There is another method, **`str.zfill()`**, which pads a numeric string on the left with zeros. It understands about plus and minus signs:"
   ]
  },
  {
   "cell_type": "code",
   "execution_count": 40,
   "metadata": {},
   "outputs": [
    {
     "name": "stdout",
     "output_type": "stream",
     "text": [
      "00012\n",
      "-003.14\n",
      "3.14159265359\n"
     ]
    }
   ],
   "source": [
    "print('12'.zfill(5))\n",
    "\n",
    "print('-3.14'.zfill(7))\n",
    "\n",
    "print('3.14159265359'.zfill(5))"
   ]
  },
  {
   "cell_type": "markdown",
   "metadata": {},
   "source": [
    "### Old string formatting\n",
    "\n",
    "printf-style String Formatting   \n",
    "https://docs.python.org/3/library/stdtypes.html#old-string-formatting"
   ]
  },
  {
   "cell_type": "code",
   "execution_count": 41,
   "metadata": {},
   "outputs": [
    {
     "name": "stdout",
     "output_type": "stream",
     "text": [
      "The value of pi is approximately 3.142.\n"
     ]
    }
   ],
   "source": [
    "import math\n",
    "print('The value of pi is approximately %5.3f.' % math.pi)"
   ]
  },
  {
   "cell_type": "markdown",
   "metadata": {},
   "source": [
    "## Reading and Writing Files"
   ]
  },
  {
   "cell_type": "markdown",
   "metadata": {},
   "source": [
    "The second argument is a string containing the mode.  \n",
    "- **`r`** : read only\n",
    "- **`w`** : write only (existing file with the same name will be erased)\n",
    "- **`a`** : append\n",
    "- **`r+`** : for read and write. \n",
    "- **`b`** : binary mode\n",
    "- **`t`** : text mode\n",
    "\n",
    "The mode argument is optional; **`r`** will be assumed if it’s omitted."
   ]
  },
  {
   "cell_type": "markdown",
   "metadata": {},
   "source": [
    "Open file for **writing** using: `fout = open('testfile.txt', 'w')`  \n",
    "and write to file using **`fout.write(...)`**  \n",
    "**`fout.write(...)`** returns the number of characters written."
   ]
  },
  {
   "cell_type": "code",
   "execution_count": 61,
   "metadata": {},
   "outputs": [
    {
     "name": "stdout",
     "output_type": "stream",
     "text": [
      "ENTER testWriteFile1()...\n",
      "Number of Characters written = 65\n",
      ".EXIT testWriteFile1().\n"
     ]
    }
   ],
   "source": [
    "def testWriteFile1():\n",
    "    print(\"ENTER testWriteFile1()...\")\n",
    "    fout = open('testfile.txt', 'w')\n",
    "\n",
    "    numCharacters = 0\n",
    "    numCharacters += fout.write(\"This is first line of text file\\n\")\n",
    "    numCharacters += fout.write(\"This is second line of text file\\n\")\n",
    "    print(\"Number of Characters written = \" + str(numCharacters))\n",
    "\n",
    "    fout.close()\n",
    "    print(\".EXIT testWriteFile1().\")\n",
    "    \n",
    "testWriteFile1()"
   ]
  },
  {
   "cell_type": "markdown",
   "metadata": {},
   "source": [
    "Open file for **reading** using: `fin = open('testfile.txt', 'r')`  \n",
    "and read the **whole file** into string using **`fin.read()`**"
   ]
  },
  {
   "cell_type": "code",
   "execution_count": 62,
   "metadata": {},
   "outputs": [
    {
     "name": "stdout",
     "output_type": "stream",
     "text": [
      "ENTER testReadFile1()...\n",
      "This is first line of text file\n",
      "This is second line of text file\n",
      "\n",
      ".EXIT testReadFile1().\n"
     ]
    }
   ],
   "source": [
    "def testReadFile1():\n",
    "    print(\"ENTER testReadFile1()...\")\n",
    "    \n",
    "    fin = open('testfile.txt', 'r')\n",
    "\n",
    "    str = fin.read()    # read() without argument, it will read the whole file\n",
    "\n",
    "    print(str)\n",
    "    \n",
    "    fin.close();\n",
    "    print(\".EXIT testReadFile1().\")\n",
    "\n",
    "testReadFile1()"
   ]
  },
  {
   "cell_type": "markdown",
   "metadata": {},
   "source": [
    "Open file for **appending** using: `fout = open('testfile.txt', 'a')`  \n",
    "and write to file using **`fout.write(...)`**"
   ]
  },
  {
   "cell_type": "code",
   "execution_count": 63,
   "metadata": {},
   "outputs": [
    {
     "name": "stdout",
     "output_type": "stream",
     "text": [
      "ENTER testWriteFile2()...\n",
      ".EXIT testWriteFile2().\n"
     ]
    }
   ],
   "source": [
    "def testWriteFile2():\n",
    "    print(\"ENTER testWriteFile2()...\")\n",
    "\n",
    "    fout = open('testfile.txt', 'a')\n",
    "\n",
    "    for i in range(5):\n",
    "        for j in range(10):\n",
    "            fout.write( str( (i+1)*(j+1) ) + ' ' )  \n",
    "        fout.write('\\n') # there is no such function called writeline()\n",
    "\n",
    "    fout.close();\n",
    "    print(\".EXIT testWriteFile2().\")\n",
    "\n",
    "testWriteFile2()"
   ]
  },
  {
   "cell_type": "markdown",
   "metadata": {},
   "source": [
    "It is good practice to use the **`with`** keyword when dealing with file objects. The advantage is that the file is properly closed after its suite finishes, even if an exception is raised at some point. Using with is also much shorter than writing equivalent **`try-finally`** blocks.  \n",
    "If you’re not using the with keyword, then you should call **`f.close()`** to close the file and immediately free up any system resources used by it"
   ]
  },
  {
   "cell_type": "code",
   "execution_count": 84,
   "metadata": {},
   "outputs": [
    {
     "name": "stdout",
     "output_type": "stream",
     "text": [
      "ENTER testReadFile2()...\n",
      "reading...\n",
      "data read => \n",
      "This is first line of text file\n",
      "This is second line of text file\n",
      "1 2 3 4 5 6 7 8 9 10 \n",
      "2 4 6 8 10 12 14 16 18 20 \n",
      "3 6 9 12 15 18 21 24 27 30 \n",
      "4 8 12 16 20 24 28 32 36 40 \n",
      "5 10 15 20 25 30 35 40 45 50 \n",
      "\n",
      "File is closed? => True\n",
      ".EXIT testReadFile2().\n"
     ]
    }
   ],
   "source": [
    "def testReadFile2():\n",
    "    print(\"ENTER testReadFile2()...\")\n",
    "    \n",
    "    with open('testfile.txt') as fin:\n",
    "        print(\"reading...\")\n",
    "        read_data = fin.read()\n",
    "        print(\"data read => \\n\" + read_data)\n",
    "        \n",
    "    print(\"File is closed? => \" + str(fin.closed))    \n",
    "    print(\".EXIT testReadFile2().\")\n",
    "\n",
    "testReadFile2()"
   ]
  },
  {
   "cell_type": "markdown",
   "metadata": {},
   "source": [
    "While there are still data to be read, read a **chunk of 25 characters** into string using **`fin.read(25)`**"
   ]
  },
  {
   "cell_type": "code",
   "execution_count": 85,
   "metadata": {},
   "outputs": [
    {
     "name": "stdout",
     "output_type": "stream",
     "text": [
      "ENTER testReadFile3()...\n",
      "reading...\n",
      "data read => \n",
      "This is first line of tex\n",
      "reading...\n",
      "data read => \n",
      "t file\n",
      "This is second lin\n",
      "reading...\n",
      "data read => \n",
      "e of text file\n",
      "1 2 3 4 5 \n",
      "reading...\n",
      "data read => \n",
      "6 7 8 9 10 \n",
      "2 4 6 8 10 12\n",
      "reading...\n",
      "data read => \n",
      " 14 16 18 20 \n",
      "3 6 9 12 15\n",
      "reading...\n",
      "data read => \n",
      " 18 21 24 27 30 \n",
      "4 8 12 1\n",
      "reading...\n",
      "data read => \n",
      "6 20 24 28 32 36 40 \n",
      "5 10\n",
      "reading...\n",
      "data read => \n",
      " 15 20 25 30 35 40 45 50 \n",
      "reading...\n",
      "data read => \n",
      "\n",
      "\n",
      "reading...\n",
      "File is closed? => True\n",
      ".EXIT testReadFile3().\n"
     ]
    }
   ],
   "source": [
    "def testReadFile3():\n",
    "    print(\"ENTER testReadFile3()...\")\n",
    "\n",
    "    with open('testfile.txt') as fin:\n",
    "        while True:\n",
    "            print(\"reading...\")\n",
    "            read_data = fin.read(25)\n",
    "            if not read_data:\n",
    "                break\n",
    "            print(\"data read => \\n\" + read_data)\n",
    "\n",
    "    print(\"File is closed? => \" + str(fin.closed))    \n",
    "    print(\".EXIT testReadFile3().\")\n",
    "\n",
    "testReadFile3()"
   ]
  },
  {
   "cell_type": "markdown",
   "metadata": {},
   "source": [
    "While there are still data to be read, read a **whole line** into string using **`fin.readline()`**  \n",
    "if While there are still data to be read, read a **whole line** into string using **`fin.readline()`** returns an **empty string**, the **end of the file** has been reached,  \n",
    "while **a blank line** is represented by **`\\n`**, a string containing only a single newline."
   ]
  },
  {
   "cell_type": "code",
   "execution_count": 91,
   "metadata": {},
   "outputs": [
    {
     "name": "stdout",
     "output_type": "stream",
     "text": [
      "ENTER testReadFile4()...\n",
      "reading...\n",
      "data read => \n",
      "This is first line of text file\n",
      "\n",
      "reading...\n",
      "data read => \n",
      "This is second line of text file\n",
      "\n",
      "reading...\n",
      "data read => \n",
      "1 2 3 4 5 6 7 8 9 10 \n",
      "\n",
      "reading...\n",
      "data read => \n",
      "2 4 6 8 10 12 14 16 18 20 \n",
      "\n",
      "reading...\n",
      "data read => \n",
      "3 6 9 12 15 18 21 24 27 30 \n",
      "\n",
      "reading...\n",
      "data read => \n",
      "4 8 12 16 20 24 28 32 36 40 \n",
      "\n",
      "reading...\n",
      "data read => \n",
      "5 10 15 20 25 30 35 40 45 50 \n",
      "\n",
      "reading...\n",
      "File is closed? => True\n",
      ".EXIT testReadFile4().\n"
     ]
    }
   ],
   "source": [
    "def testReadFile4():\n",
    "    print(\"ENTER testReadFile4()...\")\n",
    "\n",
    "    with open('testfile.txt') as fin:\n",
    "        while True:\n",
    "            print(\"reading...\")\n",
    "            read_data = fin.readline()\n",
    "            if not read_data:\n",
    "                break\n",
    "            print(\"data read => \\n\" + read_data)\n",
    "            \n",
    "    print(\"File is closed? => \" + str(fin.closed))    \n",
    "    print(\".EXIT testReadFile4().\")\n",
    "    \n",
    "testReadFile4()"
   ]
  },
  {
   "cell_type": "markdown",
   "metadata": {},
   "source": [
    "For **reading line by line** from a file, we can loop over the file object using:\n",
    "```\n",
    "for read_data in fin:\n",
    "```\n",
    "This is memory efficient, fast, and leads to simple code.\n"
   ]
  },
  {
   "cell_type": "code",
   "execution_count": 93,
   "metadata": {},
   "outputs": [
    {
     "name": "stdout",
     "output_type": "stream",
     "text": [
      "ENTER testReadFile5()...\n",
      "reading...\n",
      "data read => \n",
      "This is first line of text file\n",
      "\n",
      "reading...\n",
      "data read => \n",
      "This is second line of text file\n",
      "\n",
      "reading...\n",
      "data read => \n",
      "1 2 3 4 5 6 7 8 9 10 \n",
      "\n",
      "reading...\n",
      "data read => \n",
      "2 4 6 8 10 12 14 16 18 20 \n",
      "\n",
      "reading...\n",
      "data read => \n",
      "3 6 9 12 15 18 21 24 27 30 \n",
      "\n",
      "reading...\n",
      "data read => \n",
      "4 8 12 16 20 24 28 32 36 40 \n",
      "\n",
      "reading...\n",
      "data read => \n",
      "5 10 15 20 25 30 35 40 45 50 \n",
      "\n",
      "File is closed? => True\n",
      ".EXIT testReadFile5().\n"
     ]
    }
   ],
   "source": [
    "def testReadFile5():\n",
    "    print(\"ENTER testReadFile5()...\")\n",
    "\n",
    "    with open('testfile.txt') as fin:\n",
    "        for read_data in fin:\n",
    "            print(\"reading...\")\n",
    "            print(\"data read => \\n\" + read_data)\n",
    "\n",
    "    print(\"File is closed? => \" + str(fin.closed))    \n",
    "    print(\".EXIT testReadFile5().\")\n",
    "\n",
    "testReadFile5()"
   ]
  },
  {
   "cell_type": "markdown",
   "metadata": {},
   "source": [
    "Read the **all the lines in the whole file** into a **`list`** using **`fin.readlines()`**"
   ]
  },
  {
   "cell_type": "code",
   "execution_count": 99,
   "metadata": {},
   "outputs": [
    {
     "name": "stdout",
     "output_type": "stream",
     "text": [
      "ENTER testReadFile6()...\n",
      "reading...\n",
      "data read => \n",
      "['This is first line of text file\\n', 'This is second line of text file\\n', '1 2 3 4 5 6 7 8 9 10 \\n', '2 4 6 8 10 12 14 16 18 20 \\n', '3 6 9 12 15 18 21 24 27 30 \\n', '4 8 12 16 20 24 28 32 36 40 \\n', '5 10 15 20 25 30 35 40 45 50 \\n']\n",
      "File is closed? => True\n",
      ".EXIT testReadFile6().\n"
     ]
    }
   ],
   "source": [
    "def testReadFile6():\n",
    "    print(\"ENTER testReadFile6()...\")\n",
    "\n",
    "    read_data = []\n",
    "    with open('testfile.txt') as fin:\n",
    "        print(\"reading...\")\n",
    "        read_data = fin.readlines()\n",
    "        print(\"data read => \\n\" + str(read_data))\n",
    "\n",
    "    print(\"File is closed? => \" + str(fin.closed))    \n",
    "    print(\".EXIT testReadFile6().\")\n",
    "\n",
    "testReadFile6()"
   ]
  },
  {
   "cell_type": "markdown",
   "metadata": {},
   "source": [
    "Read the **all the lines in the whole file** into a **`list`** using **`list(fin)`**"
   ]
  },
  {
   "cell_type": "code",
   "execution_count": 100,
   "metadata": {},
   "outputs": [
    {
     "name": "stdout",
     "output_type": "stream",
     "text": [
      "ENTER testReadFile7()...\n",
      "reading...\n",
      "data read => \n",
      "['This is first line of text file\\n', 'This is second line of text file\\n', '1 2 3 4 5 6 7 8 9 10 \\n', '2 4 6 8 10 12 14 16 18 20 \\n', '3 6 9 12 15 18 21 24 27 30 \\n', '4 8 12 16 20 24 28 32 36 40 \\n', '5 10 15 20 25 30 35 40 45 50 \\n']\n",
      "File is closed? => True\n",
      ".EXIT testReadFile7().\n"
     ]
    }
   ],
   "source": [
    "def testReadFile7():\n",
    "    print(\"ENTER testReadFile7()...\")\n",
    "\n",
    "    read_data = []\n",
    "    with open('testfile.txt') as fin:\n",
    "        print(\"reading...\")\n",
    "        read_data = list(fin)\n",
    "        print(\"data read => \\n\" + str(read_data))\n",
    "\n",
    "    print(\"File is closed? => \" + str(fin.closed))    \n",
    "    print(\".EXIT testReadFile7().\")\n",
    "\n",
    "testReadFile7()"
   ]
  },
  {
   "cell_type": "markdown",
   "metadata": {},
   "source": [
    "### `f.seek()`, `f.tell()`\n",
    "- `f.tell()` returns an integer giving the file object’s current position in the file represented as number of bytes from the beginning of the file when in binary mode and an opaque number when in text mode.  \n",
    "- To change the file object’s position, use `f.seek(offset, whence)`. The position is computed from adding offset to a reference point; the reference point is selected by the whence argument. \n",
    "  - A whence value of 0 measures from the beginning of the file,\n",
    "  - 1 uses the current file position, and\n",
    "  - 2 uses the end of the file as the reference point.  \n",
    "- whence can be omitted and defaults to 0, using the beginning of the file as the reference point.\n",
    "- In text files (those opened without a `b` in the mode string), only seeks relative to the beginning of the file are allowed (the exception being seeking to the very file end with `seek(0, 2)`) and the only valid offset values are those returned from the `f.tell()`, or zero. Any other offset value produces undefined behaviour.\n",
    "- File objects have some additional methods, such as `isatty()` and `truncate()` which are less frequently used; consult the Library Reference for a complete guide to file objects."
   ]
  },
  {
   "cell_type": "code",
   "execution_count": 148,
   "metadata": {},
   "outputs": [
    {
     "name": "stdout",
     "output_type": "stream",
     "text": [
      "ENTER testReadFile8()...\n",
      "== File Object's position = 0 ==\n",
      "This \n",
      "== File Object's position = 40 ==\n",
      "secon\n",
      "== File Object's position = 8 ==\n",
      "first\n",
      "== File Object's position = 65 ==\n",
      "1 2 3\n",
      "== File Object's position = 70 ==\n",
      " 4 5 \n",
      "== File Object's position = 201 ==\n",
      "\n",
      "File is closed? => False\n",
      ".EXIT testReadFile8().\n"
     ]
    }
   ],
   "source": [
    "def testReadFile8():\n",
    "    print(\"ENTER testReadFile8()...\")\n",
    "\n",
    "    with open('testfile.txt','r') as fin:   # TEXT mode\n",
    "\n",
    "                       # initially, position is 0\n",
    "        print(\"== File Object's position = \" + str(fin.tell()) + \" ==\")\n",
    "        read_data = fin.read(5) \n",
    "        print(read_data)\n",
    "\n",
    "        fin.seek(40)    # seek to offset 40 from beginning of file\n",
    "        print(\"== File Object's position = \" + str(fin.tell()) + \" ==\")\n",
    "        read_data = fin.read(5)\n",
    "        print(read_data)\n",
    "\n",
    "        fin.seek(8)     # seek to offset 8 from beginning of file\n",
    "                        # JUMP BACKWARD IS OKAY       \n",
    "        print(\"== File Object's position = \" + str(fin.tell()) + \" ==\")\n",
    "        read_data = fin.read(5)\n",
    "        print(read_data)\n",
    "\n",
    "        fin.seek(65, 0) # seek to offset 65 from beginning of file (whence equals 0)\n",
    "                        # whence equals 0 is the default\n",
    "        print(\"== File Object's position = \" + str(fin.tell()) + \" ==\")\n",
    "        read_data = fin.read(5)\n",
    "        print(read_data)\n",
    "\n",
    "        fin.seek(0,1)   # seek to offset 0 from current position (whence equals 1)\n",
    "                        # i.e. NOT DOING ANYTHING\n",
    "        print(\"== File Object's position = \" + str(fin.tell()) + \" ==\")\n",
    "        read_data = fin.read(5)\n",
    "        print(read_data)\n",
    "\n",
    "        fin.seek(0,2)  # seek to offset 0 before end of file (whence equals 2)\n",
    "        print(\"== File Object's position = \" + str(fin.tell()) + \" ==\")\n",
    "        read_data = fin.read(5)\n",
    "        print(read_data)\n",
    "\n",
    "        print(\"File is closed? => \" + str(fin.closed))    \n",
    "    print(\".EXIT testReadFile8().\")\n",
    "\n",
    "testReadFile8()"
   ]
  },
  {
   "cell_type": "markdown",
   "metadata": {},
   "source": [
    "**Only valid for BINARY MODE**"
   ]
  },
  {
   "cell_type": "code",
   "execution_count": 151,
   "metadata": {},
   "outputs": [
    {
     "name": "stdout",
     "output_type": "stream",
     "text": [
      "ENTER testReadFile9()...\n",
      "== File Object's position = 35 ==\n",
      "== File Object's position = 40 ==\n",
      "b'secon'\n",
      "== File Object's position = 8 ==\n",
      "b'first'\n",
      "== File Object's position = 191 ==\n",
      "b'40 45'\n",
      "File is closed? => False\n",
      ".EXIT testReadFile9().\n"
     ]
    }
   ],
   "source": [
    "def testReadFile9():\n",
    "    print(\"ENTER testReadFile9()...\")\n",
    "\n",
    "    with open('testfile.txt','rb') as fin:   # BINARY mode\n",
    "\n",
    "        fin.seek(35)    # seek to offset 35 from beginning of file        \n",
    "        print(\"== File Object's position = \" + str(fin.tell()) + \" ==\")\n",
    "        \n",
    "        fin.seek(5,1)   # seek to offset 5 from current position (whence equals 1)\n",
    "        print(\"== File Object's position = \" + str(fin.tell()) + \" ==\")\n",
    "        read_data = fin.read(5)\n",
    "        print(read_data)\n",
    "\n",
    "        fin.seek(-37,1)   # seek to offset -37 from current position (whence equals 1)\n",
    "        print(\"== File Object's position = \" + str(fin.tell()) + \" ==\")\n",
    "        read_data = fin.read(5)\n",
    "        print(read_data)\n",
    "\n",
    "        fin.seek(-10,2)  # seek to offset -10 before end of file (whence equals 2)\n",
    "        print(\"== File Object's position = \" + str(fin.tell()) + \" ==\")\n",
    "        read_data = fin.read(5)\n",
    "        print(read_data)\n",
    "        \n",
    "        print(\"File is closed? => \" + str(fin.closed))    \n",
    "    print(\".EXIT testReadFile9().\")\n",
    "\n",
    "testReadFile9()        "
   ]
  },
  {
   "cell_type": "markdown",
   "metadata": {},
   "source": [
    "### Saving structured data with `json`"
   ]
  },
  {
   "cell_type": "markdown",
   "metadata": {},
   "source": [
    "- JSON (JavaScript Object Notation)  \n",
    "  https://www.json.org/json-en.html\n",
    "- Python's standard module  \n",
    "  https://docs.python.org/3/library/json.html#module-json\n",
    "- `dump()` serializes the object to a text file\n",
    "- `load()` deserializes object from a text file"
   ]
  },
  {
   "cell_type": "code",
   "execution_count": 163,
   "metadata": {},
   "outputs": [
    {
     "name": "stdout",
     "output_type": "stream",
     "text": [
      "([['cat', 'dog', 'rabbit'], [1, 3, 6, 8, 7, 4]], (5, 6, 7, 1))\n",
      "[['cat', 'dog', 'rabbit'], [1, 3, 6, 8, 7, 4]]\n",
      "(5, 6, 7, 1)\n",
      "rabbit\n",
      "7\n",
      "[[[\"cat\", \"dog\", \"rabbit\"], [1, 3, 6, 8, 7, 4]], [5, 6, 7, 1]]\n",
      "[[['cat', 'dog', 'rabbit'], [1, 3, 6, 8, 7, 4]], [5, 6, 7, 1]]\n",
      "[['cat', 'dog', 'rabbit'], [1, 3, 6, 8, 7, 4]]\n",
      "[5, 6, 7, 1]\n",
      "rabbit\n",
      "7\n"
     ]
    }
   ],
   "source": [
    "import json\n",
    "\n",
    "myPets = [\"cat\", \"dog\", \"rabbit\"]\n",
    "myData = [1, 3, 6, 8, 7, 4]\n",
    "x = [myPets, myData]\n",
    "y = 5, 6, 7, 1\n",
    "z = x, y\n",
    "print(z)\n",
    "print(z[0])\n",
    "print(z[1])\n",
    "print(z[0][0][2])\n",
    "print(z[1][2])\n",
    "\n",
    "myStr = json.dumps(z)\n",
    "print(myStr)\n",
    "\n",
    "with open('testjson.txt', 'w') as fout:\n",
    "    json.dump(z, fout)\n",
    "\n",
    "with open('testjson.txt', 'r') as fin:\n",
    "    read_data = json.load(fin)\n",
    "\n",
    "print(read_data)\n",
    "print(read_data[0])\n",
    "print(read_data[1])\n",
    "print(read_data[0][0][2])\n",
    "print(read_data[1][2])\n",
    "    "
   ]
  },
  {
   "cell_type": "markdown",
   "metadata": {},
   "source": [
    "### See also:  \n",
    "- pickle — Python object serialization\n",
    "  https://docs.python.org/3/library/pickle.html#module-pickle  \n",
    "\n",
    "Contrary to `JSON`, `pickle` is a protocol which allows the serialization of arbitrarily complex Python objects. As such, it is specific to Python and cannot be used to communicate with applications written in other languages. It is also insecure by default: deserializing pickle data coming from an untrusted source can execute arbitrary code, if the data was crafted by a skilled attacker.  "
   ]
  },
  {
   "cell_type": "markdown",
   "metadata": {},
   "source": [
    "# END OF The Python Tutorial -> Input & Output"
   ]
  }
 ],
 "metadata": {
  "kernelspec": {
   "display_name": "Python 3",
   "language": "python",
   "name": "python3"
  },
  "language_info": {
   "codemirror_mode": {
    "name": "ipython",
    "version": 3
   },
   "file_extension": ".py",
   "mimetype": "text/x-python",
   "name": "python",
   "nbconvert_exporter": "python",
   "pygments_lexer": "ipython3",
   "version": "3.8.1"
  }
 },
 "nbformat": 4,
 "nbformat_minor": 4
}
