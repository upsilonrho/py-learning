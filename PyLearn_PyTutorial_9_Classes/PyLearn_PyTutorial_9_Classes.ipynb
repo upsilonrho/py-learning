{
 "cells": [
  {
   "cell_type": "markdown",
   "metadata": {},
   "source": [
    "# <center>Learning Python</center>\n",
    "# The Python Tutorial -> Classes\n",
    "Link: https://docs.python.org/3/tutorial/classes.html"
   ]
  },
  {
   "cell_type": "markdown",
   "metadata": {},
   "source": [
    "- Creating a new class creates a new type of object, allowing new instances of that type to be made.\n",
    "- Each class instance can have **attributes** attached to it for maintaining its state. Class instances can also have **methods** (defined by its class) for modifying its state. \n",
    "<p>\n",
    "- It is a mixture of the class mechanisms found in C++ and Modula-3.\n",
    "- Python classes provide all the standard features of Object Oriented Programming: \n",
    "  - the class inheritance mechanism allows **multiple base classes**,\n",
    "  - a derived class can override any methods of its base class or classes, and\n",
    "  - a method can call the method of a base class with the same name.\n",
    "- Objects can contain arbitrary amounts and kinds of data. As is true for modules, classes partake of the dynamic nature of Python:\n",
    "  - they are created at runtime, and\n",
    "  - can be modified further after creation.\n",
    "<p>\n",
    "- In C++ terminology, normally class members (including the data members) are public (except see below Private Variables), and **all member functions are virtual**.\n",
    "- As in Modula-3, there are no shorthands for referencing the object’s members from its methods:\n",
    "  - the method function is declared with an explicit first argument representing the object, which is provided implicitly by the call.\n",
    "- As in Smalltalk, classes themselves are objects. This provides semantics for importing and renaming.\n",
    "- Unlike C++ and Modula-3, built-in types can be used as base classes for extension by the user. \n",
    "- Also, like in C++, most built-in operators with special syntax (arithmetic operators, subscripting etc.) can be redefined for class instances."
   ]
  },
  {
   "cell_type": "markdown",
   "metadata": {},
   "source": [
    "## A Word About Names and Objects"
   ]
  },
  {
   "cell_type": "markdown",
   "metadata": {},
   "source": [
    "- Objects have individuality, and multiple names (in multiple scopes) can be bound to the same object. This is known as **aliasing** in other languages. This is usually not appreciated on a first glance at Python, and can be safely ignored when dealing with immutable basic types (numbers, strings, tuples). However, aliasing has a possibly surprising effect on the semantics of Python code involving mutable objects such as lists, dictionaries, and most other types. \n",
    "- This is usually used to the benefit of the program, since **aliases behave like pointers** in some respects. For example, passing an object is cheap since only a pointer is passed by the implementation; and **if a function modifies an object passed as an argument, the caller will see the change** — this eliminates the need for two different argument passing mechanisms as in Pascal."
   ]
  },
  {
   "cell_type": "markdown",
   "metadata": {},
   "source": [
    "## Python Scopes and Namespaces"
   ]
  },
  {
   "cell_type": "markdown",
   "metadata": {},
   "source": [
    "- A **namespace** is a mapping from names to objects. **Most namespaces are currently implemented as Python dictionaries**, but that’s normally not noticeable in any way (except for performance), and it may change in the future. \n",
    "- **Examples** of namespaces are: the set of built-in names (containing functions such as abs(), and built-in exception names); the global names in a module; and the local names in a function invocation. \n",
    "- In a sense the set of attributes of an object also form a namespace. The important thing to know about namespaces is that **there is absolutely no relation between names in different namespaces**; for instance, two different modules may both define a function `maximize` without confusion — users of the modules must prefix it with the module name.\n",
    "<p>\n",
    "- Strictly speaking, **references to names in modules are attribute references**: in the expression `modname.funcname`, `modname` is a module object and `funcname` is an attribute of it. In this case there happens to be a straightforward mapping between the module's attributes and the global names defined in the module: they share the same namespace!\n",
    "<p>\n",
    "- Attributes may be read-only or writable. In the latter case, assignment to attributes is possible. Module attributes are writable: you can write `modname.the_answer=42`. \n",
    "Writable attributes may also be deleted with the `del` statement. For example, `del modname.the_answer` will remove the attribute `the_answer` from the object named by `modname`.\n",
    "<p>\n",
    "- Namespaces are created at different moments and have different **lifetimes**. The namespace containing the built-in names is created when the Python interpreter starts up, and is never deleted. The global namespace for a module is created when the module definition is read in; normally, module namespaces also last until the interpreter quits. The statements executed by the top-level invocation of the interpreter, either read from a script file or interactively, are considered part of a module called **`__main__`**, so they have their own global namespace. (The built-in names actually also live in a module; this is called **`builtins`^^.)\n",
    "<p>\n",
    "- The local namespace for a function is created when the function is called, and deleted when the function returns or raises an exception that is not handled within the function. (Actually, forgetting would be a better way to describe what actually happens.) Of course, recursive invocations each have their own local namespace.\n",
    "<p>\n",
    "- A **scope** is a textual region of a Python program where a namespace is directly accessible. “Directly accessible” here means that an unqualified reference to a name attempts to find the name in the namespace.\n",
    "<p>\n",
    "- Although **scopes are determined statically**, they are **used dynamically**. At any time during execution, there are at least three nested scopes whose namespaces are directly accessible:\n",
    "  - the **innermost scope**, which is searched first, contains the local names\n",
    "  - the **scopes of any enclosing functions**, which are searched starting with the nearest enclosing scope, contains non-local, but also non-global names\n",
    "  - the **next-to-last scope** contains the current module’s global names\n",
    "  - the outermost scope (searched last) is the namespace containing built-in names\n",
    "<p>\n",
    "- If a name is declared **global**, then all references and assignments go directly to the middle scope containing the module’s global names. To rebind variables found outside of the innermost scope, the nonlocal statement can be used; if not declared **`nonlocal`**, those variables are read-only (an attempt to write to such a variable will simply create a new local variable in the innermost scope, leaving the identically named outer variable unchanged).\n",
    "<p>\n",
    "- Usually, the local scope references the local names of the (textually) current function. Outside functions, the local scope references the same namespace as the global scope: the module’s namespace. Class definitions place yet another namespace in the local scope.\n",
    "<p>\n",
    "- It is important to realize that scopes are determined textually: the global scope of a function defined in a module is that module’s namespace, no matter from where or by what alias the function is called. On the other hand, the actual search for names is done dynamically, at run time — however, the language definition is evolving towards static name resolution, at “compile” time, so don’t rely on dynamic name resolution! (In fact, local variables are already determined statically.)\n",
    "<p>\n",
    "- A special quirk of Python is that – if no **`global`** or **`nonlocal`** statement is in effect – assignments to names always go into the innermost scope. **Assignments do not copy data — they just bind names to objects**. The same is true for deletions: the statement **`del x`** **removes the binding** of x from the namespace referenced by the local scope. In fact, **all operations that introduce new names use the local scope**: in particular, **`import`** statements and function definitions bind the module or function name in the local scope.\n",
    "<p>\n",
    "- The **`global`** statement can be used to indicate that particular variables live in the global scope and should be rebound there; the **`nonlocal`** statement indicates that particular variables live in an enclosing scope and should be rebound there."
   ]
  },
  {
   "cell_type": "markdown",
   "metadata": {},
   "source": [
    "### Scopes and Namespaces Example"
   ]
  },
  {
   "cell_type": "code",
   "execution_count": 2,
   "metadata": {},
   "outputs": [
    {
     "name": "stdout",
     "output_type": "stream",
     "text": [
      "After local assignment: test spam\n",
      "After nonlocal assignment: nonlocal spam\n",
      "After global assignment: nonlocal spam\n",
      "In global scope: global spam\n"
     ]
    }
   ],
   "source": [
    "def scope_test():\n",
    "    def do_local():\n",
    "        spam = \"local spam\"\n",
    "\n",
    "    def do_nonlocal():\n",
    "        nonlocal spam\n",
    "        spam = \"nonlocal spam\"\n",
    "\n",
    "    def do_global():\n",
    "        global spam\n",
    "        spam = \"global spam\"\n",
    "\n",
    "    spam = \"test spam\"\n",
    "    do_local()\n",
    "    print(\"After local assignment:\", spam)\n",
    "    do_nonlocal()\n",
    "    print(\"After nonlocal assignment:\", spam)\n",
    "    do_global()\n",
    "    print(\"After global assignment:\", spam)\n",
    "\n",
    "scope_test()\n",
    "print(\"In global scope:\", spam)"
   ]
  },
  {
   "cell_type": "markdown",
   "metadata": {},
   "source": [
    "> Note :\n",
    ">   - the local assignment (which is default) didn’t change scope_test’s binding of spam,  \n",
    ">   - the `nonlocal` assignment changed scope_test’s binding of spam, and\n",
    ">   - the `global` assignment changed the module-level binding.\n",
    ">\n",
    "> You can also see that there was no previous binding for spam before the `global` assignment."
   ]
  },
  {
   "cell_type": "markdown",
   "metadata": {},
   "source": [
    "## A First Look at Classes"
   ]
  },
  {
   "cell_type": "markdown",
   "metadata": {},
   "source": [
    "- When a **class definition** is left normally (via the end), a **class object** is created. \n",
    "- **Class objects** support two kinds of operations:\n",
    "  - **attribute references**\n",
    "  - **class instantiation**"
   ]
  },
  {
   "cell_type": "markdown",
   "metadata": {},
   "source": [
    "#### Attribute References"
   ]
  },
  {
   "cell_type": "code",
   "execution_count": 43,
   "metadata": {},
   "outputs": [
    {
     "name": "stdout",
     "output_type": "stream",
     "text": [
      "A simple example class\n",
      "12345\n"
     ]
    }
   ],
   "source": [
    "class MyClass:\n",
    "    \"\"\"A simple example class\"\"\"\n",
    "    i = 12345\n",
    "\n",
    "print(MyClass.__doc__)\n",
    "print(MyClass.i)"
   ]
  },
  {
   "cell_type": "markdown",
   "metadata": {},
   "source": [
    "#### Class Instantiation"
   ]
  },
  {
   "cell_type": "code",
   "execution_count": 46,
   "metadata": {},
   "outputs": [
    {
     "name": "stdout",
     "output_type": "stream",
     "text": [
      "A simple example class\n",
      "12345\n"
     ]
    }
   ],
   "source": [
    "class MyClass:\n",
    "    \"\"\"A simple example class\"\"\"\n",
    "    i = 12345\n",
    "\n",
    "m = MyClass()    # Class Instantiation\n",
    "print(m.__doc__)\n",
    "print(m.i)"
   ]
  },
  {
   "cell_type": "markdown",
   "metadata": {},
   "source": [
    "#### Examples"
   ]
  },
  {
   "cell_type": "code",
   "execution_count": 51,
   "metadata": {},
   "outputs": [
    {
     "name": "stdout",
     "output_type": "stream",
     "text": [
      "A simple example class\n",
      "12345\n",
      "new docstring\n",
      "747\n",
      "new docstring\n",
      "747\n"
     ]
    }
   ],
   "source": [
    "class MyClass:\n",
    "    \"\"\"A simple example class\"\"\"   # docstring\n",
    "    i = 12345\n",
    "\n",
    "d = MyClass.__doc__  # docstring\n",
    "j = MyClass.i\n",
    "print(d)\n",
    "print(j)\n",
    "\n",
    "MyClass.__doc__ = \"new docstring\"\n",
    "MyClass.i = 747\n",
    "print(MyClass.__doc__)\n",
    "print(MyClass.i)\n",
    "\n",
    "m = MyClass()\n",
    "print(m.__doc__)\n",
    "print(m.i)"
   ]
  },
  {
   "cell_type": "code",
   "execution_count": 80,
   "metadata": {},
   "outputs": [
    {
     "name": "stdout",
     "output_type": "stream",
     "text": [
      "hello MyClass1\n",
      "hello MyClass1\n"
     ]
    },
    {
     "ename": "TypeError",
     "evalue": "fun() takes 0 positional arguments but 1 was given",
     "output_type": "error",
     "traceback": [
      "\u001b[0;31m---------------------------------------------------------------------------\u001b[0m",
      "\u001b[0;31mTypeError\u001b[0m                                 Traceback (most recent call last)",
      "\u001b[0;32m<ipython-input-80-9aa35c691b6d>\u001b[0m in \u001b[0;36m<module>\u001b[0;34m\u001b[0m\n\u001b[1;32m     18\u001b[0m \u001b[0mm\u001b[0m \u001b[0;34m=\u001b[0m \u001b[0mMyClass2\u001b[0m\u001b[0;34m(\u001b[0m\u001b[0;34m)\u001b[0m\u001b[0;34m\u001b[0m\u001b[0;34m\u001b[0m\u001b[0m\n\u001b[1;32m     19\u001b[0m \u001b[0mf\u001b[0m \u001b[0;34m=\u001b[0m \u001b[0mm\u001b[0m\u001b[0;34m.\u001b[0m\u001b[0mfun\u001b[0m\u001b[0;34m\u001b[0m\u001b[0;34m\u001b[0m\u001b[0m\n\u001b[0;32m---> 20\u001b[0;31m \u001b[0ms\u001b[0m \u001b[0;34m=\u001b[0m \u001b[0mf\u001b[0m\u001b[0;34m(\u001b[0m\u001b[0;34m)\u001b[0m       \u001b[0;31m# ERROR!\u001b[0m\u001b[0;34m\u001b[0m\u001b[0;34m\u001b[0m\u001b[0m\n\u001b[0m\u001b[1;32m     21\u001b[0m \u001b[0mprint\u001b[0m\u001b[0;34m(\u001b[0m\u001b[0ms\u001b[0m\u001b[0;34m)\u001b[0m\u001b[0;34m\u001b[0m\u001b[0;34m\u001b[0m\u001b[0m\n",
      "\u001b[0;31mTypeError\u001b[0m: fun() takes 0 positional arguments but 1 was given"
     ]
    }
   ],
   "source": [
    "class MyClass1:\n",
    "    def fun(self):      # needs to have self as first argument\n",
    "        return 'hello MyClass1'\n",
    "\n",
    "class MyClass2:\n",
    "    def fun():\n",
    "        return 'hello MyClass2'\n",
    "\n",
    "m = MyClass1()\n",
    "s = m.fun()\n",
    "print(s)\n",
    "\n",
    "m = MyClass1()\n",
    "f = m.fun\n",
    "s = f()      # ok\n",
    "print(s)\n",
    "\n",
    "m = MyClass2()\n",
    "f = m.fun\n",
    "s = f()       # ERROR!\n",
    "print(s)"
   ]
  },
  {
   "cell_type": "code",
   "execution_count": 50,
   "metadata": {},
   "outputs": [
    {
     "name": "stdout",
     "output_type": "stream",
     "text": [
      "hello world\n",
      "hello world\n",
      "hello world\n",
      "<function MyClass.fun at 0x7ff4f069eca0>\n",
      "hello world\n",
      "new function\n",
      "new function\n",
      "new function\n",
      "<function newfun at 0x7ff4f06b99d0>\n",
      "new function\n"
     ]
    }
   ],
   "source": [
    "class MyClass:\n",
    "    def fun(self):\n",
    "        return 'hello world'\n",
    "\n",
    "m = MyClass()\n",
    "s = m.fun()\n",
    "print(s)\n",
    "\n",
    "s = MyClass.fun(m)\n",
    "print(s)\n",
    "s = MyClass.fun(MyClass)\n",
    "print(s)\n",
    "g = MyClass.fun\n",
    "print(g)\n",
    "s = g(MyClass)\n",
    "print(s)\n",
    "\n",
    "def newfun(self):\n",
    "    return \"new function\"\n",
    "\n",
    "MyClass.fun = newfun\n",
    "\n",
    "m = MyClass()\n",
    "s = m.fun()\n",
    "print(s)\n",
    "\n",
    "s = MyClass.fun(m)\n",
    "print(s)\n",
    "s = MyClass.fun(MyClass)\n",
    "print(s)\n",
    "g = MyClass.fun\n",
    "print(g)\n",
    "s = g(MyClass)\n",
    "print(s)"
   ]
  },
  {
   "cell_type": "code",
   "execution_count": 53,
   "metadata": {},
   "outputs": [
    {
     "name": "stdout",
     "output_type": "stream",
     "text": [
      "[4, 'rabbit', 'apple']\n"
     ]
    }
   ],
   "source": [
    "class MyList:\n",
    "    \"\"\"My own list class\"\"\"\n",
    "    def __init__(self):\n",
    "        self.data = []\n",
    "        \n",
    "    def add(self, item):\n",
    "        self.data.append(item)\n",
    "\n",
    "    def show(self):\n",
    "        print(self.data)\n",
    "\n",
    "mylist = MyList()\n",
    "mylist.add(4)\n",
    "mylist.add(\"rabbit\")\n",
    "mylist.add(\"apple\")\n",
    "mylist.show()"
   ]
  },
  {
   "cell_type": "code",
   "execution_count": 60,
   "metadata": {},
   "outputs": [
    {
     "name": "stdout",
     "output_type": "stream",
     "text": [
      "< 3 + 4i >\n",
      "< -8 + 2i >\n",
      "< 7 - 1i >\n"
     ]
    }
   ],
   "source": [
    "class Complex:\n",
    "    \"\"\"My own complex number class\"\"\"\n",
    "    def __init__(self, realpart, imagpart):\n",
    "        self.r = realpart\n",
    "        self.i = imagpart\n",
    "    def show(self):\n",
    "        r = self.r\n",
    "        i = self.i\n",
    "        adder = \" + \"\n",
    "        if i < 0:\n",
    "            adder = \" - \"\n",
    "            i = -i\n",
    "        print(\"< \" + str(r) + adder + str(i) + \"i >\")\n",
    "\n",
    "c1 = Complex(3,4)\n",
    "c1.show()\n",
    "c2 = Complex(-8,2)\n",
    "c2.show()\n",
    "c3 = Complex(7,-1)\n",
    "c3.show()"
   ]
  },
  {
   "cell_type": "markdown",
   "metadata": {},
   "source": [
    "#### Instance Objects\n",
    "The only operations understood by **instance objects** are **attribute references**.\n",
    "There are two kinds of valid **attribute names**:\n",
    "- **data attributes**\n",
    "  - correspond to “instance variables” in Smalltalk, and to “data members” in C++\n",
    "- **methods**\n",
    "  -  function that “belongs to” an object "
   ]
  },
  {
   "cell_type": "markdown",
   "metadata": {},
   "source": [
    "**data attributes** need not be declared; like local variables, they **spring into existence** when they are first assigned to."
   ]
  },
  {
   "cell_type": "code",
   "execution_count": 203,
   "metadata": {},
   "outputs": [
    {
     "name": "stdout",
     "output_type": "stream",
     "text": [
      "321\n",
      "564\n"
     ]
    },
    {
     "ename": "AttributeError",
     "evalue": "i",
     "output_type": "error",
     "traceback": [
      "\u001b[0;31m---------------------------------------------------------------------------\u001b[0m",
      "\u001b[0;31mAttributeError\u001b[0m                            Traceback (most recent call last)",
      "\u001b[0;32m<ipython-input-203-1c8047c279c5>\u001b[0m in \u001b[0;36m<module>\u001b[0;34m\u001b[0m\n\u001b[1;32m     10\u001b[0m \u001b[0;32mdel\u001b[0m \u001b[0mm\u001b[0m\u001b[0;34m.\u001b[0m\u001b[0mj\u001b[0m    \u001b[0;31m# can be deleted, reference to this after this would produce error\u001b[0m\u001b[0;34m\u001b[0m\u001b[0;34m\u001b[0m\u001b[0m\n\u001b[1;32m     11\u001b[0m \u001b[0;34m\u001b[0m\u001b[0m\n\u001b[0;32m---> 12\u001b[0;31m \u001b[0;32mdel\u001b[0m \u001b[0mm\u001b[0m\u001b[0;34m.\u001b[0m\u001b[0mi\u001b[0m    \u001b[0;31m# cannot be deleted\u001b[0m\u001b[0;34m\u001b[0m\u001b[0;34m\u001b[0m\u001b[0m\n\u001b[0m",
      "\u001b[0;31mAttributeError\u001b[0m: i"
     ]
    }
   ],
   "source": [
    "class MyClass:\n",
    "    i = 321\n",
    "\n",
    "m = MyClass()\n",
    "print(m.i)\n",
    "\n",
    "m.j = 564  # data attribute m.j spring into existence when it is first assigned to\n",
    "print(m.j)\n",
    "\n",
    "del m.j    # can be deleted, reference to this after this would produce error\n",
    "\n",
    "del m.i    # cannot be deleted"
   ]
  },
  {
   "cell_type": "markdown",
   "metadata": {},
   "source": [
    "#### Method Objects\n",
    "Can be stored away and called at a later time.  \n",
    "Instance object is passed as the first argument of the function.\n",
    "#### IMPORTANT: The call `x.f()` is exactly equivalent to `MyClass.f(x)`. "
   ]
  },
  {
   "cell_type": "code",
   "execution_count": 86,
   "metadata": {},
   "outputs": [
    {
     "name": "stdout",
     "output_type": "stream",
     "text": [
      "hello MyClass\n",
      "hello MyClass\n"
     ]
    },
    {
     "ename": "TypeError",
     "evalue": "fun() missing 1 required positional argument: 'self'",
     "output_type": "error",
     "traceback": [
      "\u001b[0;31m---------------------------------------------------------------------------\u001b[0m",
      "\u001b[0;31mTypeError\u001b[0m                                 Traceback (most recent call last)",
      "\u001b[0;32m<ipython-input-86-5c9634146fc6>\u001b[0m in \u001b[0;36m<module>\u001b[0;34m\u001b[0m\n\u001b[1;32m     13\u001b[0m \u001b[0;34m\u001b[0m\u001b[0m\n\u001b[1;32m     14\u001b[0m \u001b[0mf\u001b[0m \u001b[0;34m=\u001b[0m \u001b[0mMyClass\u001b[0m\u001b[0;34m.\u001b[0m\u001b[0mfun\u001b[0m \u001b[0;31m# MyClass.fun is a FUNCTION OBJECT, but not METHOD OBJECT !!\u001b[0m\u001b[0;34m\u001b[0m\u001b[0;34m\u001b[0m\u001b[0m\n\u001b[0;32m---> 15\u001b[0;31m \u001b[0ms\u001b[0m \u001b[0;34m=\u001b[0m \u001b[0mf\u001b[0m\u001b[0;34m(\u001b[0m\u001b[0;34m)\u001b[0m         \u001b[0;31m# ERROR!!\u001b[0m\u001b[0;34m\u001b[0m\u001b[0;34m\u001b[0m\u001b[0m\n\u001b[0m\u001b[1;32m     16\u001b[0m \u001b[0mprint\u001b[0m\u001b[0;34m(\u001b[0m\u001b[0ms\u001b[0m\u001b[0;34m)\u001b[0m\u001b[0;34m\u001b[0m\u001b[0;34m\u001b[0m\u001b[0m\n",
      "\u001b[0;31mTypeError\u001b[0m: fun() missing 1 required positional argument: 'self'"
     ]
    }
   ],
   "source": [
    "class MyClass:\n",
    "    def fun(self):      # needs to have self as first argument\n",
    "        return 'hello MyClass'\n",
    "\n",
    "m = MyClass()\n",
    "s = m.fun()\n",
    "print(s)\n",
    "\n",
    "m = MyClass()\n",
    "f = m.fun       # m.fun is a METHOD OBJECT !!\n",
    "s = f()         # ok\n",
    "print(s)\n",
    "\n",
    "f = MyClass.fun # MyClass.fun is a FUNCTION OBJECT, but not METHOD OBJECT !!\n",
    "s = f()         # ERROR!!\n",
    "print(s)"
   ]
  },
  {
   "cell_type": "markdown",
   "metadata": {},
   "source": [
    "#### Class and Instance Variables\n",
    "**instance variables** are for data unique to each instance  \n",
    "**class variables** are for attributes and methods shared by all instances of the class"
   ]
  },
  {
   "cell_type": "code",
   "execution_count": 141,
   "metadata": {},
   "outputs": [
    {
     "name": "stdout",
     "output_type": "stream",
     "text": [
      "canine\n",
      "canine\n",
      "Fido\n",
      "Buddy\n",
      "wolf\n",
      "canine\n",
      "canine\n",
      "canine\n",
      "canine\n",
      "canine\n"
     ]
    }
   ],
   "source": [
    "class Dog:\n",
    "\n",
    "    kind = 'canine'         # class variable shared by all instances\n",
    "\n",
    "    def __init__(self, name):\n",
    "        self.name = name    # instance variable unique to each instance\n",
    "\n",
    "    def f():\n",
    "        kind = \"mammal\"\n",
    "        \n",
    "d = Dog('Fido')\n",
    "e = Dog('Buddy')        \n",
    "print( d.kind )                  # shared by all dogs\n",
    "print( e.kind )                  # shared by all dogs\n",
    "print( d.name )                  # unique to d\n",
    "print( e.name )                  # unique to e\n",
    "\n",
    "d.kind = 'wolf'   # local version\n",
    "print( d.kind )                  # returns 'wolf' \n",
    "print( e.kind )                  # returns 'canine'\n",
    "print( Dog.kind )                # returns 'canine'\n",
    "\n",
    "del d.kind        # delete local version\n",
    "print( d.kind )                  # returns 'canine'\n",
    "print( e.kind )                  # returns 'canine'\n",
    "print( Dog.kind )                # returns 'canine'"
   ]
  },
  {
   "cell_type": "markdown",
   "metadata": {},
   "source": [
    "**WRONG DESIGN!!**"
   ]
  },
  {
   "cell_type": "code",
   "execution_count": 95,
   "metadata": {},
   "outputs": [
    {
     "name": "stdout",
     "output_type": "stream",
     "text": [
      "['roll over', 'play dead']\n",
      "['roll over', 'play dead']\n"
     ]
    }
   ],
   "source": [
    "class Dog:\n",
    "\n",
    "    tricks = []             # mistaken use of a class variable\n",
    "\n",
    "    def __init__(self, name):\n",
    "        self.name = name\n",
    "\n",
    "    def add_trick(self, trick):\n",
    "        self.tricks.append(trick)\n",
    "\n",
    "d = Dog('Fido')\n",
    "e = Dog('Buddy')\n",
    "d.add_trick('roll over')\n",
    "e.add_trick('play dead')\n",
    "print( d.tricks )             # unexpectedly shared by all dogs\n",
    "print( e.tricks )             # unexpectedly shared by all dogs"
   ]
  },
  {
   "cell_type": "markdown",
   "metadata": {},
   "source": [
    "**CORRECT DESIGN!!**"
   ]
  },
  {
   "cell_type": "code",
   "execution_count": 97,
   "metadata": {},
   "outputs": [
    {
     "name": "stdout",
     "output_type": "stream",
     "text": [
      "['roll over']\n",
      "['play dead']\n"
     ]
    }
   ],
   "source": [
    "class Dog:\n",
    "\n",
    "    def __init__(self, name):\n",
    "        self.name = name\n",
    "        self.tricks = []    # creates a new empty list for each dog\n",
    "\n",
    "    def add_trick(self, trick):\n",
    "        self.tricks.append(trick)\n",
    "\n",
    "d = Dog('Fido')\n",
    "e = Dog('Buddy')\n",
    "d.add_trick('roll over')\n",
    "e.add_trick('play dead')\n",
    "print( d.tricks )\n",
    "print( e.tricks )"
   ]
  },
  {
   "cell_type": "markdown",
   "metadata": {},
   "source": [
    "## Random Remarks"
   ]
  },
  {
   "cell_type": "markdown",
   "metadata": {},
   "source": [
    "If the same attribute name occurs in both an instance and in a class, then **attribute lookup prioritizes the instance**"
   ]
  },
  {
   "cell_type": "code",
   "execution_count": 98,
   "metadata": {},
   "outputs": [
    {
     "name": "stdout",
     "output_type": "stream",
     "text": [
      "storage west\n",
      "storage east\n"
     ]
    }
   ],
   "source": [
    "class Warehouse:\n",
    "     purpose = 'storage'\n",
    "     region = 'west'\n",
    "\n",
    "w1 = Warehouse()\n",
    "print(w1.purpose, w1.region)\n",
    "\n",
    "w2 = Warehouse()\n",
    "w2.region = 'east'\n",
    "print(w2.purpose, w2.region)\n"
   ]
  },
  {
   "cell_type": "markdown",
   "metadata": {},
   "source": [
    "- Data attributes may be referenced by methods as well as by ordinary users (“clients”) of an object. In other words, **classes are not usable to implement pure abstract data types**. In fact, **nothing in Python makes it possible to enforce data hiding** — it is all based upon convention. (On the other hand, the Python implementation, written in C, can completely hide implementation details and control access to an object if necessary; this can be used by extensions to Python written in C.)\n",
    "<p>\n",
    "- Clients should use data attributes with care — **clients may mess up invariants maintained by the methods** by stamping on their data attributes. Note that **clients may add data attributes of their own to an instance object without affecting the validity of the methods**, as long as name conflicts are avoided — again, a naming convention can save a lot of headaches here.\n",
    "<p>\n",
    "- There is **no shorthand for referencing data attributes** (or other methods!) from within methods. I find that this actually increases the readability of methods: there is **no chance of confusing local variables and instance variables** when glancing through a method.\n",
    "<p>\n",
    "- Often, the first argument of a method is called **self**. This is **nothing more than a convention**: **the name self has absolutely no special meaning to Python**. Note, however, that by not following the convention your code may be less readable to other Python programmers, and it is also conceivable that **a class browser program might be written that relies upon such a convention**."
   ]
  },
  {
   "cell_type": "markdown",
   "metadata": {},
   "source": [
    "Any function object that is a class attribute defines a method for instances of that class. It is not necessary that the function definition is textually enclosed in the class definition: assigning a function object to a local variable in the class is also ok. For example:"
   ]
  },
  {
   "cell_type": "code",
   "execution_count": 101,
   "metadata": {},
   "outputs": [
    {
     "name": "stdout",
     "output_type": "stream",
     "text": [
      "-1\n",
      "hello world\n",
      "hello world\n"
     ]
    }
   ],
   "source": [
    "# Function defined outside the class\n",
    "def f1(self, x, y):\n",
    "    return min(x, x+y)\n",
    "\n",
    "class C:\n",
    "    f = f1\n",
    "\n",
    "    def g(self):\n",
    "        return 'hello world'\n",
    "\n",
    "    h = g\n",
    "\n",
    "c = C()\n",
    "print( c.f(5,-6) )\n",
    "print( c.g() )\n",
    "print( c.h() )"
   ]
  },
  {
   "cell_type": "markdown",
   "metadata": {},
   "source": [
    "> Now f, g and h are all **attributes** of class C that **refer to function objects**, and consequently they are all **methods of instances** of C"
   ]
  },
  {
   "cell_type": "markdown",
   "metadata": {},
   "source": [
    "Methods may call other methods by using method attributes of the **self** argument:"
   ]
  },
  {
   "cell_type": "code",
   "execution_count": 109,
   "metadata": {},
   "outputs": [
    {
     "name": "stdout",
     "output_type": "stream",
     "text": [
      "[4, 6, 6]\n",
      "<class 'type'>\n",
      "<class '__main__.Bag'>\n"
     ]
    }
   ],
   "source": [
    "class Bag:\n",
    "    def __init__(self):\n",
    "        self.data = []\n",
    "\n",
    "    def add(self, x):\n",
    "        self.data.append(x)\n",
    "\n",
    "    def addtwice(self, x):\n",
    "        self.add(x)\n",
    "        self.add(x)\n",
    "\n",
    "b = Bag()\n",
    "b.add(4)\n",
    "b.addtwice(6)\n",
    "print(b.data)\n",
    "\n",
    "print(Bag.__class__)\n",
    "print(b.__class__)"
   ]
  },
  {
   "cell_type": "markdown",
   "metadata": {},
   "source": [
    "## Inheritance"
   ]
  },
  {
   "cell_type": "markdown",
   "metadata": {},
   "source": [
    "Given:\n",
    "```\n",
    "class DerivedClassName(BaseClassName):\n",
    "    <statement-1>\n",
    "    .\n",
    "    .\n",
    "    .\n",
    "    <statement-N>\n",
    "```\n",
    "- Execution of a derived class definition proceeds the same as for a base class. When the class object is constructed, the base class is remembered. This is used for resolving attribute references: if a requested attribute is not found in the class, the search proceeds to look in the base class. This rule is applied recursively if the base class itself is derived from some other class.\n",
    "<p>\n",
    "- There’s nothing special about instantiation of derived classes: `DerivedClassName()` creates a new instance of the class. Method references are resolved as follows: the corresponding class attribute is searched, descending down the chain of base classes if necessary, and the method reference is valid if this yields a function object.\n",
    "<p>\n",
    "- Derived classes may override methods of their base classes. Because methods have no special privileges when calling other methods of the same object, a method of a base class that calls another method defined in the same base class may end up calling a method of a derived class that overrides it. (**For C++ programmers: all methods in Python are effectively `virtual`.**)\n",
    "<p>\n",
    "- An overriding method in a derived class may in fact want to extend rather than simply replace the base class method of the same name. There is a simple way to call the base class method directly: just call `BaseClassName.methodname(self, arguments)`. This is occasionally useful to clients as well. (Note that this only works if the base class is accessible as `BaseClassName` in the global scope.)\n",
    "<p>\n",
    "- Python has two built-in functions that work with inheritance:\n",
    "  - Use `isinstance()` to check an instance’s type: `isinstance(obj, int)` will be `True` only if `obj.__class__` is `int` or some class derived from `int`.\n",
    "  - Use `issubclass()` to check class inheritance: `issubclass(bool, int)` is `True` since `bool` is a subclass of `int`. However, `issubclass(float, int)` is `False` since `float` is not a subclass of `int`.    "
   ]
  },
  {
   "cell_type": "markdown",
   "metadata": {},
   "source": [
    "### Multiple Inheritance\n",
    "Given:\n",
    "```\n",
    "class DerivedClassName(Base1, Base2, Base3):\n",
    "    <statement-1>\n",
    "    .\n",
    "    .\n",
    "    .\n",
    "    <statement-N>\n",
    "```\n",
    "- For most purposes, in the simplest cases, you can think of the search for attributes inherited from a parent class as depth-first, left-to-right, not searching twice in the same class where there is an overlap in the hierarchy. Thus, if an attribute is not found in `DerivedClassName`, it is searched for in `Base1`, then (recursively) in the base classes of `Base1`, and if it was not found there, it was searched for in `Base2`, and so on.\n",
    "<p>\n",
    "- In fact, it is slightly more complex than that; the method resolution order changes dynamically to support cooperative calls to `super()`. This approach is known in some other multiple-inheritance languages as call-next-method and is more powerful than the super call found in single-inheritance languages.\n",
    "<p>\n",
    "- Dynamic ordering is necessary because **all cases of multiple inheritance exhibit one or more diamond relationships** (where at least one of the parent classes can be accessed through multiple paths from the bottommost class). For example, all classes inherit from `object`, so any case of multiple inheritance provides more than one path to reach `object`. To keep the base classes from being accessed more than once, the dynamic algorithm linearizes the search order in a way that preserves the left-to-right ordering specified in each class, that calls each parent only once, and that is monotonic (meaning that a class can be subclassed without affecting the precedence order of its parents). Taken together, these properties make it possible to design reliable and extensible classes with multiple inheritance. For more detail, see https://www.python.org/download/releases/2.3/mro/."
   ]
  },
  {
   "cell_type": "markdown",
   "metadata": {},
   "source": [
    "## Private Variables"
   ]
  },
  {
   "cell_type": "markdown",
   "metadata": {},
   "source": [
    "- **“Private”** instance variables that cannot be accessed except from inside an object **don’t exist in Python**. However, there is a **convention** that is followed by most Python code: a **name prefixed with an underscore** (e.g. _spam) should be treated as a non-public part of the API (whether it is a function, a method or a data member). It should be considered an implementation detail and subject to change without notice.\n",
    "<p>\n",
    "- Since there is a **valid use-case for class-private members** (namely to avoid name **clashes of names with names defined by subclasses**), there is limited support for such a mechanism, called **name mangling**. Any identifier of the form **`__spam`** (**at least two leading underscores**, **at most one trailing underscore**) is **textually replaced with `_classname__spam`**, where classname is the current class name with leading underscore(s) stripped. This mangling is done without regard to the syntactic position of the identifier, as long as it occurs within the definition of a class.\n",
    "<p>\n",
    "- **Name mangling** is helpful for letting subclasses override methods without breaking intraclass method calls. For example:"
   ]
  },
  {
   "cell_type": "code",
   "execution_count": 147,
   "metadata": {},
   "outputs": [
    {
     "name": "stdout",
     "output_type": "stream",
     "text": [
      "['apple', 'orange', 'cucumber']\n",
      "['apple', 'orange', 'cucumber', ('apple', 3), ('orange', 5), ('cucumber', 6)]\n"
     ]
    }
   ],
   "source": [
    "class Mapping:\n",
    "    def __init__(self, iterable):\n",
    "        self.items_list = []\n",
    "        self.__update(iterable)\n",
    "\n",
    "    def update(self, iterable):\n",
    "        for item in iterable:\n",
    "            self.items_list.append(item)\n",
    "\n",
    "    __update = update   # private copy of original update() method\n",
    "\n",
    "class MappingSubclass(Mapping):\n",
    "\n",
    "    def update(self, keys, values):\n",
    "        # provides new signature for update()\n",
    "        # but does not break __init__()\n",
    "        for item in zip(keys, values):\n",
    "            self.items_list.append(item)\n",
    "\n",
    "mylist1 = [\"apple\", \"orange\", \"cucumber\"]\n",
    "map = MappingSubclass(mylist)\n",
    "print(map.items_list)\n",
    "\n",
    "mylist2 = [\"apple\", \"orange\", \"cucumber\"]\n",
    "myquantity = [3, 5, 6]\n",
    "map.update(mylist2, myquantity)\n",
    "print(map.items_list)"
   ]
  },
  {
   "cell_type": "markdown",
   "metadata": {},
   "source": [
    "> - The above example would work even if `MappingSubclass` were to introduce a `__update` identifier since it is replaced with `_Mapping__update` in the `Mapping` class and `_MappingSubclass__update` in the `MappingSubclass` class respectively.\n",
    ">\n",
    "> - Note that the mangling rules are designed mostly to avoid accidents; it still is possible to access or modify a variable that is considered private. This can even be useful in special circumstances, such as in the debugger."
   ]
  },
  {
   "cell_type": "code",
   "execution_count": 127,
   "metadata": {},
   "outputs": [
    {
     "name": "stdout",
     "output_type": "stream",
     "text": [
      "['_MyClass__i', '__class__', '__delattr__', '__dict__', '__dir__', '__doc__', '__eq__', '__format__', '__ge__', '__getattribute__', '__gt__', '__hash__', '__init__', '__init_subclass__', '__le__', '__lt__', '__module__', '__ne__', '__new__', '__reduce__', '__reduce_ex__', '__repr__', '__setattr__', '__sizeof__', '__str__', '__subclasshook__', '__weakref__', '_i', 'i']\n",
      "3\n",
      "4\n",
      "5\n"
     ]
    },
    {
     "ename": "AttributeError",
     "evalue": "type object 'MyClass' has no attribute '__i'",
     "output_type": "error",
     "traceback": [
      "\u001b[0;31m---------------------------------------------------------------------------\u001b[0m",
      "\u001b[0;31mAttributeError\u001b[0m                            Traceback (most recent call last)",
      "\u001b[0;32m<ipython-input-127-6e0d87e7d5f9>\u001b[0m in \u001b[0;36m<module>\u001b[0;34m\u001b[0m\n\u001b[1;32m      9\u001b[0m \u001b[0mprint\u001b[0m\u001b[0;34m(\u001b[0m\u001b[0mMyClass\u001b[0m\u001b[0;34m.\u001b[0m\u001b[0m_i\u001b[0m\u001b[0;34m)\u001b[0m           \u001b[0;31m# ok\u001b[0m\u001b[0;34m\u001b[0m\u001b[0;34m\u001b[0m\u001b[0m\n\u001b[1;32m     10\u001b[0m \u001b[0mprint\u001b[0m\u001b[0;34m(\u001b[0m\u001b[0mMyClass\u001b[0m\u001b[0;34m.\u001b[0m\u001b[0m_MyClass__i\u001b[0m\u001b[0;34m)\u001b[0m  \u001b[0;31m# name mingled\u001b[0m\u001b[0;34m\u001b[0m\u001b[0;34m\u001b[0m\u001b[0m\n\u001b[0;32m---> 11\u001b[0;31m \u001b[0mprint\u001b[0m\u001b[0;34m(\u001b[0m\u001b[0mMyClass\u001b[0m\u001b[0;34m.\u001b[0m\u001b[0m__i\u001b[0m\u001b[0;34m)\u001b[0m  \u001b[0;31m# name mingled\u001b[0m\u001b[0;34m\u001b[0m\u001b[0;34m\u001b[0m\u001b[0m\n\u001b[0m",
      "\u001b[0;31mAttributeError\u001b[0m: type object 'MyClass' has no attribute '__i'"
     ]
    }
   ],
   "source": [
    "class MyClass:\n",
    "   i = 3\n",
    "   _i = 4\n",
    "   __i = 5\n",
    "\n",
    "print(dir(MyClass))\n",
    "\n",
    "print(MyClass.i)            # ok\n",
    "print(MyClass._i)           # ok \n",
    "print(MyClass._MyClass__i)  # name mingled\n",
    "\n",
    "print(MyClass.__i)          # Will raise AttributeError"
   ]
  },
  {
   "cell_type": "code",
   "execution_count": 148,
   "metadata": {},
   "outputs": [
    {
     "name": "stdout",
     "output_type": "stream",
     "text": [
      "In parent class\n",
      "In Child class\n"
     ]
    }
   ],
   "source": [
    "# Source: https://www.geeksforgeeks.org/name-mangling-in-python/\n",
    "# Python code to illustrate how mangling works  \n",
    "# With method overriding \n",
    "  \n",
    "class Map:  \n",
    "    def __init__(self):  \n",
    "        self.__geek()  \n",
    "          \n",
    "    def geek(self):  \n",
    "        print(\"In parent class\")  \n",
    "    \n",
    "    # private copy of original geek() method  \n",
    "    __geek = geek     \n",
    "    \n",
    "class MapSubclass(Map):  \n",
    "        \n",
    "    # provides new signature for geek() but  \n",
    "    # does not break __init__()  \n",
    "    def geek(self):          \n",
    "        print(\"In Child class\") \n",
    "          \n",
    "# Driver's code \n",
    "obj = MapSubclass() \n",
    "obj.geek() "
   ]
  },
  {
   "cell_type": "code",
   "execution_count": 156,
   "metadata": {},
   "outputs": [
    {
     "name": "stdout",
     "output_type": "stream",
     "text": [
      "['_A__i', '__class__', '__delattr__', '__dict__', '__dir__', '__doc__', '__eq__', '__format__', '__ge__', '__getattribute__', '__gt__', '__hash__', '__init__', '__init_subclass__', '__le__', '__lt__', '__module__', '__ne__', '__new__', '__reduce__', '__reduce_ex__', '__repr__', '__setattr__', '__sizeof__', '__str__', '__subclasshook__', '__weakref__', '_i', 'i'] \n",
      "\n",
      "['_A__i', '__class__', '__delattr__', '__dict__', '__dir__', '__doc__', '__eq__', '__format__', '__ge__', '__getattribute__', '__gt__', '__hash__', '__init__', '__init_subclass__', '__le__', '__lt__', '__module__', '__ne__', '__new__', '__reduce__', '__reduce_ex__', '__repr__', '__setattr__', '__sizeof__', '__str__', '__subclasshook__', '__weakref__', '_i', 'i'] \n",
      "\n",
      "['_A__i', '_B__i', '__class__', '__delattr__', '__dict__', '__dir__', '__doc__', '__eq__', '__format__', '__ge__', '__getattribute__', '__gt__', '__hash__', '__init__', '__init_subclass__', '__le__', '__lt__', '__module__', '__ne__', '__new__', '__reduce__', '__reduce_ex__', '__repr__', '__setattr__', '__sizeof__', '__str__', '__subclasshook__', '__weakref__', '_i', 'i'] \n",
      "\n",
      "['_A__i', '_B__i', '__class__', '__delattr__', '__dict__', '__dir__', '__doc__', '__eq__', '__format__', '__ge__', '__getattribute__', '__gt__', '__hash__', '__init__', '__init_subclass__', '__le__', '__lt__', '__module__', '__ne__', '__new__', '__reduce__', '__reduce_ex__', '__repr__', '__setattr__', '__sizeof__', '__str__', '__subclasshook__', '__weakref__', '_i', 'i'] \n",
      "\n"
     ]
    }
   ],
   "source": [
    "class A:\n",
    "    i = 4\n",
    "    _i = 40\n",
    "    __i = 400\n",
    "\n",
    "class B(A):\n",
    "    i = 5\n",
    "    _i = 40\n",
    "    __i = 400\n",
    "\n",
    "a = A()\n",
    "b = B()\n",
    "\n",
    "print(dir(A), \"\\n\")\n",
    "print(dir(a), \"\\n\")\n",
    "\n",
    "print(dir(B), \"\\n\")\n",
    "print(dir(b), \"\\n\")"
   ]
  },
  {
   "cell_type": "markdown",
   "metadata": {},
   "source": [
    "> Take note the output on the mingled names: \n",
    "> - `_A__i`             for class `A`\n",
    "> - `_A__i` and `_B__i` for class `B`"
   ]
  },
  {
   "cell_type": "markdown",
   "metadata": {},
   "source": [
    "## Odds and Ends"
   ]
  },
  {
   "cell_type": "markdown",
   "metadata": {},
   "source": [
    "Sometimes it is useful to have a data type similar to the Pascal “record” or C “struct”, bundling together a few named data items. An empty class definition will do nicely:"
   ]
  },
  {
   "cell_type": "code",
   "execution_count": 110,
   "metadata": {},
   "outputs": [],
   "source": [
    "class Employee:\n",
    "    pass\n",
    "\n",
    "john = Employee()  # Create an empty employee record\n",
    "\n",
    "# Fill the fields of the record\n",
    "john.name = 'John Doe'\n",
    "john.dept = 'computer lab'\n",
    "john.salary = 1000"
   ]
  },
  {
   "cell_type": "markdown",
   "metadata": {},
   "source": [
    "- A piece of Python code that expects a particular abstract data type can often be passed a class that emulates the methods of that data type instead. For instance, if you have a function that formats some data from a file object, you can define a class with methods `read()` and `readline()` that get the data from a string buffer instead, and pass it as an argument.\n",
    "<p>\n",
    "- Instance method objects have attributes, too: **`m.__self__`** is the instance object with the method **`m()`**, and **`m.__func__`** is the function object corresponding to the method"
   ]
  },
  {
   "cell_type": "code",
   "execution_count": 165,
   "metadata": {},
   "outputs": [
    {
     "name": "stdout",
     "output_type": "stream",
     "text": [
      "<__main__.A object at 0x7ff4f0625310>\n",
      "<function A.fun at 0x7ff4f06825e0>\n",
      "hello\n",
      "funny world\n"
     ]
    }
   ],
   "source": [
    "class A:\n",
    "    def fun(self):\n",
    "        print(\"hello\")\n",
    "    \n",
    "    def funny(self):\n",
    "        print(\"funny world\")\n",
    "\n",
    "a = A()\n",
    "funobj = a.fun\n",
    "\n",
    "print(funobj.__self__)\n",
    "print(funobj.__func__)\n",
    "s = funobj.__self__\n",
    "f = funobj.__func__\n",
    "\n",
    "f(a)\n",
    "s.funny()"
   ]
  },
  {
   "cell_type": "markdown",
   "metadata": {},
   "source": [
    "## Iterators"
   ]
  },
  {
   "cell_type": "markdown",
   "metadata": {},
   "source": [
    "most container objects can be looped over using a `for` statement:"
   ]
  },
  {
   "cell_type": "code",
   "execution_count": 167,
   "metadata": {},
   "outputs": [
    {
     "name": "stdout",
     "output_type": "stream",
     "text": [
      "1\n",
      "2\n",
      "3\n",
      "1\n",
      "2\n",
      "3\n",
      "one\n",
      "two\n",
      "1\n",
      "2\n",
      "3\n",
      "one\n",
      "two\n",
      "three\n"
     ]
    }
   ],
   "source": [
    "for element in [1, 2, 3]:\n",
    "    print(element)\n",
    "for element in (1, 2, 3):\n",
    "    print(element)\n",
    "for key in {'one':1, 'two':2}:\n",
    "    print(key)\n",
    "for char in \"123\":\n",
    "    print(char)\n",
    "for line in open(\"test_file.txt\"):\n",
    "    print(line, end='')"
   ]
  },
  {
   "cell_type": "markdown",
   "metadata": {},
   "source": [
    "Content of test_file.txt\n",
    "> ```\n",
    "> one\n",
    "> two\n",
    "> three\n",
    "> ```"
   ]
  },
  {
   "cell_type": "markdown",
   "metadata": {},
   "source": [
    "- The use of **iterators** pervades and unifies Python.\n",
    "- Behind the scenes, the `for` statement calls `iter()` on the container object.\n",
    " - The function returns an iterator object that defines the method `__next__()` which accesses elements in the container one at a time. \n",
    " - When there are no more elements, `__next__()` raises a `StopIteration` exception which tells the `for` loop to terminate.\n",
    "- You can call the `__next__()` method using the `next()` built-in function; this example shows how it all works:"
   ]
  },
  {
   "cell_type": "code",
   "execution_count": 182,
   "metadata": {},
   "outputs": [
    {
     "name": "stdout",
     "output_type": "stream",
     "text": [
      "<list_iterator object at 0x7ff4f0625c40>\n",
      "apple\n",
      "orange\n",
      "coconut\n"
     ]
    },
    {
     "ename": "StopIteration",
     "evalue": "",
     "output_type": "error",
     "traceback": [
      "\u001b[0;31m---------------------------------------------------------------------------\u001b[0m",
      "\u001b[0;31mStopIteration\u001b[0m                             Traceback (most recent call last)",
      "\u001b[0;32m<ipython-input-182-be91d8882743>\u001b[0m in \u001b[0;36m<module>\u001b[0;34m\u001b[0m\n\u001b[1;32m     10\u001b[0m \u001b[0mitem\u001b[0m \u001b[0;34m=\u001b[0m \u001b[0mnext\u001b[0m\u001b[0;34m(\u001b[0m\u001b[0mitr\u001b[0m\u001b[0;34m)\u001b[0m\u001b[0;34m\u001b[0m\u001b[0;34m\u001b[0m\u001b[0m\n\u001b[1;32m     11\u001b[0m \u001b[0mprint\u001b[0m\u001b[0;34m(\u001b[0m\u001b[0mitem\u001b[0m\u001b[0;34m)\u001b[0m\u001b[0;34m\u001b[0m\u001b[0;34m\u001b[0m\u001b[0m\n\u001b[0;32m---> 12\u001b[0;31m \u001b[0mitem\u001b[0m \u001b[0;34m=\u001b[0m \u001b[0mnext\u001b[0m\u001b[0;34m(\u001b[0m\u001b[0mitr\u001b[0m\u001b[0;34m)\u001b[0m\u001b[0;34m\u001b[0m\u001b[0;34m\u001b[0m\u001b[0m\n\u001b[0m\u001b[1;32m     13\u001b[0m \u001b[0mprint\u001b[0m\u001b[0;34m(\u001b[0m\u001b[0mitem\u001b[0m\u001b[0;34m)\u001b[0m\u001b[0;34m\u001b[0m\u001b[0;34m\u001b[0m\u001b[0m\n",
      "\u001b[0;31mStopIteration\u001b[0m: "
     ]
    }
   ],
   "source": [
    "mylist = [\"apple\", \"orange\", \"coconut\"]\n",
    "itr = iter(mylist)\n",
    "itr\n",
    "print(itr)\n",
    "\n",
    "item = next(itr)\n",
    "print(item)\n",
    "item = next(itr)\n",
    "print(item)\n",
    "item = next(itr)\n",
    "print(item)\n",
    "item = next(itr)\n",
    "print(item)"
   ]
  },
  {
   "cell_type": "markdown",
   "metadata": {},
   "source": [
    "Having seen the mechanics behind the iterator protocol, it is easy to add iterator behavior to your classes.\n",
    "- Define an `__iter__()` method which returns an object with a `__next__()` method.\n",
    "- If the class defines `__next__()`, then `__iter__()` can just return self:"
   ]
  },
  {
   "cell_type": "code",
   "execution_count": 188,
   "metadata": {},
   "outputs": [
    {
     "name": "stdout",
     "output_type": "stream",
     "text": [
      "dlrow olleh"
     ]
    }
   ],
   "source": [
    "class Reverse:\n",
    "    \"\"\"Iterator for looping over a sequence backwards.\"\"\"\n",
    "    def __init__(self, data):\n",
    "        self.data = data\n",
    "        self.index = len(data)\n",
    "\n",
    "    def __iter__(self):\n",
    "        return self\n",
    "\n",
    "    def __next__(self):\n",
    "        if self.index == 0:\n",
    "            raise StopIteration\n",
    "        self.index = self.index - 1\n",
    "        return self.data[self.index]\n",
    "    \n",
    "rev = Reverse(\"hello world\")\n",
    "iter(rev)\n",
    "\n",
    "for char in rev:\n",
    "    print(char, end='')"
   ]
  },
  {
   "cell_type": "markdown",
   "metadata": {},
   "source": [
    "## Generators"
   ]
  },
  {
   "cell_type": "markdown",
   "metadata": {},
   "source": [
    "- Generators are a **simple and powerful tool for creating iterators**. They are written like regular functions but use the **`yield`** statement whenever they want to return data. \n",
    "- Each time **`next()`** is called on it, the generator resumes where it left off (it remembers all the data values and which statement was last executed). \n",
    "- An example shows that generators can be trivially easy to create:"
   ]
  },
  {
   "cell_type": "code",
   "execution_count": 189,
   "metadata": {},
   "outputs": [
    {
     "name": "stdout",
     "output_type": "stream",
     "text": [
      "dlrow olleh"
     ]
    }
   ],
   "source": [
    "def reverse(data):\n",
    "    for index in range(len(data)-1, -1, -1):\n",
    "        yield data[index]\n",
    "\n",
    "for char in reverse(\"hello world\"):\n",
    "    print(char, end='')"
   ]
  },
  {
   "cell_type": "markdown",
   "metadata": {},
   "source": [
    "- Anything that can be done with generators can also be done with class-based iterators as described in the previous section. What makes generators so compact is that the `__iter__()` and `__next__()` methods are created automatically.\n",
    "<p>\n",
    "- Another key feature is that the local variables and execution state are automatically saved between calls. This made the function easier to write and much more clear than an approach using instance variables like `self.index` and `self.data`.\n",
    "<p>\n",
    "- In addition to automatic method creation and saving program state, when generators terminate, they automatically raise `StopIteration`. In combination, these features make it easy to create iterators with no more effort than writing a regular function."
   ]
  },
  {
   "cell_type": "markdown",
   "metadata": {},
   "source": [
    "## Generator Expressions"
   ]
  },
  {
   "cell_type": "markdown",
   "metadata": {},
   "source": [
    "- Some simple generators can be coded succinctly as expressions using a syntax similar to list comprehensions but with parentheses instead of square brackets.\n",
    "- These expressions are designed for situations where the generator is used right away by an enclosing function. \n",
    "- Generator expressions are more compact but less versatile than full generator definitions and tend to be more memory friendly than equivalent list comprehensions."
   ]
  },
  {
   "cell_type": "code",
   "execution_count": 199,
   "metadata": {},
   "outputs": [
    {
     "name": "stdout",
     "output_type": "stream",
     "text": [
      "285\n",
      "260\n",
      "{'world', 'the', 'hello', 'morning', 'great', 'is'}\n",
      "(87, 'Tan')\n",
      "['f', 'l', 'o', 'g']\n"
     ]
    }
   ],
   "source": [
    "sq = sum(i*i for i in range(10))                 # sum of squares\n",
    "print(sq)\n",
    "\n",
    "xvec = [10, 20, 30]\n",
    "yvec = [7, 5, 3]\n",
    "dotprod = sum(x*y for x,y in zip(xvec, yvec))         # dot product\n",
    "print(dotprod)\n",
    "\n",
    "page = [\"hello world\",\"the world is great\", \"great morning\"]\n",
    "unique_words = set(word for line in page for word in line.split())\n",
    "print(unique_words)\n",
    "\n",
    "class Grad:\n",
    "    def __init__(self, name, gpa):\n",
    "        self.gpa = gpa\n",
    "        self.name = name\n",
    "\n",
    "graduates = [Grad(\"Ali\", 58), Grad(\"Tan\", 87), Grad(\"Chong\", 67) ] \n",
    "valedictorian = max((student.gpa, student.name) for student in graduates)\n",
    "print(valedictorian)\n",
    "\n",
    "data = 'golf'\n",
    "mylist = list(data[i] for i in range(len(data)-1, -1, -1))\n",
    "print(mylist)\n"
   ]
  },
  {
   "cell_type": "markdown",
   "metadata": {},
   "source": [
    "## When to use yield instead of return in Python?\n",
    "https://www.geeksforgeeks.org/use-yield-keyword-instead-return-keyword-python/"
   ]
  },
  {
   "cell_type": "markdown",
   "metadata": {},
   "source": [
    "The yield statement suspends function’s execution and sends a value back to the caller, but retains enough state to enable function to resume where it is left off. When resumed, the function continues execution immediately after the last yield run. This allows its code to produce a series of values over time, rather than computing them at once and sending them back like a list."
   ]
  },
  {
   "cell_type": "code",
   "execution_count": 200,
   "metadata": {},
   "outputs": [
    {
     "name": "stdout",
     "output_type": "stream",
     "text": [
      "1\n",
      "2\n",
      "3\n"
     ]
    }
   ],
   "source": [
    "# A Simple Python program to demonstrate working \n",
    "# of yield \n",
    "\n",
    "# A generator function that yields 1 for the first time, \n",
    "# 2 second time and 3 third time \n",
    "def simpleGeneratorFun(): \n",
    "    yield 1\n",
    "    yield 2\n",
    "    yield 3\n",
    "\n",
    "# Driver code to check above generator function \n",
    "for value in simpleGeneratorFun(): \n",
    "    print(value) "
   ]
  },
  {
   "cell_type": "markdown",
   "metadata": {},
   "source": [
    "**`return`** sends a specified value back to its caller whereas **`yield`** can produce a sequence of values. We should use yield **when we want to iterate over a sequence, but don’t want to store the entire sequence in memory**.\n",
    "\n",
    "Yield are **used in Python generators**. A generator function is defined like a normal function, but whenever it needs to generate a value, it does so with the yield keyword rather than return. **If the body of a def contains yield, the function automatically becomes a generator function**."
   ]
  },
  {
   "cell_type": "code",
   "execution_count": 202,
   "metadata": {},
   "outputs": [
    {
     "name": "stdout",
     "output_type": "stream",
     "text": [
      "1\n",
      "4\n",
      "9\n",
      "16\n",
      "25\n",
      "36\n",
      "49\n",
      "64\n",
      "81\n",
      "100\n"
     ]
    }
   ],
   "source": [
    "# A Python program to generate squares from 1 \n",
    "# to 100 using yield and therefore generator \n",
    "  \n",
    "# An infinite generator function that prints \n",
    "# next square number. It starts with 1 \n",
    "def nextSquare(): \n",
    "    i = 1; \n",
    "  \n",
    "    # An Infinite loop to generate squares  \n",
    "    while True: \n",
    "        yield i*i                 \n",
    "        i += 1  # Next execution resumes  \n",
    "                # from this point      \n",
    "  \n",
    "# Driver code to test above generator  \n",
    "# function \n",
    "for num in nextSquare(): \n",
    "    if num > 100: \n",
    "         break    \n",
    "    print(num) "
   ]
  },
  {
   "cell_type": "markdown",
   "metadata": {},
   "source": [
    "# END OF The Python Tutorial -> Classes"
   ]
  }
 ],
 "metadata": {
  "kernelspec": {
   "display_name": "Python 3",
   "language": "python",
   "name": "python3"
  },
  "language_info": {
   "codemirror_mode": {
    "name": "ipython",
    "version": 3
   },
   "file_extension": ".py",
   "mimetype": "text/x-python",
   "name": "python",
   "nbconvert_exporter": "python",
   "pygments_lexer": "ipython3",
   "version": "3.8.1"
  }
 },
 "nbformat": 4,
 "nbformat_minor": 4
}
