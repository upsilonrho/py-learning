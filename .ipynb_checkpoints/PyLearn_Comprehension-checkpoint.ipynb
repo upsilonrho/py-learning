{
 "cells": [
  {
   "cell_type": "markdown",
   "metadata": {},
   "source": [
    "# <center>Comprehension</center>"
   ]
  },
  {
   "cell_type": "markdown",
   "metadata": {},
   "source": [
    "## GeeksforGeeks: Comprehensions in Python  \n",
    "https://www.geeksforgeeks.org/comprehensions-in-python/"
   ]
  },
  {
   "cell_type": "markdown",
   "metadata": {},
   "source": [
    "4 types of comprehensions:\n",
    "- List Comprehensions\n",
    "- Dictionary Comprehensions\n",
    "- Set Comprehensions\n",
    "- Generator Comprehensions"
   ]
  },
  {
   "cell_type": "markdown",
   "metadata": {},
   "source": [
    "### List Comprehensions"
   ]
  },
  {
   "cell_type": "markdown",
   "metadata": {},
   "source": [
    "basic structure of a list comprehension:  \n",
    "```\n",
    "output_list = [output_exp for var in input_list if (var satisfies this condition)]\n",
    "```\n",
    "- may or may not contain an `if` condition. \n",
    "- can contain multiple `for` (nested list comprehensions)."
   ]
  },
  {
   "cell_type": "markdown",
   "metadata": {},
   "source": [
    "#### Example #1"
   ]
  },
  {
   "cell_type": "code",
   "execution_count": 5,
   "metadata": {},
   "outputs": [
    {
     "name": "stdout",
     "output_type": "stream",
     "text": [
      "Output List using for loop: [2, 4, 4, 6]\n"
     ]
    }
   ],
   "source": [
    "# Constructing output list WITHOUT \n",
    "# Using List comprehensions \n",
    "\n",
    "input_list = [1, 2, 3, 4, 4, 5, 6, 7, 7] \n",
    "\n",
    "output_list = [] \n",
    "# Using loop for constructing output list \n",
    "for var in input_list: \n",
    "    if var % 2 == 0: \n",
    "        output_list.append(var) \n",
    "\n",
    "print(\"Output List using for loop:\", output_list) "
   ]
  },
  {
   "cell_type": "code",
   "execution_count": 6,
   "metadata": {},
   "outputs": [
    {
     "name": "stdout",
     "output_type": "stream",
     "text": [
      "Output List using list comprehensions: [2, 4, 4, 6]\n"
     ]
    }
   ],
   "source": [
    "# Using List comprehensions \n",
    "# for constructing output list \n",
    "\n",
    "input_list = [1, 2, 3, 4, 4, 5, 6, 7, 7] \n",
    "\n",
    "list_using_comp = [var for var in input_list if var % 2 == 0] \n",
    "\n",
    "print(\"Output List using list comprehensions:\", list_using_comp) "
   ]
  },
  {
   "cell_type": "markdown",
   "metadata": {},
   "source": [
    "#### Example #2"
   ]
  },
  {
   "cell_type": "code",
   "execution_count": 7,
   "metadata": {},
   "outputs": [
    {
     "name": "stdout",
     "output_type": "stream",
     "text": [
      "Output List using for loop: [1, 4, 9, 16, 25, 36, 49, 64, 81]\n"
     ]
    }
   ],
   "source": [
    "# Constructing output list using for loop \n",
    "output_list = [] \n",
    "for var in range(1, 10): \n",
    "    output_list.append(var ** 2) \n",
    "\n",
    "print(\"Output List using for loop:\", output_list) "
   ]
  },
  {
   "cell_type": "code",
   "execution_count": 35,
   "metadata": {},
   "outputs": [
    {
     "name": "stdout",
     "output_type": "stream",
     "text": [
      "Output List using list comprehension: [1, 4, 9, 16, 25, 36, 49, 64, 81]\n"
     ]
    }
   ],
   "source": [
    "# Constructing output list \n",
    "# using list comprehension \n",
    "list_using_comp = [var**2 for var in range(1, 10)] \n",
    "\n",
    "print(\"Output List using list comprehension:\", list_using_comp) "
   ]
  },
  {
   "cell_type": "markdown",
   "metadata": {},
   "source": [
    "### Dictionary Comprehensions"
   ]
  },
  {
   "cell_type": "markdown",
   "metadata": {},
   "source": [
    "The basic structure of a dictionary comprehension looks like below.\n",
    "```\n",
    "output_dict = {key:value for (key, value) in iterable if (key, value satisfy this condition)}\n",
    "```"
   ]
  },
  {
   "cell_type": "markdown",
   "metadata": {},
   "source": [
    "#### Example 1"
   ]
  },
  {
   "cell_type": "code",
   "execution_count": 14,
   "metadata": {},
   "outputs": [
    {
     "name": "stdout",
     "output_type": "stream",
     "text": [
      "Output Dictionary using for loop: {1: 1, 3: 27, 5: 125, 7: 343}\n"
     ]
    }
   ],
   "source": [
    "input_list = [1, 2, 3, 4, 5, 6, 7] \n",
    "\n",
    "output_dict = {} \n",
    "\n",
    "# Using loop for constructing output dictionary \n",
    "for var in input_list: \n",
    "    if var % 2 != 0: \n",
    "        output_dict[var] = var**3\n",
    "\n",
    "print(\"Output Dictionary using for loop:\", output_dict) "
   ]
  },
  {
   "cell_type": "code",
   "execution_count": 17,
   "metadata": {},
   "outputs": [
    {
     "name": "stdout",
     "output_type": "stream",
     "text": [
      "Output Dictionary using dictionary comprehensions: {1: 1, 3: 27, 5: 125, 7: 343}\n"
     ]
    }
   ],
   "source": [
    "# Using Dictionary comprehensions \n",
    "# for constructing output dictionary \n",
    "\n",
    "input_list = [1,2,3,4,5,6,7] \n",
    "\n",
    "dict_using_comp = {var:var ** 3 for var in input_list if var % 2 != 0} \n",
    "\n",
    "print(\"Output Dictionary using dictionary comprehensions:\", dict_using_comp) "
   ]
  },
  {
   "cell_type": "markdown",
   "metadata": {},
   "source": [
    "#### Example 2"
   ]
  },
  {
   "cell_type": "code",
   "execution_count": 36,
   "metadata": {},
   "outputs": [
    {
     "name": "stdout",
     "output_type": "stream",
     "text": [
      "Output Dictionary using for loop: {'Gujarat': 'Gandhinagar', 'Maharashtra': 'Mumbai', 'Rajasthan': 'Jaipur'}\n"
     ]
    }
   ],
   "source": [
    "state = ['Gujarat', 'Maharashtra', 'Rajasthan'] \n",
    "capital = ['Gandhinagar', 'Mumbai', 'Jaipur'] \n",
    "\n",
    "output_dict = {} \n",
    "\n",
    "# Using loop for constructing output dictionary \n",
    "for (key, value) in zip(state, capital): \n",
    "    output_dict[key] = value \n",
    "\n",
    "print(\"Output Dictionary using for loop:\", output_dict) "
   ]
  },
  {
   "cell_type": "code",
   "execution_count": 37,
   "metadata": {},
   "outputs": [
    {
     "name": "stdout",
     "output_type": "stream",
     "text": [
      "Output Dictionary using dictionary comprehensions: {'Gujarat': 'Gandhinagar', 'Maharashtra': 'Mumbai', 'Rajasthan': 'Jaipur'}\n"
     ]
    }
   ],
   "source": [
    "# Using Dictionary comprehensions \n",
    "# for constructing output dictionary \n",
    "\n",
    "state = ['Gujarat', 'Maharashtra', 'Rajasthan'] \n",
    "capital = ['Gandhinagar', 'Mumbai', 'Jaipur'] \n",
    "\n",
    "dict_using_comp = {key:value for (key, value) in zip(state, capital)} \n",
    "\n",
    "print(\"Output Dictionary using dictionary comprehensions:\", dict_using_comp) "
   ]
  },
  {
   "cell_type": "markdown",
   "metadata": {},
   "source": [
    "### Set Comprehension\n",
    "Set comprehensions are pretty similar to list comprehensions. The only difference between them is that set comprehensions use curly brackets { }."
   ]
  },
  {
   "cell_type": "markdown",
   "metadata": {},
   "source": [
    "#### Example 1"
   ]
  },
  {
   "cell_type": "code",
   "execution_count": 21,
   "metadata": {},
   "outputs": [
    {
     "name": "stdout",
     "output_type": "stream",
     "text": [
      "Output Set using for loop: {2, 4, 6}\n"
     ]
    }
   ],
   "source": [
    "input_list = [1, 2, 3, 4, 4, 5, 6, 6, 6, 7, 7] \n",
    "\n",
    "output_set = set() \n",
    "\n",
    "# Using loop for constructing output set \n",
    "for var in input_list: \n",
    "    if var % 2 == 0: \n",
    "        output_set.add(var) \n",
    "\n",
    "print(\"Output Set using for loop:\", output_set) "
   ]
  },
  {
   "cell_type": "code",
   "execution_count": 22,
   "metadata": {},
   "outputs": [
    {
     "name": "stdout",
     "output_type": "stream",
     "text": [
      "Output Set using set comprehensions: {2, 4, 6}\n"
     ]
    }
   ],
   "source": [
    "# Using Set comprehensions \n",
    "# for constructing output set \n",
    "\n",
    "input_list = [1, 2, 3, 4, 4, 5, 6, 6, 6, 7, 7] \n",
    "\n",
    "set_using_comp = {var for var in input_list if var % 2 == 0} \n",
    "\n",
    "print(\"Output Set using set comprehensions:\", set_using_comp) "
   ]
  },
  {
   "cell_type": "markdown",
   "metadata": {},
   "source": [
    "### Generator Comprehensions\n",
    "Generator Comprehensions are very similar to list comprehensions. One difference between them is that generator comprehensions use circular brackets whereas list comprehensions use square brackets. The major difference between them is that generators don’t allocate memory for the whole list. Instead, they generate each value one by one which is why they are memory efficient."
   ]
  },
  {
   "cell_type": "code",
   "execution_count": 24,
   "metadata": {},
   "outputs": [
    {
     "name": "stdout",
     "output_type": "stream",
     "text": [
      "Output values using generator comprehensions: 2 4 4 6 "
     ]
    }
   ],
   "source": [
    "input_list = [1, 2, 3, 4, 4, 5, 6, 7, 7] \n",
    "\n",
    "output_gen = (var for var in input_list if var % 2 == 0) \n",
    "\n",
    "print(\"Output values using generator comprehensions:\", end = ' ') \n",
    "\n",
    "for var in output_gen: print(var, end = ' ') "
   ]
  },
  {
   "cell_type": "markdown",
   "metadata": {},
   "source": [
    "## Nested List Comprehensions in Python\n",
    "https://www.geeksforgeeks.org/nested-list-comprehensions-in-python/?ref=rp"
   ]
  },
  {
   "cell_type": "markdown",
   "metadata": {},
   "source": [
    "### Example 1\n",
    "We want to create a matrix which looks like below:\n",
    "\n",
    "```\n",
    "matrix = [[0, 1, 2, 3, 4],\n",
    "          [0, 1, 2, 3, 4],\n",
    "          [0, 1, 2, 3, 4],\n",
    "          [0, 1, 2, 3, 4],\n",
    "          [0, 1, 2, 3, 4]]\n",
    "```"
   ]
  },
  {
   "cell_type": "code",
   "execution_count": 42,
   "metadata": {},
   "outputs": [
    {
     "name": "stdout",
     "output_type": "stream",
     "text": [
      "[[0, 1, 2, 3, 4], [0, 1, 2, 3, 4], [0, 1, 2, 3, 4], [0, 1, 2, 3, 4], [0, 1, 2, 3, 4]]\n"
     ]
    }
   ],
   "source": [
    "# Using nested for loop\n",
    "matrix = [] \n",
    "\n",
    "for i in range(5): \n",
    "\n",
    "    # Append an empty sublist inside the list \n",
    "    matrix.append([]) \n",
    "\n",
    "    for j in range(5): \n",
    "        matrix[i].append(j) \n",
    "\n",
    "print(matrix) "
   ]
  },
  {
   "cell_type": "code",
   "execution_count": 43,
   "metadata": {},
   "outputs": [
    {
     "name": "stdout",
     "output_type": "stream",
     "text": [
      "[[0, 1, 2, 3, 4], [0, 1, 2, 3, 4], [0, 1, 2, 3, 4], [0, 1, 2, 3, 4], [0, 1, 2, 3, 4]]\n"
     ]
    }
   ],
   "source": [
    "# Using Nested list comprehension \n",
    "matrix = [[j for j in range(5)] for i in range(5)] \n",
    "\n",
    "print(matrix) "
   ]
  },
  {
   "cell_type": "markdown",
   "metadata": {},
   "source": [
    "> - `[<expression> for i in range(5)]` –> which means that execute this `<expression>` and append its output to the list until variable i iterates from 0 to 4.  \n",
    ">  - For example:- `[i for i in range(5)]` –> In this case, the output of the expression\n",
    "is simply the variable i itself and hence we append its output to the list while i\n",
    "iterates from 0 to 4. Thus the output would be –> `[0, 1, 2, 3, 4]`\n",
    "> - But in our case, the `<expression>` itself is a list comprehension. Hence we need to first\n",
    "solve the expression and then append its output to the list.\n",
    ">  - `<expression>` is `[j for j in range(5)]` –> The output of this expression is same as the\n",
    "example discussed above. Hence `<expression>` is `[0, 1, 2, 3, 4]`.\n",
    ">  - Now we just simply append this output until variable `i` iterates from 0 to 4 which would\n",
    "be total 5 iterations. Hence the final output would just be a list of the output of the\n",
    "above `<expression>` repeated 5 times. Output: `[[0, 1, 2, 3, 4], [0, 1, 2, 3, 4], [0, 1, 2, 3, 4], [0, 1, 2, 3, 4], [0, 1, 2, 3, 4]]`"
   ]
  },
  {
   "cell_type": "markdown",
   "metadata": {},
   "source": [
    "### Example 2\n",
    "Suppose we want to flatten a given 2-D list:\n",
    "\n",
    "```\n",
    "matrix = [[1, 2, 3], [4, 5, 6], [7, 8, 9]]\n",
    "```\n",
    "Expected Output: `flatten_matrix = [1, 2, 3, 4, 5, 6, 7, 8, 9]`"
   ]
  },
  {
   "cell_type": "code",
   "execution_count": 46,
   "metadata": {},
   "outputs": [
    {
     "name": "stdout",
     "output_type": "stream",
     "text": [
      "[1, 2, 3, 4, 5, 6, 7, 8, 9]\n"
     ]
    }
   ],
   "source": [
    "# Using nested for loop\n",
    "# 2-D List \n",
    "matrix = [[1, 2, 3], [4, 5], [6, 7, 8, 9]] \n",
    "\n",
    "flatten_matrix = [] \n",
    "\n",
    "for sublist in matrix: \n",
    "    for val in sublist: \n",
    "        flatten_matrix.append(val) \n",
    "\n",
    "print(flatten_matrix) "
   ]
  },
  {
   "cell_type": "code",
   "execution_count": 50,
   "metadata": {},
   "outputs": [
    {
     "name": "stdout",
     "output_type": "stream",
     "text": [
      "[1, 2, 3, 4, 5, 6, 7, 8, 9]\n"
     ]
    }
   ],
   "source": [
    "# Using Nested list comprehension \n",
    "# 2-D List \n",
    "matrix = [[1, 2, 3], [4, 5], [6, 7, 8, 9]] \n",
    "\n",
    "# Nested List Comprehension to flatten a given 2-D matrix \n",
    "flatten_matrix = [val for sublist in matrix for val in sublist] \n",
    "\n",
    "print(flatten_matrix) \n"
   ]
  },
  {
   "cell_type": "markdown",
   "metadata": {},
   "source": [
    "> - In this case, we need to loop over each element in the given 2-D list and append it\n",
    "to another list.  \n",
    "> - For better understanding, we can divide the list comprehension into\n",
    "three parts:  \n",
    ">\n",
    ">```\n",
    "    flatten_matrix = [val\n",
    "                     for sublist in matrix\n",
    "                     for val in sublist]\n",
    ">```\n",
    "> - The first line suggests what we want to append to the list.  \n",
    "> - The second line is the **outer** loop\n",
    "> - The third line is the **inner** loop\n",
    "> - `for sublist in matrix` returns the sublists inside the matrix one by one which would be: `[1, 2, 3], [4, 5], [6, 7, 8, 9]`\n",
    "> - `for val in sublist` returns all the values inside the sublist.\n",
    "> - Hence if sublist = `[1, 2, 3]`, `for val in sublist` gives `1, 2, 3` as output one by one.\n",
    "> - For every such `val`, we get the output as `val` and we append it to the list."
   ]
  },
  {
   "cell_type": "markdown",
   "metadata": {},
   "source": [
    "### Example 3\n",
    "Suppose we want to flatten a given 2-D list and only include those strings whose lengths are less than 6:\n",
    "\n",
    "```\n",
    "planets = [[‘Mercury’, ‘Venus’,   ‘Earth’],\n",
    "           [‘Mars’,    ‘Jupiter’, ‘Saturn’],\n",
    "           [‘Uranus’,  ‘Neptune’, ‘Pluto’]]\n",
    "```\n",
    "\n",
    "Expected Output: flatten_planets is `[‘Venus’, ‘Earth’, ‘Mars’, ‘Pluto’]`"
   ]
  },
  {
   "cell_type": "code",
   "execution_count": 48,
   "metadata": {},
   "outputs": [
    {
     "name": "stdout",
     "output_type": "stream",
     "text": [
      "['Venus', 'Earth', 'Mars', 'Pluto']\n"
     ]
    }
   ],
   "source": [
    "# Using an if condition inside a nested for loop\n",
    "# 2-D List of planets \n",
    "planets = [['Mercury', 'Venus', 'Earth'], ['Mars', 'Jupiter', 'Saturn'], ['Uranus', 'Neptune', 'Pluto']] \n",
    "\n",
    "flatten_planets = [] \n",
    "\n",
    "for sublist in planets: \n",
    "    for planet in sublist: \n",
    "\n",
    "        if len(planet) < 6: \n",
    "            flatten_planets.append(planet) \n",
    "\n",
    "print(flatten_planets) \n"
   ]
  },
  {
   "cell_type": "code",
   "execution_count": 49,
   "metadata": {},
   "outputs": [
    {
     "name": "stdout",
     "output_type": "stream",
     "text": [
      "['Venus', 'Earth', 'Mars', 'Pluto']\n"
     ]
    }
   ],
   "source": [
    "# Using Nested list comprehension \n",
    "# 2-D List of planets \n",
    "planets = [['Mercury', 'Venus', 'Earth'], ['Mars', 'Jupiter', 'Saturn'], ['Uranus', 'Neptune', 'Pluto']] \n",
    "\n",
    "# Nested List comprehension with an if condition \n",
    "flatten_planets = [planet for sublist in planets for planet in sublist if len(planet) < 6] \n",
    "\n",
    "print(flatten_planets) \n"
   ]
  },
  {
   "cell_type": "markdown",
   "metadata": {},
   "source": [
    "> - This example is quite similar to the previous example but in this example, we just\n",
    "need an extra `if` condition to check if the length of a particular planet is less than\n",
    "6 or not.\n",
    "> - This can be divided into 4 parts as follows:\n",
    ">\n",
    ">```\n",
    "flatten_planets = [planet \n",
    "                   for sublist in planets \n",
    "                   for planet in sublist \n",
    "                   if len(planet) < 6] \n",
    ">```"
   ]
  },
  {
   "cell_type": "markdown",
   "metadata": {},
   "source": [
    "## Trey Hunner: Python List Comprehensions: Explained Visually\n",
    "https://treyhunner.com/2015/12/python-list-comprehensions-now-in-color/"
   ]
  },
  {
   "cell_type": "code",
   "execution_count": 55,
   "metadata": {},
   "outputs": [
    {
     "name": "stdout",
     "output_type": "stream",
     "text": [
      "[2, 10, 14]\n",
      "[2, 10, 14]\n"
     ]
    }
   ],
   "source": [
    "numbers = [1, 5, 4, 2, 7, 6]\n",
    "\n",
    "doubled_odds = list( map(lambda n: n * 2, filter(lambda n: n % 2 == 1, numbers)) )\n",
    "print(doubled_odds)\n",
    "\n",
    "doubled_odds = [n * 2 for n in numbers if n % 2 == 1]\n",
    "print(doubled_odds)"
   ]
  },
  {
   "cell_type": "markdown",
   "metadata": {},
   "source": [
    "### From loops to comprehensions\n",
    "- Every list comprehension can be rewritten as a `for` loop but not every `for` loop can be rewritten as a list comprehension.\n",
    "- The key to understanding when to use list comprehensions is to practice identifying problems that smell like list comprehensions.\n",
    "- If you can rewrite your code to look just like this `for` loop, you can also rewrite it as a list comprehension:"
   ]
  },
  {
   "cell_type": "markdown",
   "metadata": {},
   "source": [
    "```\n",
    "    new_things = []\n",
    "    for ITEM in old_things:\n",
    "        if condition_based_on(ITEM):\n",
    "            new_things.append(\"something with \" + ITEM)\n",
    "```"
   ]
  },
  {
   "cell_type": "markdown",
   "metadata": {},
   "source": [
    "    You can rewrite the above `for` loop as a list comprehension like this:"
   ]
  },
  {
   "cell_type": "markdown",
   "metadata": {},
   "source": [
    "```\n",
    "    new_things = [\"something with \" + ITEM for ITEM in old_things if condition_based_on(ITEM)]\n",
    "```"
   ]
  },
  {
   "cell_type": "markdown",
   "metadata": {},
   "source": [
    "### Nested Loops"
   ]
  },
  {
   "cell_type": "code",
   "execution_count": 62,
   "metadata": {},
   "outputs": [
    {
     "name": "stdout",
     "output_type": "stream",
     "text": [
      "[1, 2, 3, 4, 5, 6, 7, 8, 9]\n"
     ]
    }
   ],
   "source": [
    "matrix = [[1, 2, 3], [4, 5], [6, 7, 8, 9]] \n",
    "\n",
    "flattened = []\n",
    "for row in matrix:\n",
    "    for n in row:\n",
    "        flattened.append(n)\n",
    "\n",
    "print(flattened)"
   ]
  },
  {
   "cell_type": "code",
   "execution_count": 69,
   "metadata": {},
   "outputs": [
    {
     "name": "stdout",
     "output_type": "stream",
     "text": [
      "[1, 2, 3, 4, 5, 6, 7, 8, 9]\n"
     ]
    }
   ],
   "source": [
    "matrix = [[1, 2, 3], [4, 5], [6, 7, 8, 9]] \n",
    "\n",
    "# flattened = [n for n in row for row in matrix]  # Will produce ERROR !!!!\n",
    "\n",
    "flattened = [n for row in matrix for n in row]\n",
    "print(flattened)"
   ]
  },
  {
   "cell_type": "markdown",
   "metadata": {},
   "source": [
    "> When working with nested loops in list comprehensions remember that the `for` clauses **remain in the same order** as in our original `for` loops."
   ]
  },
  {
   "cell_type": "markdown",
   "metadata": {},
   "source": [
    "### Other Comprehensions (set comprehensions and dictionary comprehensions)"
   ]
  },
  {
   "cell_type": "markdown",
   "metadata": {},
   "source": [
    "#### Set comprehensions"
   ]
  },
  {
   "cell_type": "code",
   "execution_count": 75,
   "metadata": {},
   "outputs": [
    {
     "name": "stdout",
     "output_type": "stream",
     "text": [
      "{'S', 'V', 'M', 'P', 'U', 'E', 'J', 'N'}\n"
     ]
    }
   ],
   "source": [
    "words = ['Mercury', 'Venus', 'Earth', 'Mars', 'Jupiter', 'Saturn', 'Uranus', 'Neptune', 'Pluto'] \n",
    "\n",
    "first_letters = set()\n",
    "for w in words:\n",
    "    first_letters.add(w[0])\n",
    "    \n",
    "print(first_letters)"
   ]
  },
  {
   "cell_type": "code",
   "execution_count": 76,
   "metadata": {},
   "outputs": [
    {
     "name": "stdout",
     "output_type": "stream",
     "text": [
      "{'S', 'V', 'M', 'P', 'U', 'E', 'J', 'N'}\n"
     ]
    }
   ],
   "source": [
    "words = ['Mercury', 'Venus', 'Earth', 'Mars', 'Jupiter', 'Saturn', 'Uranus', 'Neptune', 'Pluto'] \n",
    "\n",
    "first_letters = {w[0] for w in words}\n",
    "    \n",
    "print(first_letters)"
   ]
  },
  {
   "cell_type": "markdown",
   "metadata": {},
   "source": [
    "#### Dictionary comprehensions"
   ]
  },
  {
   "cell_type": "code",
   "execution_count": 80,
   "metadata": {},
   "outputs": [
    {
     "name": "stdout",
     "output_type": "stream",
     "text": [
      "{1: 'one', 2: 'two', 3: 'three'}\n"
     ]
    }
   ],
   "source": [
    "original = {'one': 1, 'two': 2, 'three': 3}\n",
    "\n",
    "flipped = {}\n",
    "for key, value in original.items():\n",
    "    flipped[value] = key\n",
    "    \n",
    "print(flipped)"
   ]
  },
  {
   "cell_type": "code",
   "execution_count": 81,
   "metadata": {},
   "outputs": [
    {
     "name": "stdout",
     "output_type": "stream",
     "text": [
      "{1: 'one', 2: 'two', 3: 'three'}\n"
     ]
    }
   ],
   "source": [
    "original = {'one': 1, 'two': 2, 'three': 3}\n",
    "\n",
    "flipped = {value: key for key, value in original.items()}\n",
    "print(flipped)"
   ]
  },
  {
   "cell_type": "markdown",
   "metadata": {},
   "source": [
    "#### Overusing list comprehensions and generator expressions in Python\n",
    "https://treyhunner.com/2019/03/abusing-and-overusing-list-comprehensions-in-python/"
   ]
  },
  {
   "cell_type": "markdown",
   "metadata": {},
   "source": [
    "#### Trey Hunner's youtube: Comprehensible Comprehensions\n",
    "https://www.youtube.com/watch?v=5_cJIcgM7rw&feature=youtu.be&t=52s"
   ]
  },
  {
   "cell_type": "markdown",
   "metadata": {},
   "source": [
    "## Datacamp: Python List Comprehension Tutorial\n",
    "https://www.datacamp.com/community/tutorials/python-list-comprehension"
   ]
  },
  {
   "cell_type": "code",
   "execution_count": null,
   "metadata": {},
   "outputs": [],
   "source": []
  }
 ],
 "metadata": {
  "kernelspec": {
   "display_name": "Python 3",
   "language": "python",
   "name": "python3"
  },
  "language_info": {
   "codemirror_mode": {
    "name": "ipython",
    "version": 3
   },
   "file_extension": ".py",
   "mimetype": "text/x-python",
   "name": "python",
   "nbconvert_exporter": "python",
   "pygments_lexer": "ipython3",
   "version": "3.8.1"
  }
 },
 "nbformat": 4,
 "nbformat_minor": 4
}
