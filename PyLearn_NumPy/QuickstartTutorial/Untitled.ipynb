{
 "cells": [
  {
   "cell_type": "markdown",
   "metadata": {},
   "source": [
    "# <center>NumPy</center>\n",
    "# NumPy Quickstart Tutorial\n",
    "Link: https://numpy.org/devdocs/user/quickstart.html"
   ]
  },
  {
   "cell_type": "markdown",
   "metadata": {},
   "source": [
    "## The BASIC"
   ]
  },
  {
   "cell_type": "markdown",
   "metadata": {},
   "source": [
    "NumPy’s main object is the **homogeneous multidimensional array**. It is a table of elements (usually numbers), all of the same type, indexed by a tuple of non-negative integers. \n",
    "\n",
    "In NumPy dimensions are called **axes**.\n",
    "\n",
    "For example, the coordinates of a point in 3D space [1, 2, 1] has **one axis**:\n",
    "- that axis has **3 elements** in it \n",
    "- so we say it has a **length of 3**\n",
    "\n",
    "In the example pictured below, the array has **2 axes**:\n",
    "- the first axis has a length of 2\n",
    "- the second axis has a length of 3."
   ]
  },
  {
   "cell_type": "code",
   "execution_count": 11,
   "metadata": {},
   "outputs": [
    {
     "name": "stdout",
     "output_type": "stream",
     "text": [
      "[[1.0, 0.0, 0.0], [0.0, 1.0, 2.0]]\n"
     ]
    }
   ],
   "source": [
    "data = [[ 1., 0., 0.],\n",
    "        [ 0., 1., 2.]]\n",
    "print(data)"
   ]
  },
  {
   "cell_type": "markdown",
   "metadata": {},
   "source": [
    "NumPy’s array class is called **`ndarray`**.   \n",
    "\n",
    "It is also known by the alias **`array`**.   \n",
    "\n",
    "`numpy.array` not the same as the Standard Python Library class `array.array`, which only handles one-dimensional arrays and offers less functionality.    \n",
    "\n",
    "The more important attributes of an `ndarray` object are: "
   ]
  },
  {
   "cell_type": "markdown",
   "metadata": {},
   "source": [
    "**`ndarray.ndim`**  \n",
    "- the **number of axes (dimensions)** of the array.\n",
    "\n",
    "**`ndarray.shape`**  \n",
    "- **the dimensions of the array**. This is a tuple of integers indicating the size of the array in each dimension. For a matrix with n rows and m columns, shape will be (n,m). The length of the shape tuple is therefore the number of axes, ndim.\n",
    "\n",
    "**`ndarray.size`**  \n",
    "- the total number of elements of the array. This is equal to the product of the elements of shape.\n",
    "\n",
    "**`ndarray.dtype`**  \n",
    "- an object describing the type of the elements in the array. One can create or specify dtype’s using standard Python types. Additionally NumPy provides types of its own. numpy.int32, numpy.int16, and numpy.float64 are some examples.\n",
    "\n",
    "**`ndarray.itemsize`**  \n",
    "- the size in bytes of each element of the array. For example, an array of elements of type float64 has itemsize 8 (=64/8), while one of type complex32 has itemsize 4 (=32/8). It is equivalent to ndarray.dtype.itemsize.\n",
    "\n",
    "**`ndarray.data`**  \n",
    "- the buffer containing the actual elements of the array. Normally, we won’t need to use this attribute because we will access the elements in an array using indexing facilities."
   ]
  },
  {
   "cell_type": "code",
   "execution_count": null,
   "metadata": {},
   "outputs": [],
   "source": []
  },
  {
   "cell_type": "code",
   "execution_count": null,
   "metadata": {},
   "outputs": [],
   "source": []
  },
  {
   "cell_type": "code",
   "execution_count": 6,
   "metadata": {},
   "outputs": [
    {
     "name": "stdout",
     "output_type": "stream",
     "text": [
      "[[ 0  1  2  3  4]\n",
      " [ 5  6  7  8  9]\n",
      " [10 11 12 13 14]]\n",
      "(3, 5)\n",
      "2\n",
      "int64\n",
      "8\n",
      "15\n",
      "[6 7 8]\n",
      "<class 'numpy.ndarray'>\n"
     ]
    }
   ],
   "source": [
    "import numpy as np\n",
    "\n",
    "a = np.arange(15).reshape(3, 5)\n",
    "print(a)\n",
    "print(a.shape)\n",
    "print(a.ndim)\n",
    "print(a.dtype.name)\n",
    "print(a.itemsize)\n",
    "print(a.size)\n",
    "type(a)\n",
    "\n",
    "b = np.array([6, 7, 8])\n",
    "print(b)\n",
    "print(type(b))"
   ]
  },
  {
   "cell_type": "code",
   "execution_count": null,
   "metadata": {},
   "outputs": [],
   "source": []
  },
  {
   "cell_type": "code",
   "execution_count": null,
   "metadata": {},
   "outputs": [],
   "source": []
  },
  {
   "cell_type": "code",
   "execution_count": null,
   "metadata": {},
   "outputs": [],
   "source": []
  },
  {
   "cell_type": "markdown",
   "metadata": {},
   "source": [
    "# END OF NumPy Quickstart Tutorial"
   ]
  }
 ],
 "metadata": {
  "kernelspec": {
   "display_name": "YP: TensorFlow-GPU",
   "language": "python",
   "name": "yp-tfgpu"
  },
  "language_info": {
   "codemirror_mode": {
    "name": "ipython",
    "version": 3
   },
   "file_extension": ".py",
   "mimetype": "text/x-python",
   "name": "python",
   "nbconvert_exporter": "python",
   "pygments_lexer": "ipython3",
   "version": "3.7.6"
  }
 },
 "nbformat": 4,
 "nbformat_minor": 4
}
