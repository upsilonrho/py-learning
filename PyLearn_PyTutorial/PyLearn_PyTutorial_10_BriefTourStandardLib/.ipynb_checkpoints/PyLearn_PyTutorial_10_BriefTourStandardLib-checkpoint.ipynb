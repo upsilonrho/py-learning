{
 "cells": [
  {
   "cell_type": "markdown",
   "metadata": {},
   "source": [
    "# <center>Learning Python</center>\n",
    "# The Python Tutorial -> Brief Tour of the Standard Library\n",
    "Link: https://docs.python.org/3/tutorial/stdlib.html"
   ]
  },
  {
   "cell_type": "markdown",
   "metadata": {},
   "source": [
    "## Operating System Interface"
   ]
  },
  {
   "cell_type": "code",
   "execution_count": 22,
   "metadata": {},
   "outputs": [
    {
     "name": "stdout",
     "output_type": "stream",
     "text": [
      "/home/yp/dev/python/py-learning/PyLearn_PyTutorial_10_BriefTourStandardLib\n",
      "/home/yp/dev/python/py-learning/PyLearn_PyTutorial_10_BriefTourStandardLib/testing\n",
      "/home/yp/dev/python/py-learning/PyLearn_PyTutorial_10_BriefTourStandardLib\n"
     ]
    }
   ],
   "source": [
    "import os\n",
    "\n",
    "msg = os.getcwd()                  # Return the current working directory\n",
    "print(msg)\n",
    "\n",
    "os.system('mkdir testing')   # Run the command mkdir in the system shell\n",
    "\n",
    "os.chdir('testing')          # Change current working directory\n",
    "\n",
    "msg = os.getcwd()            # Return the current working directory\n",
    "print(msg)\n",
    "\n",
    "os.chdir('..')\n",
    "\n",
    "os.system('rmdir testing')\n",
    "\n",
    "msg = os.getcwd()\n",
    "print(msg)"
   ]
  },
  {
   "cell_type": "markdown",
   "metadata": {},
   "source": [
    "> Be sure to use the `import os` style instead of `from os import *`. This will keep `os.open()` from shadowing the built-in `open()` function which operates much differently."
   ]
  },
  {
   "cell_type": "markdown",
   "metadata": {},
   "source": [
    "The built-in `dir()` and `help()` functions are useful as interactive aids for working with large modules like os:\n",
    "```\n",
    "import os\n",
    "dir(os)\n",
    "help(os)\n",
    "```"
   ]
  },
  {
   "cell_type": "markdown",
   "metadata": {},
   "source": [
    "For daily **file and directory management** tasks, the `shutil` module provides a higher level interface that is easier to use:\n",
    "```\n",
    "import shutil\n",
    "shutil.copyfile('data.db', 'archive.db')\n",
    "shutil.move('/build/executables', 'installdir')\n",
    "```"
   ]
  },
  {
   "cell_type": "markdown",
   "metadata": {},
   "source": [
    "## File mWildcards"
   ]
  },
  {
   "cell_type": "markdown",
   "metadata": {},
   "source": [
    "The `glob` module provides a function for making file lists from directory wildcard searches:"
   ]
  },
  {
   "cell_type": "code",
   "execution_count": 34,
   "metadata": {},
   "outputs": [
    {
     "name": "stdout",
     "output_type": "stream",
     "text": [
      "['test_file.txt']\n",
      "['test_file.txt', 'PyLearn_PyTutorial_10_BriefTourStandardLib.ipynb']\n"
     ]
    }
   ],
   "source": [
    "import glob\n",
    "mylist = glob.glob('*.txt')\n",
    "print(mylist)\n",
    "mylist = glob.glob('*.*')\n",
    "print(mylist)"
   ]
  },
  {
   "cell_type": "markdown",
   "metadata": {},
   "source": [
    "## Command Line Arguments"
   ]
  },
  {
   "cell_type": "markdown",
   "metadata": {},
   "source": [
    "Common utility scripts often need to process command line arguments. \n",
    "These arguments are stored in the **`sys`** module’s **`argv`** attribute as a list. \n",
    "For instance the following output results from running `python3 test.py one two 3` at the command line:"
   ]
  },
  {
   "cell_type": "markdown",
   "metadata": {},
   "source": [
    "Given `test1.py`\n",
    "```\n",
    "import sys\n",
    "print(sys.argv)\n",
    "```"
   ]
  },
  {
   "cell_type": "code",
   "execution_count": 42,
   "metadata": {},
   "outputs": [
    {
     "name": "stdout",
     "output_type": "stream",
     "text": [
      "['test1.py', 'one', 'two', '3']\n"
     ]
    }
   ],
   "source": [
    "!python3 test1.py one two 3"
   ]
  },
  {
   "cell_type": "markdown",
   "metadata": {},
   "source": [
    "The `argparse` module provides a more sophisticated mechanism to process command line arguments. The following script extracts one or more filenames and an optional number of lines to be displayed:"
   ]
  },
  {
   "cell_type": "markdown",
   "metadata": {},
   "source": [
    "Given test2.py\n",
    "```\n",
    "import argparse\n",
    "\n",
    "parser = argparse.ArgumentParser(prog = 'test2',\n",
    "    description = 'Test2 program to test argparse')\n",
    "parser.add_argument('filenames', nargs='+')\n",
    "parser.add_argument('-l', '--lines', type=int, default=10)\n",
    "args = parser.parse_args()\n",
    "print(args)\n",
    "```"
   ]
  },
  {
   "cell_type": "code",
   "execution_count": 45,
   "metadata": {},
   "outputs": [
    {
     "name": "stdout",
     "output_type": "stream",
     "text": [
      "Namespace(filenames=['alpha.txt', 'beta.txt'], lines=5)\n"
     ]
    }
   ],
   "source": [
    "!python3 test2.py --lines=5 alpha.txt beta.txt"
   ]
  },
  {
   "cell_type": "markdown",
   "metadata": {},
   "source": [
    "## Error Output Redirection and Program Termination"
   ]
  },
  {
   "cell_type": "markdown",
   "metadata": {},
   "source": [
    "The `sys` module also has attributes for `stdin`, `stdout`, and `stderr`. The latter is useful for emitting warnings and error messages to make them visible even when stdout has been redirected:"
   ]
  },
  {
   "cell_type": "code",
   "execution_count": 48,
   "metadata": {},
   "outputs": [
    {
     "name": "stderr",
     "output_type": "stream",
     "text": [
      "Warning, log file not found starting a new one\n"
     ]
    }
   ],
   "source": [
    "import sys\n",
    "sys.stderr.write('Warning, log file not found starting a new one\\n')"
   ]
  },
  {
   "cell_type": "markdown",
   "metadata": {},
   "source": [
    "The most direct way to terminate a script is to use :\n",
    "```\n",
    "sys.exit()\n",
    "```"
   ]
  },
  {
   "cell_type": "markdown",
   "metadata": {},
   "source": [
    "## String Pattern Matching"
   ]
  },
  {
   "cell_type": "markdown",
   "metadata": {},
   "source": [
    "The `re` module provides regular expression tools for advanced string processing. For complex matching and manipulation, regular expressions offer succinct, optimized solutions:"
   ]
  },
  {
   "cell_type": "code",
   "execution_count": 54,
   "metadata": {},
   "outputs": [
    {
     "name": "stdout",
     "output_type": "stream",
     "text": [
      "['foot', 'fell', 'fastest']\n",
      "cat in the hat\n"
     ]
    }
   ],
   "source": [
    "import re\n",
    "mylist = re.findall(r'\\bf[a-z]*', 'which foot or hand fell fastest')\n",
    "print(mylist)\n",
    "mylist = re.sub(r'(\\b[a-z]+) \\1', r'\\1', 'cat in the the hat')\n",
    "print(mylist)"
   ]
  },
  {
   "cell_type": "markdown",
   "metadata": {},
   "source": [
    "When only simple capabilities are needed, string methods are preferred because they are easier to read and debug:"
   ]
  },
  {
   "cell_type": "code",
   "execution_count": 56,
   "metadata": {},
   "outputs": [
    {
     "name": "stdout",
     "output_type": "stream",
     "text": [
      "tea for two\n"
     ]
    }
   ],
   "source": [
    "s = 'tea for too'.replace('too', 'two')\n",
    "print(s)"
   ]
  },
  {
   "cell_type": "markdown",
   "metadata": {},
   "source": [
    "##  Mathematics"
   ]
  },
  {
   "cell_type": "markdown",
   "metadata": {},
   "source": [
    "The `math` module gives access to the underlying C library functions for floating point math:"
   ]
  },
  {
   "cell_type": "code",
   "execution_count": 58,
   "metadata": {},
   "outputs": [
    {
     "name": "stdout",
     "output_type": "stream",
     "text": [
      "0.7071067811865476\n",
      "10.0\n"
     ]
    }
   ],
   "source": [
    "import math\n",
    "c = math.cos(math.pi / 4)\n",
    "print(c)\n",
    "\n",
    "lg = math.log(1024, 2)\n",
    "print(lg)"
   ]
  },
  {
   "cell_type": "markdown",
   "metadata": {},
   "source": [
    "The `random` module provides tools for making random selections:"
   ]
  },
  {
   "cell_type": "code",
   "execution_count": 67,
   "metadata": {},
   "outputs": [
    {
     "name": "stdout",
     "output_type": "stream",
     "text": [
      "pear\n",
      "[16, 91, 10, 3, 39, 82, 60, 85, 46, 52]\n",
      "0.9204193334618603\n",
      "3\n"
     ]
    }
   ],
   "source": [
    "import random\n",
    "\n",
    "r = random.choice(['apple', 'pear', 'banana'])\n",
    "print(r)\n",
    "\n",
    "r = random.sample(range(100), 10)   # sampling without replacement\n",
    "print(r)\n",
    "\n",
    "r = random.random()        # random float\n",
    "print(r)\n",
    "\n",
    "r = random.randrange(6)    # random integer chosen from range(6)\n",
    "print(r)"
   ]
  },
  {
   "cell_type": "markdown",
   "metadata": {},
   "source": [
    "The `statistics` module calculates basic statistical properties (the mean, median, variance, etc.) of numeric data:"
   ]
  },
  {
   "cell_type": "code",
   "execution_count": 69,
   "metadata": {},
   "outputs": [
    {
     "name": "stdout",
     "output_type": "stream",
     "text": [
      "1.6071428571428572\n",
      "1.25\n",
      "1.3720238095238095\n"
     ]
    }
   ],
   "source": [
    "import statistics\n",
    "data = [2.75, 1.75, 1.25, 0.25, 0.5, 1.25, 3.5]\n",
    "\n",
    "s = statistics.mean(data)\n",
    "print(s)\n",
    "\n",
    "s = statistics.median(data)\n",
    "print(s)\n",
    "\n",
    "s = statistics.variance(data)\n",
    "print(s)"
   ]
  },
  {
   "cell_type": "markdown",
   "metadata": {},
   "source": [
    "The `SciPy` project <https://scipy.org> has many other modules for numerical computations."
   ]
  },
  {
   "cell_type": "markdown",
   "metadata": {},
   "source": [
    "## Internet Access"
   ]
  },
  {
   "cell_type": "markdown",
   "metadata": {},
   "source": [
    "There are a number of modules for accessing the internet and processing internet protocols. Two of the simplest are:\n",
    "- `urllib.request` for retrieving data from URLs and\n",
    "- `smtplib` for sending mail:"
   ]
  },
  {
   "cell_type": "markdown",
   "metadata": {},
   "source": [
    "Example test_urllib.py:\n",
    "```\n",
    "from urllib.request import urlopen\n",
    "with urlopen('http://tycho.usno.navy.mil/cgi-bin/timer.pl') as response:\n",
    "    for line in response:\n",
    "        line = line.decode('utf-8')  # Decoding the binary data to text.\n",
    "        if 'Sun' in line or 'EDT' in line:  # look for Eastern Time\n",
    "            print(line)\n",
    "```"
   ]
  },
  {
   "cell_type": "markdown",
   "metadata": {},
   "source": [
    "Example test_smtplib.py  \n",
    "(Note that the second example needs a mailserver running on localhost.)\n",
    "```\n",
    "import smtplib\n",
    "server = smtplib.SMTP('localhost')\n",
    "server.sendmail('soothsayer@example.org', 'jcaesar@example.org',\n",
    "\"\"\"To: jcaesar@example.org\n",
    "From: soothsayer@example.org\n",
    "Beware the Ides of March.\n",
    "\"\"\")\n",
    "server.quit()\n",
    "```"
   ]
  },
  {
   "cell_type": "markdown",
   "metadata": {},
   "source": [
    "##  Dates and Times"
   ]
  },
  {
   "cell_type": "markdown",
   "metadata": {},
   "source": [
    "The `datetime` module supplies classes for manipulating dates and times in both simple and complex ways. While date and time arithmetic is supported, the focus of the implementation is on efficient member extraction for output formatting and manipulation. The module also supports objects that are timezone aware."
   ]
  },
  {
   "cell_type": "code",
   "execution_count": 82,
   "metadata": {},
   "outputs": [
    {
     "name": "stdout",
     "output_type": "stream",
     "text": [
      "2020-05-03\n",
      "2020-05-03\n",
      "datetime.date(2020, 5, 3)\n",
      "05-03-20. 03 May 2020 is a Sunday on the 03 day of May.\n",
      "1964-07-31\n",
      "20365 days, 0:00:00\n",
      "20365 days, 0:00:00\n",
      "datetime.timedelta(days=20365)\n",
      "20365\n"
     ]
    }
   ],
   "source": [
    "# dates are easily constructed and formatted\n",
    "from datetime import date\n",
    "\n",
    "now = date.today()\n",
    "print(now)\n",
    "print(str(now))\n",
    "print(repr(now))\n",
    "\n",
    "s = now.strftime(\"%m-%d-%y. %d %b %Y is a %A on the %d day of %B.\")\n",
    "print(s)\n",
    "\n",
    "# dates support calendar arithmetic\n",
    "birthday = date(1964, 7, 31)\n",
    "print(birthday)\n",
    "\n",
    "age = now - birthday\n",
    "print(age)\n",
    "print(str(age))\n",
    "print(repr(age))\n",
    "\n",
    "print(age.days)"
   ]
  },
  {
   "cell_type": "markdown",
   "metadata": {},
   "source": [
    "## Data Compression"
   ]
  },
  {
   "cell_type": "markdown",
   "metadata": {},
   "source": [
    "Common data archiving and compression formats are directly supported by modules including: `zlib`, `gzip`, `bz2`, `lzma`, `zipfile` and `tarfile`."
   ]
  },
  {
   "cell_type": "code",
   "execution_count": 89,
   "metadata": {},
   "outputs": [
    {
     "name": "stdout",
     "output_type": "stream",
     "text": [
      "41\n",
      "b'x\\x9c+\\xcf,I\\xceP(\\xcf\\xc8\\x04\\x92\\x19\\x89\\xc5PV9H4\\x15\\xc8+\\xca,.Q(O\\x04\\xf2\\x00D?\\x0f\\x89'\n",
      "37\n",
      "b'witch which has which witches wrist watch'\n",
      "226805979\n"
     ]
    }
   ],
   "source": [
    "import zlib\n",
    "s = b'witch which has which witches wrist watch'\n",
    "print( len(s) )\n",
    "\n",
    "t1 = zlib.compress(s)\n",
    "print( t )\n",
    "print( len(t) )\n",
    "\n",
    "s_dc = zlib.decompress(t)\n",
    "print( s_dc )\n",
    "\n",
    "t2 = zlib.crc32(s)\n",
    "print( t2 )"
   ]
  },
  {
   "cell_type": "markdown",
   "metadata": {},
   "source": [
    "##  Performance Measurement"
   ]
  },
  {
   "cell_type": "markdown",
   "metadata": {},
   "source": [
    "For example, it may be tempting to use the tuple packing and unpacking feature instead of the traditional approach to swapping arguments. The **`timeit`** module quickly demonstrates a modest performance advantage:  \n",
    "In contrast to `timeit`’s fine level of granularity, the **`profile`** and **`pstats`** modules provide tools for identifying time critical sections in larger blocks of code."
   ]
  },
  {
   "cell_type": "code",
   "execution_count": 93,
   "metadata": {},
   "outputs": [
    {
     "name": "stdout",
     "output_type": "stream",
     "text": [
      "0.016219922341406345\n",
      "0.01279264036566019\n"
     ]
    }
   ],
   "source": [
    "from timeit import Timer\n",
    "t1 = Timer('t=a; a=b; b=t', 'a=1; b=2').timeit()\n",
    "print(t1)\n",
    "\n",
    "t2 = Timer('a,b = b,a', 'a=1; b=2').timeit()\n",
    "print(t2)"
   ]
  },
  {
   "cell_type": "markdown",
   "metadata": {},
   "source": [
    "## Quality Control"
   ]
  },
  {
   "cell_type": "markdown",
   "metadata": {},
   "source": [
    "One approach for developing high quality software is to write tests for each function as it is developed and to run those tests frequently during the development process.\n",
    "\n",
    "The `doctest` module provides a tool for scanning a module and validating tests embedded in a program’s docstrings. Test construction is as simple as cutting-and-pasting a typical call along with its results into the docstring. This improves the documentation by providing the user with an example and it allows the doctest module to make sure the code remains true to the documentation:"
   ]
  },
  {
   "cell_type": "code",
   "execution_count": 95,
   "metadata": {},
   "outputs": [
    {
     "data": {
      "text/plain": [
       "TestResults(failed=0, attempted=1)"
      ]
     },
     "execution_count": 95,
     "metadata": {},
     "output_type": "execute_result"
    }
   ],
   "source": [
    "def average(values):\n",
    "    \"\"\"Computes the arithmetic mean of a list of numbers.\n",
    "\n",
    "    >>> print(average([20, 30, 70]))\n",
    "    40.0\n",
    "    \"\"\"\n",
    "    return sum(values) / len(values)\n",
    "\n",
    "import doctest\n",
    "doctest.testmod()   # automatically validate the embedded tests"
   ]
  },
  {
   "cell_type": "markdown",
   "metadata": {},
   "source": [
    "The `unittest` module is not as effortless as the `doctest` module, but it allows a more comprehensive set of tests to be maintained in a separate file:"
   ]
  },
  {
   "cell_type": "markdown",
   "metadata": {},
   "source": [
    "**Given test_unittest.py**\n",
    "```\n",
    "def average(values):\n",
    "    \"\"\"Computes the arithmetic mean of a list of numbers.\n",
    "    return sum(values) / len(values)\n",
    "\n",
    "import unittest\n",
    "\n",
    "class TestStatisticalFunctions(unittest.TestCase):\n",
    "\n",
    "    def test_average(self):\n",
    "        self.assertEqual(average([20, 30, 70]), 40.0)\n",
    "        self.assertEqual(round(average([1, 5, 7]), 1), 4.3)\n",
    "        with self.assertRaises(ZeroDivisionError):\n",
    "            average([])\n",
    "        with self.assertRaises(TypeError):\n",
    "            average(20, 30, 70)\n",
    "\n",
    "if __name__ == '__main__':\n",
    "    unittest.main()  # Calling from the command line invokes all tests\n",
    "```"
   ]
  },
  {
   "cell_type": "code",
   "execution_count": 105,
   "metadata": {},
   "outputs": [
    {
     "name": "stdout",
     "output_type": "stream",
     "text": [
      ".\n",
      "----------------------------------------------------------------------\n",
      "Ran 1 test in 0.000s\n",
      "\n",
      "OK\n"
     ]
    }
   ],
   "source": [
    "!python3 test_unittest.py"
   ]
  },
  {
   "cell_type": "markdown",
   "metadata": {},
   "source": [
    "## Unit Testing in Python – Unittest\n",
    "https://www.geeksforgeeks.org/unit-testing-python-unittest/"
   ]
  },
  {
   "cell_type": "markdown",
   "metadata": {},
   "source": [
    "- **What is Unit Testing?**\n",
    "  - Unit Testing is the first level of software testing where the smallest testable parts of a software are tested. This is used to validate that each unit of the software performs as designed.\n",
    "The unittest test framework is python’s xUnit style framework.\n",
    "- **Method:**\n",
    "  - White Box Testing method is used for Unit testing.\n",
    "- **OOP concepts supported by unittest framework:**\n",
    "  - **test fixture**:  \n",
    "    A test fixture is used as a baseline for running tests to ensure that there is a fixed environment in which tests are run so that results are repeatable.\n",
    "    Examples :  \n",
    "    - creating temporary databases.\n",
    "    - starting a server process.\n",
    "  - **test case**:  \n",
    "    A test case is a set of conditions which is used to determine whether a system under test works correctly.\n",
    "  - **test suite**:  \n",
    "     Test suite is a collection of testcases that are used to test a software program to show that it has some specified set of behaviours by executing the aggregated tests together.\n",
    "  - **test runner**:  \n",
    "    A test runner is a component which set up the execution of tests and provides the outcome to the user."
   ]
  },
  {
   "cell_type": "markdown",
   "metadata": {},
   "source": [
    "## Batteries Included"
   ]
  },
  {
   "cell_type": "markdown",
   "metadata": {},
   "source": [
    "Python has a “batteries included” philosophy. This is best seen through the sophisticated and robust capabilities of its larger packages. For example:\n",
    "\n",
    "- The **`xmlrpc.client`** and **`xmlrpc.server`** modules make implementing remote procedure calls into an almost trivial task. Despite the modules names, no direct knowledge or handling of XML is needed.\n",
    "\n",
    "- The **`email`** package is a library for managing email messages, including MIME and other **RFC 2822**-based message documents. Unlike **`smtplib`** and **`poplib`** which actually send and receive messages, the email package has a complete toolset for building or decoding complex message structures (including attachments) and for implementing internet encoding and header protocols.\n",
    "\n",
    "- The **`json`** package provides robust support for parsing this popular data interchange format. The **`csv`** module supports direct reading and writing of files in Comma-Separated Value format, commonly supported by databases and spreadsheets. XML processing is supported by the **`xml.etree.ElementTree`**, **`xml.dom`** and **`xml.sax`** packages. Together, these modules and packages greatly simplify data interchange between Python applications and other tools.\n",
    "\n",
    "- The **`sqlite3`** module is a wrapper for the SQLite database library, providing a persistent database that can be updated and accessed using slightly nonstandard SQL syntax.\n",
    "\n",
    "- Internationalization is supported by a number of modules including **`gettext`**, **`locale`**, and the **`codecs`** package."
   ]
  },
  {
   "cell_type": "markdown",
   "metadata": {},
   "source": [
    "# END OF The Python Tutorial -> Brief Tour of the Standard Library"
   ]
  },
  {
   "cell_type": "code",
   "execution_count": null,
   "metadata": {},
   "outputs": [],
   "source": []
  }
 ],
 "metadata": {
  "kernelspec": {
   "display_name": "Python 3",
   "language": "python",
   "name": "python3"
  },
  "language_info": {
   "codemirror_mode": {
    "name": "ipython",
    "version": 3
   },
   "file_extension": ".py",
   "mimetype": "text/x-python",
   "name": "python",
   "nbconvert_exporter": "python",
   "pygments_lexer": "ipython3",
   "version": "3.8.1"
  }
 },
 "nbformat": 4,
 "nbformat_minor": 4
}
