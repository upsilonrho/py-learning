{
 "cells": [
  {
   "cell_type": "markdown",
   "metadata": {},
   "source": [
    "# <center>Learning Python</center>\n",
    "# The Python Tutorial -> More Control Flow Tools\n",
    "Link: https://docs.python.org/3/tutorial/controlflow.html"
   ]
  },
  {
   "cell_type": "markdown",
   "metadata": {},
   "source": [
    "## `if` Statements"
   ]
  },
  {
   "cell_type": "code",
   "execution_count": 2,
   "metadata": {},
   "outputs": [
    {
     "name": "stdin",
     "output_type": "stream",
     "text": [
      "Please enter an integer:  5\n"
     ]
    },
    {
     "name": "stdout",
     "output_type": "stream",
     "text": [
      "More than one\n"
     ]
    }
   ],
   "source": [
    "x = int(input(\"Please enter an integer: \"))\n",
    "if x < 0:\n",
    "   x = 0\n",
    "   print('Negative changed to zero')\n",
    "elif x == 0:\n",
    "   print('Zero')\n",
    "elif x == 1:\n",
    "   print('Single')\n",
    "else:\n",
    "   print('More than one')"
   ]
  },
  {
   "cell_type": "markdown",
   "metadata": {},
   "source": [
    "## `for` Statements"
   ]
  },
  {
   "cell_type": "code",
   "execution_count": 10,
   "metadata": {},
   "outputs": [
    {
     "name": "stdout",
     "output_type": "stream",
     "text": [
      "cat 3\n",
      "window 6\n",
      "defenestrate 12\n"
     ]
    }
   ],
   "source": [
    "# Measure some strings:\n",
    "words = ['cat', 'window', 'defenestrate']\n",
    "for w in words:\n",
    "  print(w, len(w))"
   ]
  },
  {
   "cell_type": "markdown",
   "metadata": {},
   "source": [
    "### Strategy:  Iterate over a copy"
   ]
  },
  {
   "cell_type": "code",
   "execution_count": 54,
   "metadata": {},
   "outputs": [
    {
     "name": "stdout",
     "output_type": "stream",
     "text": [
      "{'Ali': 'Apple', 'Chong': 'Carrot', 'Gobi': 'Orange', 'Alan': 'Carrot', 'Vinston': 'Coconut'}\n",
      "{'Ali': 'Apple', 'Gobi': 'Orange', 'Vinston': 'Coconut'}\n"
     ]
    }
   ],
   "source": [
    "fruits = {'Ali' : 'Apple', 'Chong' : 'Carrot', 'Gobi' : 'Orange', 'Alan' : 'Carrot', 'Vinston' : 'Coconut'}\n",
    "print(fruits)\n",
    "\n",
    "for name, fruit in fruits.copy().items():\n",
    "   if fruit == 'Carrot':\n",
    "      del fruits[name]\n",
    "print(fruits)"
   ]
  },
  {
   "cell_type": "markdown",
   "metadata": {},
   "source": [
    "### Strategy:  Create a new collection"
   ]
  },
  {
   "cell_type": "code",
   "execution_count": 55,
   "metadata": {},
   "outputs": [
    {
     "name": "stdout",
     "output_type": "stream",
     "text": [
      "{'Ali': 'Apple', 'Chong': 'Carrot', 'Gobi': 'Orange', 'Alan': 'Carrot', 'Vinston': 'Coconut'}\n",
      "{'Ali': 'Apple', 'Gobi': 'Orange', 'Vinston': 'Coconut'}\n"
     ]
    }
   ],
   "source": [
    "fruits = {'Ali' : 'Apple', 'Chong' : 'Carrot', 'Gobi' : 'Orange', 'Alan' : 'Carrot', 'Vinston' : 'Coconut'}\n",
    "print(fruits)\n",
    "\n",
    "fruits_not_carrot = {}\n",
    "for name, fruit in fruits.copy().items():\n",
    "   if fruit != 'Carrot':\n",
    "      fruits_not_carrot[name] = fruit\n",
    "print(fruits_not_carrot)"
   ]
  },
  {
   "cell_type": "markdown",
   "metadata": {},
   "source": [
    "## The `range()` Function"
   ]
  },
  {
   "cell_type": "code",
   "execution_count": 56,
   "metadata": {},
   "outputs": [
    {
     "name": "stdout",
     "output_type": "stream",
     "text": [
      "0\n",
      "1\n",
      "2\n",
      "3\n",
      "4\n",
      "0 1 2 3 4 "
     ]
    }
   ],
   "source": [
    "for i in range(5):\n",
    "   print(i)\n",
    "for i in range(5):\n",
    "   print(i, end=' ')"
   ]
  },
  {
   "cell_type": "code",
   "execution_count": 57,
   "metadata": {},
   "outputs": [
    {
     "name": "stdout",
     "output_type": "stream",
     "text": [
      "2 3 4 5 6 7 8 9 \n",
      "2 5 8 \n",
      "10 7 4 \n",
      "-10 -6 -2 2 6 10 14 18 \n",
      "-10 -12 -14 -16 -18 \n"
     ]
    }
   ],
   "source": [
    "for i in range(2, 10):    # does not include 10\n",
    "   print(i, end=' ')\n",
    "print()\n",
    "\n",
    "for i in range(2, 11, 3): # does not include 11\n",
    "   print(i, end=' ')\n",
    "print()\n",
    "\n",
    "for i in range(10, 2, -3):\n",
    "   print(i, end=' ')\n",
    "print()\n",
    "\n",
    "for i in range(-10, 20, 4):\n",
    "   print(i, end=' ')\n",
    "print()\n",
    "\n",
    "for i in range(-10, -20, -2):  # does not include -20\n",
    "   print(i, end=' ')\n",
    "print()"
   ]
  },
  {
   "cell_type": "code",
   "execution_count": 58,
   "metadata": {},
   "outputs": [
    {
     "name": "stdout",
     "output_type": "stream",
     "text": [
      "['Mary', 'had', 'a', 'little', 'lamb']\n",
      "5\n",
      "0 Mary\n",
      "1 had\n",
      "2 a\n",
      "3 little\n",
      "4 lamb\n",
      "0 Mary\n",
      "1 had\n",
      "2 a\n",
      "3 little\n",
      "4 lamb\n"
     ]
    }
   ],
   "source": [
    "a = ['Mary', 'had', 'a', 'little', 'lamb']\n",
    "print(a)\n",
    "\n",
    "length = len(a)\n",
    "print(length)\n",
    "\n",
    "for i in range(length):\n",
    "   print(i, a[i])\n",
    "\n",
    "for i in range(len(a)):\n",
    "   print(i, a[i])"
   ]
  },
  {
   "cell_type": "code",
   "execution_count": 118,
   "metadata": {},
   "outputs": [
    {
     "name": "stdout",
     "output_type": "stream",
     "text": [
      "range(0, 10)\n"
     ]
    }
   ],
   "source": [
    "# STRANGE !!!!\n",
    "# A strange thing happens if you just print a range:\n",
    "print(range(10))"
   ]
  },
  {
   "cell_type": "markdown",
   "metadata": {},
   "source": [
    "> NOTE: In many ways the object returned by `range()` (https://docs.python.org/3/library/stdtypes.html#range) behaves as if it is a list, but in fact it isn’t. It is an object which returns the successive items of the desired sequence when you iterate over it, but it doesn’t really make the list, thus saving space.<br>\n",
    "We say such an object is **iterable** (https://docs.python.org/3/glossary.html#term-iterable)."
   ]
  },
  {
   "cell_type": "markdown",
   "metadata": {},
   "source": [
    "The function `sum()` and `list()` takes in an **iterable**."
   ]
  },
  {
   "cell_type": "code",
   "execution_count": 119,
   "metadata": {},
   "outputs": [
    {
     "data": {
      "text/plain": [
       "10"
      ]
     },
     "execution_count": 119,
     "metadata": {},
     "output_type": "execute_result"
    }
   ],
   "source": [
    "sum(range(1,5))   # sum 1 + 2 + 3 + 4"
   ]
  },
  {
   "cell_type": "code",
   "execution_count": 120,
   "metadata": {},
   "outputs": [
    {
     "data": {
      "text/plain": [
       "[0, 1, 2, 3]"
      ]
     },
     "execution_count": 120,
     "metadata": {},
     "output_type": "execute_result"
    }
   ],
   "source": [
    "list(range(4))    # get a list from a range"
   ]
  },
  {
   "cell_type": "markdown",
   "metadata": {},
   "source": [
    "## `break` and `continue` Statements, and `else` Clauses on Loops"
   ]
  },
  {
   "cell_type": "markdown",
   "metadata": {},
   "source": [
    "Loop statements may have an `else` clause;<br>\n",
    "it is executed when the loop terminates through exhaustion of the iterable (with `for`), i.e. when no `break` occurs<br>\n",
    "or when the condition becomes false (with `while`), but not when the loop is terminated by a `break` statement."
   ]
  },
  {
   "cell_type": "code",
   "execution_count": 121,
   "metadata": {},
   "outputs": [
    {
     "name": "stdout",
     "output_type": "stream",
     "text": [
      "2 is a prime number\n",
      "3 is a prime number\n",
      "4 equals 2 * 2\n",
      "5 is a prime number\n",
      "6 equals 2 * 3\n",
      "7 is a prime number\n",
      "8 equals 2 * 4\n",
      "9 equals 3 * 3\n"
     ]
    }
   ],
   "source": [
    "for n in range(2, 10):\n",
    "   for x in range(2, n):\n",
    "      if n % x == 0:\n",
    "         print(n, 'equals', x, '*', n//x)\n",
    "         break\n",
    "   else:\n",
    "      # loop fell through without finding a factor\n",
    "      print(n, 'is a prime number')"
   ]
  },
  {
   "cell_type": "markdown",
   "metadata": {},
   "source": [
    "The `continue` statement, also borrowed from C, continues with the next iteration of the loop:"
   ]
  },
  {
   "cell_type": "code",
   "execution_count": 122,
   "metadata": {},
   "outputs": [
    {
     "name": "stdout",
     "output_type": "stream",
     "text": [
      "Found an even number 2\n",
      "Found a number 3\n",
      "Found an even number 4\n",
      "Found a number 5\n",
      "Found an even number 6\n",
      "Found a number 7\n",
      "Found an even number 8\n",
      "Found a number 9\n"
     ]
    }
   ],
   "source": [
    "for num in range(2, 10):\n",
    "   if num % 2 == 0:\n",
    "      print(\"Found an even number\", num)\n",
    "      continue\n",
    "   print(\"Found a number\", num)"
   ]
  },
  {
   "cell_type": "markdown",
   "metadata": {},
   "source": [
    "## `pass` Statements\n",
    "The pass statement does nothing. It can be used when a statement is required syntactically but the program requires no action. For example:"
   ]
  },
  {
   "cell_type": "code",
   "execution_count": null,
   "metadata": {},
   "outputs": [],
   "source": [
    "while True:\n",
    "   pass"
   ]
  },
  {
   "cell_type": "code",
   "execution_count": null,
   "metadata": {},
   "outputs": [],
   "source": [
    "class MyEmptyClass:\n",
    "   pass"
   ]
  },
  {
   "cell_type": "code",
   "execution_count": null,
   "metadata": {},
   "outputs": [],
   "source": [
    "def initlog(*args):\n",
    "   pass   # Remember to implement this!"
   ]
  },
  {
   "cell_type": "markdown",
   "metadata": {},
   "source": [
    "## Defining Functions"
   ]
  },
  {
   "cell_type": "code",
   "execution_count": 1,
   "metadata": {},
   "outputs": [
    {
     "name": "stdout",
     "output_type": "stream",
     "text": [
      "0 1 1 2 3 5 8 13 21 34 55 89 144 233 377 610 987 1597 \n",
      "0 1 1 2 3 5 8 13 21 34 55 89 144 233 377 610 987 1597 \n",
      "<function fib at 0x7f1bc4312b80>\n",
      "<function fib at 0x7f1bc4312b80>\n"
     ]
    }
   ],
   "source": [
    "def fib(n):    # write Fibonacci series up to n\n",
    "   \"\"\"Print a Fibonacci series up to n.\"\"\"\n",
    "   a, b = 0, 1\n",
    "   while a < n:\n",
    "      print(a, end=' ')\n",
    "      a, b = b, a+b\n",
    "   print()\n",
    "\n",
    "# Now call the function we just defined:\n",
    "fib(2000)\n",
    "\n",
    "f = fib\n",
    "f(2000)\n",
    "\n",
    "print(fib)\n",
    "print(f)"
   ]
  },
  {
   "cell_type": "markdown",
   "metadata": {},
   "source": [
    "> the \"\"\" line is optionally a string literal which is the function’s *Documentation String* (https://docs.python.org/3/tutorial/controlflow.html#tut-docstrings) or *docstring*."
   ]
  },
  {
   "cell_type": "markdown",
   "metadata": {},
   "source": [
    "> Arguments are passed using call by value (where the value is always an object reference, not the value of the object)."
   ]
  },
  {
   "cell_type": "markdown",
   "metadata": {},
   "source": [
    "> A function definition introduces the function name in the current symbol table. The value of the function name has a type that is recognized by the interpreter as a user-defined function. This value can be assigned to another name which can then also be used as a function. This serves as a general renaming mechanism:"
   ]
  },
  {
   "cell_type": "code",
   "execution_count": 2,
   "metadata": {},
   "outputs": [
    {
     "name": "stdout",
     "output_type": "stream",
     "text": [
      "\n",
      "\n",
      "None\n"
     ]
    }
   ],
   "source": [
    "fib(0)\n",
    "print(fib(0))"
   ]
  },
  {
   "cell_type": "markdown",
   "metadata": {},
   "source": [
    "> functions without a `return` statement do return a value, albeit a rather boring one. \n",
    "This value is called `None` (it’s a built-in name). Writing the value `None` is normally suppressed by the interpreter\n",
    "if it would be the only value written. You can see it if you really want to using `print()`"
   ]
  },
  {
   "cell_type": "code",
   "execution_count": 20,
   "metadata": {},
   "outputs": [
    {
     "name": "stdout",
     "output_type": "stream",
     "text": [
      "[0, 1, 1, 2, 3, 5, 8, 13, 21, 34, 55, 89]\n"
     ]
    }
   ],
   "source": [
    "def fib2(n):  # return Fibonacci series up to n\n",
    "   \"\"\"Return a list containing the Fibonacci series up to n.\"\"\"\n",
    "   result = []\n",
    "   a, b = 0, 1\n",
    "   while a < n:\n",
    "      result.append(a)    # see below\n",
    "      a, b = b, a+b\n",
    "   return result\n",
    "\n",
    "print( fib2(100) )"
   ]
  },
  {
   "cell_type": "markdown",
   "metadata": {},
   "source": [
    "## More on Defining Functions"
   ]
  },
  {
   "cell_type": "markdown",
   "metadata": {},
   "source": [
    "### Default Argument Values"
   ]
  },
  {
   "cell_type": "code",
   "execution_count": 6,
   "metadata": {},
   "outputs": [
    {
     "name": "stdin",
     "output_type": "stream",
     "text": [
      "yes or no ? : y\n"
     ]
    },
    {
     "data": {
      "text/plain": [
       "True"
      ]
     },
     "execution_count": 6,
     "metadata": {},
     "output_type": "execute_result"
    }
   ],
   "source": [
    "def ask_ok(prompt, retries=4, reminder='Please try again!'):\n",
    "    while True:\n",
    "        ok = input(prompt)\n",
    "        if ok in ('y', 'ye', 'yes'):\n",
    "            return True\n",
    "        if ok in ('n', 'no', 'nop', 'nope'):\n",
    "            return False\n",
    "        retries = retries - 1\n",
    "        if retries < 0:\n",
    "            raise ValueError('invalid user response')\n",
    "        print(reminder)\n",
    "\n",
    "ask_ok(\"yes or no ? :\")"
   ]
  },
  {
   "cell_type": "code",
   "execution_count": 10,
   "metadata": {},
   "outputs": [
    {
     "name": "stdin",
     "output_type": "stream",
     "text": [
      "yes or no ? : v\n"
     ]
    },
    {
     "name": "stdout",
     "output_type": "stream",
     "text": [
      "Please try again!\n"
     ]
    },
    {
     "name": "stdin",
     "output_type": "stream",
     "text": [
      "yes or no ? : ye\n"
     ]
    },
    {
     "data": {
      "text/plain": [
       "True"
      ]
     },
     "execution_count": 10,
     "metadata": {},
     "output_type": "execute_result"
    }
   ],
   "source": [
    "ask_ok(\"yes or no ? :\", 3)"
   ]
  },
  {
   "cell_type": "code",
   "execution_count": 8,
   "metadata": {},
   "outputs": [
    {
     "name": "stdin",
     "output_type": "stream",
     "text": [
      "yes or no ? : v\n"
     ]
    },
    {
     "name": "stdout",
     "output_type": "stream",
     "text": [
      "come one!\n"
     ]
    },
    {
     "name": "stdin",
     "output_type": "stream",
     "text": [
      "yes or no ? : v\n"
     ]
    },
    {
     "name": "stdout",
     "output_type": "stream",
     "text": [
      "come one!\n"
     ]
    },
    {
     "name": "stdin",
     "output_type": "stream",
     "text": [
      "yes or no ? : v\n"
     ]
    },
    {
     "ename": "ValueError",
     "evalue": "invalid user response",
     "output_type": "error",
     "traceback": [
      "\u001b[0;31m---------------------------------------------------------------------------\u001b[0m",
      "\u001b[0;31mValueError\u001b[0m                                Traceback (most recent call last)",
      "\u001b[0;32m<ipython-input-8-05e08a5aa795>\u001b[0m in \u001b[0;36m<module>\u001b[0;34m\u001b[0m\n\u001b[0;32m----> 1\u001b[0;31m \u001b[0mask_ok\u001b[0m\u001b[0;34m(\u001b[0m\u001b[0;34m\"yes or no ? :\"\u001b[0m\u001b[0;34m,\u001b[0m \u001b[0;36m2\u001b[0m\u001b[0;34m,\u001b[0m \u001b[0;34m\"come one!\"\u001b[0m\u001b[0;34m)\u001b[0m\u001b[0;34m\u001b[0m\u001b[0;34m\u001b[0m\u001b[0m\n\u001b[0m",
      "\u001b[0;32m<ipython-input-6-35c3e22d3e74>\u001b[0m in \u001b[0;36mask_ok\u001b[0;34m(prompt, retries, reminder)\u001b[0m\n\u001b[1;32m      8\u001b[0m         \u001b[0mretries\u001b[0m \u001b[0;34m=\u001b[0m \u001b[0mretries\u001b[0m \u001b[0;34m-\u001b[0m \u001b[0;36m1\u001b[0m\u001b[0;34m\u001b[0m\u001b[0;34m\u001b[0m\u001b[0m\n\u001b[1;32m      9\u001b[0m         \u001b[0;32mif\u001b[0m \u001b[0mretries\u001b[0m \u001b[0;34m<\u001b[0m \u001b[0;36m0\u001b[0m\u001b[0;34m:\u001b[0m\u001b[0;34m\u001b[0m\u001b[0;34m\u001b[0m\u001b[0m\n\u001b[0;32m---> 10\u001b[0;31m             \u001b[0;32mraise\u001b[0m \u001b[0mValueError\u001b[0m\u001b[0;34m(\u001b[0m\u001b[0;34m'invalid user response'\u001b[0m\u001b[0;34m)\u001b[0m\u001b[0;34m\u001b[0m\u001b[0;34m\u001b[0m\u001b[0m\n\u001b[0m\u001b[1;32m     11\u001b[0m         \u001b[0mprint\u001b[0m\u001b[0;34m(\u001b[0m\u001b[0mreminder\u001b[0m\u001b[0;34m)\u001b[0m\u001b[0;34m\u001b[0m\u001b[0;34m\u001b[0m\u001b[0m\n\u001b[1;32m     12\u001b[0m \u001b[0;34m\u001b[0m\u001b[0m\n",
      "\u001b[0;31mValueError\u001b[0m: invalid user response"
     ]
    }
   ],
   "source": [
    "ask_ok(\"yes or no ? :\", 2, \"come one!\")"
   ]
  },
  {
   "cell_type": "code",
   "execution_count": 9,
   "metadata": {},
   "outputs": [
    {
     "name": "stdout",
     "output_type": "stream",
     "text": [
      "5\n"
     ]
    }
   ],
   "source": [
    "i = 5\n",
    "\n",
    "def f(arg=i):\n",
    "    print(arg)\n",
    "\n",
    "i = 6\n",
    "f()"
   ]
  },
  {
   "cell_type": "markdown",
   "metadata": {},
   "source": [
    "> The default values are evaluated at the point of function definition in the defining scope"
   ]
  },
  {
   "cell_type": "code",
   "execution_count": 14,
   "metadata": {},
   "outputs": [
    {
     "name": "stdout",
     "output_type": "stream",
     "text": [
      "[1]\n",
      "[1, 2]\n",
      "[1, 2, 3]\n"
     ]
    }
   ],
   "source": [
    "def f(a, L=[]):\n",
    "    L.append(a)\n",
    "    return L\n",
    "\n",
    "print(f(1))\n",
    "print(f(2))\n",
    "print(f(3))"
   ]
  },
  {
   "cell_type": "markdown",
   "metadata": {},
   "source": [
    "> **Important warning**: The default value is **evaluated only once**. This makes a difference when the default is a mutable object such as a list, dictionary, or instances of most classes. For example, the following function accumulates the arguments passed to it on subsequent calls:"
   ]
  },
  {
   "cell_type": "code",
   "execution_count": 17,
   "metadata": {},
   "outputs": [
    {
     "name": "stdout",
     "output_type": "stream",
     "text": [
      "[1]\n",
      "[2]\n",
      "[3]\n"
     ]
    }
   ],
   "source": [
    "def f(a, L=None):\n",
    "    if L is None:\n",
    "        L = []\n",
    "    L.append(a)\n",
    "    return L\n",
    "\n",
    "print(f(1))\n",
    "print(f(2))\n",
    "print(f(3))"
   ]
  },
  {
   "cell_type": "markdown",
   "metadata": {},
   "source": [
    ">  the default NOT shared between subsequent calls,"
   ]
  },
  {
   "cell_type": "markdown",
   "metadata": {},
   "source": [
    "### Keyword Arguments\n",
    "Keyword parameters are also referred to as named parameters.  "
   ]
  },
  {
   "cell_type": "code",
   "execution_count": 9,
   "metadata": {},
   "outputs": [
    {
     "name": "stdout",
     "output_type": "stream",
     "text": [
      "Ali likes apples everyday !!\n",
      "Chong likes apples everyday !!\n",
      "Alan likes oranges everyday !!\n",
      "Alan likes oranges everyday !!\n",
      "Gobi loves Coconuts everyday !!\n",
      "Gobi likes apples every month !!\n"
     ]
    }
   ],
   "source": [
    "def fun(name, verb='likes', thing='apples', freq='everyday'):\n",
    "   print(name, verb, thing, freq, '!!')\n",
    "\n",
    "fun('Ali')                         # 1 positional argument  \n",
    "fun(name='Chong')                  # 1 keyword argument\n",
    "fun(name='Alan', thing='oranges')  # 2 keyword arguments\n",
    "fun(thing='oranges', name='Alan')  # 2 keyword arguments\n",
    "fun('Gobi', 'loves', 'Coconuts')   # 3 positional arguments\n",
    "fun('Gobi', freq='every month')    # 1 positional, 1 keyword argument"
   ]
  },
  {
   "cell_type": "markdown",
   "metadata": {},
   "source": [
    "**Variable Length Positional Arguments** : formal parameter of the form `*name`, receives a tuple containing the positional arguments beyond the formal parameter list.  \n",
    "**Variable Length Keyword Arguments** formal parameter of the form `**name`, receives a dictionary containing all keyword arguments except for those corresponding to a formal parameter.  \n",
    "`*name` must occur before `**name`"
   ]
  },
  {
   "cell_type": "code",
   "execution_count": 36,
   "metadata": {},
   "outputs": [
    {
     "name": "stdout",
     "output_type": "stream",
     "text": [
      "arguments= (\"It's very runny, sir.\", \"It's really very, VERY runny, sir.\")\n",
      "keywords= {'shopkeeper': 'Michael Palin', 'client': 'John Cleese', 'sketch': 'Cheese Shop Sketch'}\n",
      "-- Do you have any Limburger ?\n",
      "-- I'm sorry, we're all out of Limburger\n",
      "It's very runny, sir.\n",
      "It's really very, VERY runny, sir.\n",
      "----------------------------------------\n",
      "shopkeeper : Michael Palin\n",
      "client : John Cleese\n",
      "sketch : Cheese Shop Sketch\n"
     ]
    }
   ],
   "source": [
    "def cheeseshop(kind, *arguments, **keywords):\n",
    "    print(\"arguments=\", arguments)\n",
    "    print(\"keywords=\",keywords)\n",
    "    print(\"-- Do you have any\", kind, \"?\")\n",
    "    print(\"-- I'm sorry, we're all out of\", kind)\n",
    "    for arg in arguments:\n",
    "        print(arg)\n",
    "    print(\"-\" * 40)\n",
    "    for kw in keywords:\n",
    "        print(kw, \":\", keywords[kw])\n",
    "        \n",
    "cheeseshop(\"Limburger\", \"It's very runny, sir.\",\n",
    "           \"It's really very, VERY runny, sir.\",\n",
    "           shopkeeper=\"Michael Palin\",\n",
    "           client=\"John Cleese\",\n",
    "           sketch=\"Cheese Shop Sketch\")\n"
   ]
  },
  {
   "cell_type": "markdown",
   "metadata": {},
   "source": [
    "> Note the output:\n",
    "> - `arguments` contains `tuple` containing the positional arguments\n",
    "> - `keywords` contains dictionary containing all keyword arguments"
   ]
  },
  {
   "cell_type": "markdown",
   "metadata": {},
   "source": [
    "### Special parameters"
   ]
  },
  {
   "cell_type": "code",
   "execution_count": 1,
   "metadata": {},
   "outputs": [
    {
     "name": "stdout",
     "output_type": "stream",
     "text": [
      "3.8.1 (default, Jan  8 2020, 22:29:32) \n",
      "[GCC 7.3.0]\n",
      "sys.version_info(major=3, minor=8, micro=1, releaselevel='final', serial=0)\n"
     ]
    }
   ],
   "source": [
    "import sys\n",
    "print (sys.version)\n",
    "print (sys.version_info)"
   ]
  },
  {
   "cell_type": "markdown",
   "metadata": {},
   "source": [
    "**A function definition may look like:**"
   ]
  },
  {
   "cell_type": "raw",
   "metadata": {},
   "source": [
    "def f(pos1, pos2, /, pos_or_kwd, *, kwd1, kwd2):\n",
    "      -----------    ----------     ----------\n",
    "        |             |                  |\n",
    "        |        Positional or keyword   |\n",
    "        |                                - Keyword only\n",
    "         -- Positional only\n",
    "\n",
    "where / and * are optional."
   ]
  },
  {
   "cell_type": "markdown",
   "metadata": {},
   "source": [
    "> / and * works in Python version 3.8 and above."
   ]
  },
  {
   "cell_type": "code",
   "execution_count": 23,
   "metadata": {},
   "outputs": [
    {
     "name": "stdout",
     "output_type": "stream",
     "text": [
      "1\n",
      "2\n",
      "3\n",
      "4\n",
      "5 6 7\n",
      "8 9 10\n"
     ]
    }
   ],
   "source": [
    "def standard_arg(arg):\n",
    "    print(arg)\n",
    "\n",
    "def pos_only_arg(arg, /):\n",
    "    print(arg)\n",
    "\n",
    "def kwd_only_arg(*, arg):\n",
    "    print(arg)\n",
    "\n",
    "def combined_example(pos_only, /, standard, *, kwd_only):\n",
    "    print(pos_only, standard, kwd_only)\n",
    "    \n",
    "standard_arg(1)      # ok\n",
    "standard_arg(arg=2)  # ok\n",
    "\n",
    "pos_only_arg(3)      # ok\n",
    "\n",
    "kwd_only_arg(arg=4)  # ok\n",
    "\n",
    "combined_example(5, 6, kwd_only=7)             # ok\n",
    "combined_example(8, standard=9, kwd_only=10)   # ok"
   ]
  },
  {
   "cell_type": "code",
   "execution_count": 24,
   "metadata": {},
   "outputs": [
    {
     "ename": "TypeError",
     "evalue": "pos_only_arg() got some positional-only arguments passed as keyword arguments: 'arg'",
     "output_type": "error",
     "traceback": [
      "\u001b[0;31m---------------------------------------------------------------------------\u001b[0m",
      "\u001b[0;31mTypeError\u001b[0m                                 Traceback (most recent call last)",
      "\u001b[0;32m<ipython-input-24-44f8949cfcf2>\u001b[0m in \u001b[0;36m<module>\u001b[0;34m\u001b[0m\n\u001b[0;32m----> 1\u001b[0;31m \u001b[0mpos_only_arg\u001b[0m\u001b[0;34m(\u001b[0m\u001b[0marg\u001b[0m\u001b[0;34m=\u001b[0m\u001b[0;36m11\u001b[0m\u001b[0;34m)\u001b[0m  \u001b[0;31m# NOT ok\u001b[0m\u001b[0;34m\u001b[0m\u001b[0;34m\u001b[0m\u001b[0m\n\u001b[0m",
      "\u001b[0;31mTypeError\u001b[0m: pos_only_arg() got some positional-only arguments passed as keyword arguments: 'arg'"
     ]
    }
   ],
   "source": [
    "pos_only_arg(arg=11)  # NOT ok"
   ]
  },
  {
   "cell_type": "code",
   "execution_count": 25,
   "metadata": {},
   "outputs": [
    {
     "ename": "TypeError",
     "evalue": "kwd_only_arg() takes 0 positional arguments but 1 was given",
     "output_type": "error",
     "traceback": [
      "\u001b[0;31m---------------------------------------------------------------------------\u001b[0m",
      "\u001b[0;31mTypeError\u001b[0m                                 Traceback (most recent call last)",
      "\u001b[0;32m<ipython-input-25-657a760e10a2>\u001b[0m in \u001b[0;36m<module>\u001b[0;34m\u001b[0m\n\u001b[0;32m----> 1\u001b[0;31m \u001b[0mkwd_only_arg\u001b[0m\u001b[0;34m(\u001b[0m\u001b[0;36m12\u001b[0m\u001b[0;34m)\u001b[0m  \u001b[0;31m# NOT ok\u001b[0m\u001b[0;34m\u001b[0m\u001b[0;34m\u001b[0m\u001b[0m\n\u001b[0m",
      "\u001b[0;31mTypeError\u001b[0m: kwd_only_arg() takes 0 positional arguments but 1 was given"
     ]
    }
   ],
   "source": [
    "kwd_only_arg(12)  # NOT ok"
   ]
  },
  {
   "cell_type": "code",
   "execution_count": 26,
   "metadata": {},
   "outputs": [
    {
     "ename": "SyntaxError",
     "evalue": "positional argument follows keyword argument (<ipython-input-26-9e8b02ee4952>, line 1)",
     "output_type": "error",
     "traceback": [
      "\u001b[0;36m  File \u001b[0;32m\"<ipython-input-26-9e8b02ee4952>\"\u001b[0;36m, line \u001b[0;32m1\u001b[0m\n\u001b[0;31m    combined_example(8, standard=9, 10)   # NOT ok\u001b[0m\n\u001b[0m                                    ^\u001b[0m\n\u001b[0;31mSyntaxError\u001b[0m\u001b[0;31m:\u001b[0m positional argument follows keyword argument\n"
     ]
    }
   ],
   "source": [
    "combined_example(8, standard=9, 10)   # NOT ok"
   ]
  },
  {
   "cell_type": "code",
   "execution_count": 68,
   "metadata": {},
   "outputs": [
    {
     "ename": "TypeError",
     "evalue": "foo() got multiple values for argument 'name'",
     "output_type": "error",
     "traceback": [
      "\u001b[0;31m---------------------------------------------------------------------------\u001b[0m",
      "\u001b[0;31mTypeError\u001b[0m                                 Traceback (most recent call last)",
      "\u001b[0;32m<ipython-input-68-8c980cdd63b2>\u001b[0m in \u001b[0;36m<module>\u001b[0;34m\u001b[0m\n\u001b[1;32m      2\u001b[0m     \u001b[0;32mreturn\u001b[0m \u001b[0;34m'name'\u001b[0m \u001b[0;32min\u001b[0m \u001b[0mkwds\u001b[0m\u001b[0;34m\u001b[0m\u001b[0;34m\u001b[0m\u001b[0m\n\u001b[1;32m      3\u001b[0m \u001b[0;34m\u001b[0m\u001b[0m\n\u001b[0;32m----> 4\u001b[0;31m \u001b[0mfoo\u001b[0m\u001b[0;34m(\u001b[0m\u001b[0;36m1\u001b[0m\u001b[0;34m,\u001b[0m \u001b[0;34m**\u001b[0m\u001b[0;34m{\u001b[0m\u001b[0;34m'name'\u001b[0m\u001b[0;34m:\u001b[0m \u001b[0;36m2\u001b[0m\u001b[0;34m}\u001b[0m\u001b[0;34m)\u001b[0m   \u001b[0;31m# will produce ERROR !!\u001b[0m\u001b[0;34m\u001b[0m\u001b[0;34m\u001b[0m\u001b[0m\n\u001b[0m",
      "\u001b[0;31mTypeError\u001b[0m: foo() got multiple values for argument 'name'"
     ]
    }
   ],
   "source": [
    "def foo(name, **kwds):\n",
    "    return 'name' in kwds\n",
    "\n",
    "foo(1, **{'name': 2})   # will produce ERROR because got multiple values for argument 'name' !!"
   ]
  },
  {
   "cell_type": "code",
   "execution_count": 5,
   "metadata": {},
   "outputs": [
    {
     "data": {
      "text/plain": [
       "True"
      ]
     },
     "execution_count": 5,
     "metadata": {},
     "output_type": "execute_result"
    }
   ],
   "source": [
    "def foo(name, /, **kwds):  # ADDED / (positional only arguments)\n",
    "    return 'name' in kwds\n",
    "\n",
    "foo(1, **{'name': 2})   # now it is okay."
   ]
  },
  {
   "cell_type": "markdown",
   "metadata": {},
   "source": [
    "> As guidance:  \n",
    "> - Use positional-only if you want the name of the parameters to not be available to the user. This is useful when parameter names have no real meaning, if you want to enforce the order of the arguments when the function is called or if you need to take some positional parameters and arbitrary keywords.  \n",
    "> - Use keyword-only when names have meaning and the function definition is more understandable by being explicit with names or you want to prevent users relying on the position of the argument being passed.  \n",
    "> - For an API, use positional-only to prevent breaking API changes if the parameter’s name is modified in the future.  "
   ]
  },
  {
   "cell_type": "markdown",
   "metadata": {},
   "source": [
    "### Arbitrary Argument Lists"
   ]
  },
  {
   "cell_type": "markdown",
   "metadata": {},
   "source": [
    "- specify that a function can be called with an arbitrary number of arguments.\n",
    "- These arguments will be wrapped up in a tuple (Tuples and Sequences).\n",
    "- Before the variable number of arguments, zero or more normal arguments may occur.\n",
    "- __Any formal parameters which occur after the *args parameter are ‘keyword-only’ arguments__"
   ]
  },
  {
   "cell_type": "code",
   "execution_count": 106,
   "metadata": {},
   "outputs": [
    {
     "name": "stdout",
     "output_type": "stream",
     "text": [
      "apple+orange+coconut+banana\n",
      "apple+orange+coconut+banana\n",
      "arguments passed inside function is:  ('apple', 'orange', 'coconut', 'banana')\n",
      "apple+orange+coconut+banana\n"
     ]
    }
   ],
   "source": [
    "def fun(separator, *args):   # args is a tuple containing arguments\n",
    "    print(\"arguments passed inside function is: \", args)\n",
    "    s = separator.join(args)\n",
    "    return s\n",
    "\n",
    "# words in a tuple\n",
    "wordlist = (\"apple\", \"orange\", \"coconut\", \"banana\")\n",
    "separator = '+'\n",
    "s = separator.join(wordlist)\n",
    "print(s)\n",
    "\n",
    "# words in a list\n",
    "wordlist = [\"apple\", \"orange\", \"coconut\", \"banana\"]\n",
    "separator = '+'\n",
    "s = separator.join(wordlist)\n",
    "print(s)\n",
    "\n",
    "s = fun('+', \"apple\", \"orange\", \"coconut\", \"banana\")\n",
    "print(s)"
   ]
  },
  {
   "cell_type": "code",
   "execution_count": 107,
   "metadata": {},
   "outputs": [
    {
     "name": "stdout",
     "output_type": "stream",
     "text": [
      "arguments passed inside function is:  ('apple', 'orange', 'coconut', 'banana')\n",
      "apple.orange.coconut.banana\n"
     ]
    }
   ],
   "source": [
    "def fun(*args, separator):   # args is a tuple containing arguments\n",
    "    print(\"arguments passed inside function is: \", args)\n",
    "    s = separator.join(args)\n",
    "    return s\n",
    "\n",
    "# '+' can only be passed in as keyword argument\n",
    "# s = fun(\"apple\", \"orange\", \"coconut\", \"banana\", '+') # This will NOT work\n",
    "\n",
    "s = fun(\"apple\", \"orange\", \"coconut\", \"banana\", separator='.')\n",
    "print(s)"
   ]
  },
  {
   "cell_type": "markdown",
   "metadata": {},
   "source": [
    "### Unpacking Argument Lists\n",
    "When the arguments are already in a list or tuple but **need to be unpacked** for a function\n",
    "Solution: pass the list or tuple as argument `*list`"
   ]
  },
  {
   "cell_type": "code",
   "execution_count": 108,
   "metadata": {},
   "outputs": [
    {
     "name": "stdout",
     "output_type": "stream",
     "text": [
      "arguments passed inside function is:  ('apple', 'orange', 'coconut', 'banana')\n",
      "apple.orange.coconut.banana\n",
      "arguments passed inside function is:  ('apple', 'orange', 'coconut', 'banana')\n",
      "apple.orange.coconut.banana\n"
     ]
    }
   ],
   "source": [
    "def fun(*args, separator):   # args is a tuple containing arguments\n",
    "    print(\"arguments passed inside function is: \", args)\n",
    "    s = separator.join(args)\n",
    "    return s\n",
    "\n",
    "wordlist = (\"apple\", \"orange\", \"coconut\", \"banana\")  # wordlist already is a tuple\n",
    "s = fun(*wordlist, separator='.')                  # note the '*' in front of wordlist\n",
    "print(s)\n",
    "\n",
    "wordlist = [\"apple\", \"orange\", \"coconut\", \"banana\"]   # wordlist already is a list\n",
    "s = fun(*wordlist, separator='.')                   # note the '*' in front of wordlist\n",
    "print(s)"
   ]
  },
  {
   "cell_type": "code",
   "execution_count": 66,
   "metadata": {},
   "outputs": [
    {
     "name": "stdout",
     "output_type": "stream",
     "text": [
      "range(3, 6)\n",
      "[3, 4, 5]\n",
      "range(3, 6)\n",
      "[3, 4, 5]\n"
     ]
    }
   ],
   "source": [
    "r = range(3, 6)\n",
    "print(r)\n",
    "print(list(r))\n",
    "\n",
    "n = (3, 6)\n",
    "r = range(*n)   # n already is a tuple, *n would unpack it\n",
    "print(r)\n",
    "print(list(r))"
   ]
  },
  {
   "cell_type": "code",
   "execution_count": 104,
   "metadata": {},
   "outputs": [
    {
     "name": "stdout",
     "output_type": "stream",
     "text": [
      "apple.orange.coconut.banana\n",
      "apple.orange.coconut.banana\n"
     ]
    }
   ],
   "source": [
    "def fun(a, b, c, d):   \n",
    "    s = a + '.' + b + '.' + c + '.' + d\n",
    "    return s\n",
    "\n",
    "wordlist = (\"apple\", \"orange\", \"coconut\", \"banana\")  # wordlist is a tuple\n",
    "s = fun(*wordlist)                  # note the '*' in front of wordlist\n",
    "print(s)\n",
    "\n",
    "wordlist = [\"apple\", \"orange\", \"coconut\", \"banana\"]  # wordlist is a list\n",
    "s = fun(*wordlist)                  # note the '*' in front of wordlist\n",
    "print(s)"
   ]
  },
  {
   "cell_type": "code",
   "execution_count": 105,
   "metadata": {},
   "outputs": [
    {
     "name": "stdout",
     "output_type": "stream",
     "text": [
      "Mr. Chong(4123)\n",
      "Mr. Chong(4123)\n",
      "Mr. Chong(4123)\n"
     ]
    }
   ],
   "source": [
    "def fun(name, id, title):   \n",
    "    return title + ' ' + name + '(' + id + ')' \n",
    "\n",
    "s = fun(name='Chong', id='4123', title='Mr.')       # arguments directly using keywords\n",
    "print(s)\n",
    "\n",
    "record = {'name':'Chong', 'id':'4123', 'title':'Mr.'}  # record is a dictionary\n",
    "s = fun(**record)                  # note the '**' in front of record\n",
    "print(s)\n",
    "\n",
    "record = {'id':'4123', 'title':'Mr.', 'name':'Chong'}  # record is a dictionary\n",
    "s = fun(**record)                  # note the '**' in front of record\n",
    "print(s)"
   ]
  },
  {
   "cell_type": "code",
   "execution_count": 110,
   "metadata": {},
   "outputs": [
    {
     "name": "stdout",
     "output_type": "stream",
     "text": [
      "{'name': 'Chong', 'id': '4123', 'title': 'Mr.'}\n",
      "Mr. Chong(4123)\n",
      "{'name': 'Chong', 'id': '4123', 'title': 'Mr.'}\n",
      "Mr. Chong(4123)\n",
      "{'id': '4123', 'title': 'Mr.', 'name': 'Chong'}\n",
      "Mr. Chong(4123)\n"
     ]
    }
   ],
   "source": [
    "def fun(**args):    # parameter now a variable keyword list\n",
    "    print(args)\n",
    "    return args['title'] + ' ' + args['name'] + '(' + args['id'] + ')' \n",
    "\n",
    "s = fun(name='Chong', id='4123', title='Mr.')       # arguments directly using keywords\n",
    "print(s)\n",
    "\n",
    "record = {'name':'Chong', 'id':'4123', 'title':'Mr.'}  # record is a dictionary\n",
    "s = fun(**record)                  # note the '**' in front of record\n",
    "print(s)\n",
    "\n",
    "record = {'id':'4123', 'title':'Mr.', 'name':'Chong'}  # record is a dictionary\n",
    "s = fun(**record)                  # note the '**' in front of record\n",
    "print(s)\n"
   ]
  },
  {
   "cell_type": "markdown",
   "metadata": {},
   "source": [
    "### Lambda Expressions\n",
    "- `Lambda` functions can be used wherever function objects are required.\n",
    "- syntactically restricted to a single expression.\n",
    "- can reference variables from the containing scope."
   ]
  },
  {
   "cell_type": "code",
   "execution_count": 111,
   "metadata": {},
   "outputs": [
    {
     "name": "stdout",
     "output_type": "stream",
     "text": [
      "47\n",
      "45\n",
      "42\n",
      "50\n"
     ]
    }
   ],
   "source": [
    "def make_incrementor(n):\n",
    "    return lambda x: x + n\n",
    "\n",
    "f = make_incrementor(42)\n",
    "\n",
    "print ( f(5) )\n",
    "print ( f(3) )\n",
    "print ( f(0) )\n",
    "print ( f(8) )"
   ]
  },
  {
   "cell_type": "code",
   "execution_count": 112,
   "metadata": {},
   "outputs": [
    {
     "name": "stdout",
     "output_type": "stream",
     "text": [
      "[(4, 'four'), (1, 'one'), (3, 'three'), (2, 'two')]\n",
      "[(1, 'one'), (2, 'two'), (3, 'three'), (4, 'four')]\n"
     ]
    }
   ],
   "source": [
    "pairs = [(1, 'one'), (2, 'two'), (3, 'three'), (4, 'four')]\n",
    "pairs.sort(key=lambda pair: pair[1])\n",
    "print( pairs )\n",
    "\n",
    "pairs.sort(key=lambda pair: pair[0])\n",
    "print( pairs )\n"
   ]
  },
  {
   "cell_type": "markdown",
   "metadata": {},
   "source": [
    "### Documentation Strings"
   ]
  },
  {
   "cell_type": "code",
   "execution_count": 113,
   "metadata": {},
   "outputs": [
    {
     "name": "stdout",
     "output_type": "stream",
     "text": [
      "Just an ordinary function.\n",
      "    \n",
      "    This is just a simple function\n",
      "    to test documentation strings\n",
      "    of Python.\n",
      "        \n",
      "    Notice that the line after the title\n",
      "    line is blank. Then indentation would \n",
      "    follow the identation of the first line\n",
      "    of this description.\n",
      "    \n"
     ]
    }
   ],
   "source": [
    "def myfunc(a, b):\n",
    "    \"\"\"Just an ordinary function.\n",
    "    \n",
    "    This is just a simple function\n",
    "    to test documentation strings\n",
    "    of Python.\n",
    "        \n",
    "    Notice that the line after the title\n",
    "    line is blank. Then indentation would \n",
    "    follow the identation of the first line\n",
    "    of this description.\n",
    "    \"\"\"\n",
    "    return a+b\n",
    "\n",
    "print(myfunc.__doc__)"
   ]
  },
  {
   "cell_type": "markdown",
   "metadata": {},
   "source": [
    "### Function Annotations\n",
    "- Function annotations are completely optional metadata information about the types used by user-defined functions (see PEP 3107 (https://www.python.org/dev/peps/pep-3107) and PEP 484 (https://www.python.org/dev/peps/pep-0484) for more information).\n",
    "\n",
    "- Annotations are stored in the __annotations__ attribute of the function as a dictionary\n",
    "- have no effect on any other part of the function. \n",
    "- Parameter annotations are defined by a colon after the parameter name, followed by an expression evaluating to the value of the annotation. \n",
    "- Return annotations are defined by a literal ->, followed by an expression, between the parameter list and the colon denoting the end of the def statement. \n",
    "- The following example has a positional argument, a keyword argument, and the return value annotated:"
   ]
  },
  {
   "cell_type": "code",
   "execution_count": 114,
   "metadata": {},
   "outputs": [
    {
     "name": "stdout",
     "output_type": "stream",
     "text": [
      "Annotations: {'ham': <class 'str'>, 'eggs': <class 'str'>, 'return': <class 'str'>}\n",
      "Arguments: spam eggs\n"
     ]
    },
    {
     "data": {
      "text/plain": [
       "'spam and eggs'"
      ]
     },
     "execution_count": 114,
     "metadata": {},
     "output_type": "execute_result"
    }
   ],
   "source": [
    "def f(ham: str, eggs: str = 'eggs') -> str:\n",
    "    print(\"Annotations:\", f.__annotations__)\n",
    "    print(\"Arguments:\", ham, eggs)\n",
    "    return ham + ' and ' + eggs\n",
    "\n",
    "f('spam')"
   ]
  },
  {
   "cell_type": "markdown",
   "metadata": {},
   "source": [
    "## Intermezzo: Coding Style"
   ]
  },
  {
   "cell_type": "markdown",
   "metadata": {},
   "source": [
    "PEP 8 -- Style Guide for Python Code  \n",
    "https://www.python.org/dev/peps/pep-0008/"
   ]
  },
  {
   "cell_type": "markdown",
   "metadata": {},
   "source": [
    "- Use 4-space indentation, and no tabs.\n",
    "\n",
    "   4 spaces are a good compromise between small indentation (allows greater nesting depth) and large indentation (easier to read). Tabs introduce confusion, and are best left out.\n",
    "\n",
    "- Wrap lines so that they don’t exceed 79 characters.\n",
    "\n",
    "   This helps users with small displays and makes it possible to have several code files side-by-side on larger displays.\n",
    "\n",
    "- Use blank lines to separate functions and classes, and larger blocks of code inside functions.\n",
    "\n",
    "- When possible, put comments on a line of their own.\n",
    "\n",
    "- Use docstrings.\n",
    "\n",
    "- Use spaces around operators and after commas, but not directly inside bracketing constructs: `a = f(1, 2) + g(3, 4)`.\n",
    "\n",
    "- Name your classes and functions consistently; the convention is to use `UpperCamelCase` for classes and `lowercase_with_underscores` for functions and methods. Always use `self` as the name for the first method argument (see A First Look at Classes (https://docs.python.org/3/tutorial/classes.html#tut-firstclasses) for more on classes and methods).\n",
    "\n",
    "- Don’t use fancy encodings if your code is meant to be used in international environments. Python’s default, UTF-8, or even plain ASCII work best in any case.\n",
    "\n",
    "- Likewise, don’t use non-ASCII characters in identifiers if there is only the slightest chance people speaking a different language will read or maintain the code."
   ]
  },
  {
   "cell_type": "markdown",
   "metadata": {},
   "source": [
    "# END OF The Python Tutorial -> More Control Flow Tools"
   ]
  },
  {
   "cell_type": "code",
   "execution_count": null,
   "metadata": {},
   "outputs": [],
   "source": []
  }
 ],
 "metadata": {
  "kernelspec": {
   "display_name": "Python 3",
   "language": "python",
   "name": "python3"
  },
  "language_info": {
   "codemirror_mode": {
    "name": "ipython",
    "version": 3
   },
   "file_extension": ".py",
   "mimetype": "text/x-python",
   "name": "python",
   "nbconvert_exporter": "python",
   "pygments_lexer": "ipython3",
   "version": "3.8.1"
  }
 },
 "nbformat": 4,
 "nbformat_minor": 4
}
