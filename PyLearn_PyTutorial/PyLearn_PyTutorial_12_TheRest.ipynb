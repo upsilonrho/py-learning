{
 "cells": [
  {
   "cell_type": "markdown",
   "metadata": {},
   "source": [
    "# <center>Learning Python</center>\n",
    "# The Python Tutorial -> The Rest\n",
    "- Virtual Environments and Packages  \n",
    "  https://docs.python.org/3/tutorial/venv.html\n",
    "- What Now?  \n",
    "  https://docs.python.org/3/tutorial/whatnow.html\n",
    "  - The Python Standard Library  \n",
    "    https://docs.python.org/3/library/index.html#library-index\n",
    "  - The Python Language Reference  \n",
    "    https://docs.python.org/3/reference/index.html#reference-index\n",
    "  - https://www.python.org/  \n",
    "  - Python Documentation  \n",
    "    https://docs.python.org/3/\n",
    "  - The Python Cookbook  \n",
    "    https://code.activestate.com/recipes/langs/python/\n",
    "  - http://www.pyvideo.org/\n",
    "  - SciPy  \n",
    "    https://scipy.org/\n",
    "- Interactive Input Editing and History Substitution  \n",
    "  https://docs.python.org/3/tutorial/interactive.html\n",
    "- Floating Point Arithmetic: Issues and Limitations  \n",
    "  https://docs.python.org/3/tutorial/floatingpoint.html\n",
    "- Appendix  \n",
    "  https://docs.python.org/3/tutorial/appendix.html\n",
    "   "
   ]
  },
  {
   "cell_type": "markdown",
   "metadata": {},
   "source": [
    "# END OF The Python Tutorial -> The Rest"
   ]
  },
  {
   "cell_type": "markdown",
   "metadata": {},
   "source": [
    "# <CENTER>**END OF THE PYTHON TUTORIAL**</CENTER>"
   ]
  }
 ],
 "metadata": {
  "kernelspec": {
   "display_name": "Python 3",
   "language": "python",
   "name": "python3"
  },
  "language_info": {
   "codemirror_mode": {
    "name": "ipython",
    "version": 3
   },
   "file_extension": ".py",
   "mimetype": "text/x-python",
   "name": "python",
   "nbconvert_exporter": "python",
   "pygments_lexer": "ipython3",
   "version": "3.8.1"
  }
 },
 "nbformat": 4,
 "nbformat_minor": 4
}
