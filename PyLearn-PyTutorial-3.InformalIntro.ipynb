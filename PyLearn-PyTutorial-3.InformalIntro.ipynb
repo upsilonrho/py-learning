{
 "cells": [
  {
   "cell_type": "markdown",
   "metadata": {},
   "source": [
    "# <center>Learning Python</center>\n",
    "# The Python Tutorial -> An Informal Introduction to Python\n",
    "Link: https://docs.python.org/3/tutorial/introduction.html\n",
    "\n",
    "# References\n",
    "- Python documentation  \n",
    "  https://docs.python.org/\n",
    "- The Python Tutorial   \n",
    "  https://docs.python.org/tutorial/\n",
    "- The Python Standard Library  \n",
    "  https://docs.python.org/library/index.html#library-index\n",
    "- The Python Language Reference  \n",
    "  https://docs.python.org/reference/index.html#reference-index\n",
    "- Extending and Embedding the Python Interpreter  \n",
    "  https://docs.python.org/extending/index.html#extending-index\n",
    "- Python/C API Reference Manual  \n",
    "  https://docs.python.org/c-api/index.html#c-api-index\n",
    "  "
   ]
  },
  {
   "cell_type": "markdown",
   "metadata": {},
   "source": [
    "## Numbers"
   ]
  },
  {
   "cell_type": "code",
   "execution_count": 1,
   "metadata": {},
   "outputs": [
    {
     "data": {
      "text/plain": [
       "7"
      ]
     },
     "execution_count": 1,
     "metadata": {},
     "output_type": "execute_result"
    }
   ],
   "source": [
    "3 + 4   # returns int"
   ]
  },
  {
   "cell_type": "code",
   "execution_count": 4,
   "metadata": {},
   "outputs": [
    {
     "data": {
      "text/plain": [
       "3.6666666666666665"
      ]
     },
     "execution_count": 4,
     "metadata": {},
     "output_type": "execute_result"
    }
   ],
   "source": [
    "11 / 3   # returns float"
   ]
  },
  {
   "cell_type": "code",
   "execution_count": 5,
   "metadata": {},
   "outputs": [
    {
     "data": {
      "text/plain": [
       "3.0"
      ]
     },
     "execution_count": 5,
     "metadata": {},
     "output_type": "execute_result"
    }
   ],
   "source": [
    "9 / 3    # returns float"
   ]
  },
  {
   "cell_type": "code",
   "execution_count": 6,
   "metadata": {},
   "outputs": [
    {
     "data": {
      "text/plain": [
       "3"
      ]
     },
     "execution_count": 6,
     "metadata": {},
     "output_type": "execute_result"
    }
   ],
   "source": [
    "11 // 3   # returns int which is floor of the result"
   ]
  },
  {
   "cell_type": "code",
   "execution_count": 17,
   "metadata": {},
   "outputs": [
    {
     "data": {
      "text/plain": [
       "2"
      ]
     },
     "execution_count": 17,
     "metadata": {},
     "output_type": "execute_result"
    }
   ],
   "source": [
    "11 % 3   # returns int which is remainder of the interger division"
   ]
  },
  {
   "cell_type": "code",
   "execution_count": 30,
   "metadata": {},
   "outputs": [
    {
     "data": {
      "text/plain": [
       "2744"
      ]
     },
     "execution_count": 30,
     "metadata": {},
     "output_type": "execute_result"
    }
   ],
   "source": [
    "14 ** 3   # power, NOTE: NOT ^"
   ]
  },
  {
   "cell_type": "code",
   "execution_count": 30,
   "metadata": {},
   "outputs": [
    {
     "data": {
      "text/plain": [
       "13"
      ]
     },
     "execution_count": 30,
     "metadata": {},
     "output_type": "execute_result"
    }
   ],
   "source": [
    "14 ^ 3   # this is NOT power, it is XOR, i.e. binary 1110 ^ 0011 equals 1101 (decimal 13)"
   ]
  },
  {
   "cell_type": "code",
   "execution_count": 176,
   "metadata": {},
   "outputs": [
    {
     "name": "stdout",
     "output_type": "stream",
     "text": [
      "-9\n",
      "9\n"
     ]
    }
   ],
   "source": [
    "a = -3**2      # BE CAREFUL !!! '**' HAS HIGHER PRECEDENCE THAN '-'\n",
    "b = (-3)**2\n",
    "print(a)\n",
    "print(b)"
   ]
  },
  {
   "cell_type": "code",
   "execution_count": 31,
   "metadata": {},
   "outputs": [
    {
     "data": {
      "text/plain": [
       "27"
      ]
     },
     "execution_count": 31,
     "metadata": {},
     "output_type": "execute_result"
    }
   ],
   "source": [
    "a = 2\n",
    "b = 3 + 4\n",
    "c = _ + a * b   # _ refers to the last PRINTED expression\n",
    "c"
   ]
  },
  {
   "cell_type": "markdown",
   "metadata": {},
   "source": [
    "## Strings"
   ]
  },
  {
   "cell_type": "code",
   "execution_count": 43,
   "metadata": {},
   "outputs": [
    {
     "data": {
      "text/plain": [
       "\"Isn't this nice?\""
      ]
     },
     "execution_count": 43,
     "metadata": {},
     "output_type": "execute_result"
    }
   ],
   "source": [
    "\"Isn't this nice?\""
   ]
  },
  {
   "cell_type": "code",
   "execution_count": 44,
   "metadata": {},
   "outputs": [
    {
     "data": {
      "text/plain": [
       "'He said \"hello\"!'"
      ]
     },
     "execution_count": 44,
     "metadata": {},
     "output_type": "execute_result"
    }
   ],
   "source": [
    "'He said \"hello\"!'"
   ]
  },
  {
   "cell_type": "code",
   "execution_count": 45,
   "metadata": {},
   "outputs": [
    {
     "data": {
      "text/plain": [
       "\"Isn't this nice?\""
      ]
     },
     "execution_count": 45,
     "metadata": {},
     "output_type": "execute_result"
    }
   ],
   "source": [
    "'Isn\\'t this nice?'   # single quote escaped"
   ]
  },
  {
   "cell_type": "code",
   "execution_count": 46,
   "metadata": {},
   "outputs": [
    {
     "data": {
      "text/plain": [
       "'He said \"hello\"!'"
      ]
     },
     "execution_count": 46,
     "metadata": {},
     "output_type": "execute_result"
    }
   ],
   "source": [
    "\"He said \\\"hello\\\"!\"   # double quote escaped"
   ]
  },
  {
   "cell_type": "code",
   "execution_count": 48,
   "metadata": {},
   "outputs": [
    {
     "name": "stdout",
     "output_type": "stream",
     "text": [
      "He said \"hello\"!\n"
     ]
    }
   ],
   "source": [
    "print(\"He said \\\"hello\\\"!\")   # output have no outer quotes"
   ]
  },
  {
   "cell_type": "code",
   "execution_count": 49,
   "metadata": {},
   "outputs": [
    {
     "data": {
      "text/plain": [
       "'this is first line\\nThis is second line.'"
      ]
     },
     "execution_count": 49,
     "metadata": {},
     "output_type": "execute_result"
    }
   ],
   "source": [
    "\"this is first line\\nThis is second line.\""
   ]
  },
  {
   "cell_type": "code",
   "execution_count": 50,
   "metadata": {},
   "outputs": [
    {
     "name": "stdout",
     "output_type": "stream",
     "text": [
      "this is first line\n",
      "This is second line.\n"
     ]
    }
   ],
   "source": [
    "print(\"this is first line\\nThis is second line.\")"
   ]
  },
  {
   "cell_type": "code",
   "execution_count": 52,
   "metadata": {},
   "outputs": [
    {
     "name": "stdout",
     "output_type": "stream",
     "text": [
      "this is first line\\nThis is second line.\n"
     ]
    }
   ],
   "source": [
    "print(r\"this is first line\\nThis is second line.\")   # r to specify that we want a RAW string."
   ]
  },
  {
   "cell_type": "code",
   "execution_count": 53,
   "metadata": {},
   "outputs": [
    {
     "name": "stdout",
     "output_type": "stream",
     "text": [
      "He said \\\"hello\\\"!\n"
     ]
    }
   ],
   "source": [
    "print(r\"He said \\\"hello\\\"!\")   # r to specify that we want a RAW string."
   ]
  },
  {
   "cell_type": "code",
   "execution_count": 76,
   "metadata": {},
   "outputs": [
    {
     "name": "stdout",
     "output_type": "stream",
     "text": [
      "    *\n",
      "   * *\n",
      "  *   *\n",
      "   * *\n",
      "    *\n"
     ]
    }
   ],
   "source": [
    "# String literals can span multiple lines\n",
    "# \\ is to prevent new line\n",
    "print(\"\"\"\\\n",
    "    *\n",
    "   * *\n",
    "  *   *\n",
    "   * *\n",
    "    *\\\n",
    "\"\"\")"
   ]
  },
  {
   "cell_type": "code",
   "execution_count": 77,
   "metadata": {},
   "outputs": [
    {
     "name": "stdout",
     "output_type": "stream",
     "text": [
      "A B C\n",
      "D E F\n",
      "G H I\n",
      "J K L\n",
      "\n",
      "A B C D E F\n",
      "G H I J K L\n",
      "\n"
     ]
    }
   ],
   "source": [
    "# \\ is to prevent new line\n",
    "# triple single quotes or triple double quotes\n",
    "print(\"\"\"A B C\n",
    "D E F\n",
    "G H I\n",
    "J K L\n",
    "\"\"\")\n",
    "print('''A B C \\\n",
    "D E F\n",
    "G H I \\\n",
    "J K L\n",
    "''')"
   ]
  },
  {
   "cell_type": "code",
   "execution_count": 80,
   "metadata": {},
   "outputs": [
    {
     "name": "stdout",
     "output_type": "stream",
     "text": [
      "hahahahehehohohoho\n"
     ]
    },
    {
     "data": {
      "text/plain": [
       "'hahahahehehohohoho'"
      ]
     },
     "execution_count": 80,
     "metadata": {},
     "output_type": "execute_result"
    }
   ],
   "source": [
    "print(3 * \"ha\" + 2 * \"he\" + 4 * 'ho')\n",
    "3 * \"ha\" + 2 * \"he\" + 4 * 'ho'"
   ]
  },
  {
   "cell_type": "code",
   "execution_count": 90,
   "metadata": {},
   "outputs": [
    {
     "name": "stdout",
     "output_type": "stream",
     "text": [
      "haheho\n",
      "haheho\n"
     ]
    },
    {
     "data": {
      "text/plain": [
       "'haheho'"
      ]
     },
     "execution_count": 90,
     "metadata": {},
     "output_type": "execute_result"
    }
   ],
   "source": [
    "# This only works with two literals though, not with variables or expressions:\n",
    "# If you want to concatenate variables or a variable and a literal, use +:\n",
    "print(\"ha\" \"he\" 'ho')\n",
    "print(\"ha\"\"he\"'ho')\n",
    "\"ha\" \"he\" 'ho'"
   ]
  },
  {
   "cell_type": "code",
   "execution_count": 89,
   "metadata": {},
   "outputs": [
    {
     "data": {
      "text/plain": [
       "'haheho'"
      ]
     },
     "execution_count": 89,
     "metadata": {},
     "output_type": "execute_result"
    }
   ],
   "source": [
    "# This only works with two literals though, not with variables or expressions:\n",
    "# If you want to concatenate variables or a variable and a literal, use +:\n",
    "\"ha\"\"he\"'ho'"
   ]
  },
  {
   "cell_type": "code",
   "execution_count": 92,
   "metadata": {},
   "outputs": [
    {
     "name": "stdout",
     "output_type": "stream",
     "text": [
      "this is a sentence that is very long but we do not want to write everything in one line inside our code!\n"
     ]
    }
   ],
   "source": [
    "test = ('this is a sentence that is very long but '\n",
    "        \"we do not want to write everything \"\n",
    "        'in one line inside our code!'        \n",
    "        )\n",
    "print (test)"
   ]
  },
  {
   "cell_type": "code",
   "execution_count": 100,
   "metadata": {},
   "outputs": [
    {
     "name": "stdout",
     "output_type": "stream",
     "text": [
      "p\n",
      "n\n",
      "python\n",
      "nohtyp\n",
      "typo\n"
     ]
    }
   ],
   "source": [
    "# There is no separate character type; a character is simply a string of size one\n",
    "text = \"python\"\n",
    "s1 = text[0]    # first character\n",
    "s2 = text[-1]   # last character\n",
    "s3 = text[0] + text[1] + text[2] + text[3] + text[4] + text[5]\n",
    "s4 = text[-1] + text[-2] + text[-3] + text[-4] + text[-5] + text[-6]\n",
    "s5 = text[2] + text[1] + text[0] + text[4]\n",
    "print(s1)\n",
    "print(s2)\n",
    "print(s3)\n",
    "print(s4)\n",
    "print(s5)"
   ]
  },
  {
   "cell_type": "code",
   "execution_count": 101,
   "metadata": {},
   "outputs": [
    {
     "name": "stdout",
     "output_type": "stream",
     "text": [
      "py\n",
      "tho\n"
     ]
    }
   ],
   "source": [
    "# slicing allows you to obtain substring\n",
    "text = \"python\"\n",
    "s1 = text[0:2]  # characters from position 0 (included) to 2 (excluded)\n",
    "s2 = text[2:5]  # characters from position 2 (included) to 5 (excluded)\n",
    "print(s1)\n",
    "print(s2)"
   ]
  },
  {
   "cell_type": "code",
   "execution_count": 114,
   "metadata": {},
   "outputs": [
    {
     "name": "stdout",
     "output_type": "stream",
     "text": [
      "py\n",
      "thon\n",
      "pyth\n",
      "on\n",
      "pyt\n",
      "hon\n"
     ]
    }
   ],
   "source": [
    "# an omitted first index defaults to zero, an omitted second index defaults to the size of the string being sliced\n",
    "text = \"python\"\n",
    "s1 = text[:2]\n",
    "s2 = text[2:]\n",
    "s3 = text[:4]\n",
    "s4 = text[4:]\n",
    "s5 = text[:-3]\n",
    "s6 = text[-3:]\n",
    "print(s1)\n",
    "print(s2)\n",
    "print(s3)\n",
    "print(s4)\n",
    "print(s5)\n",
    "print(s6)"
   ]
  },
  {
   "cell_type": "code",
   "execution_count": 111,
   "metadata": {},
   "outputs": [
    {
     "name": "stdout",
     "output_type": "stream",
     "text": [
      "python\n",
      "python\n",
      "python\n"
     ]
    }
   ],
   "source": [
    "text = \"python\"\n",
    "s1 = text[:3] + text[3:]   # always return text\n",
    "i = 0\n",
    "s2 = text[:i] + text[i:]   # always return text\n",
    "i = 2\n",
    "s3 = text[:i] + text[i:]   # always return text\n",
    "i = -3\n",
    "s4 = text[:i] + text[i:]   # always return text\n",
    "print(s1)\n",
    "print(s2)\n",
    "print(s3)\n",
    "print(s4)"
   ]
  },
  {
   "cell_type": "code",
   "execution_count": 116,
   "metadata": {},
   "outputs": [
    {
     "name": "stdout",
     "output_type": "stream",
     "text": [
      "thon\n"
     ]
    }
   ],
   "source": [
    "# out of range slice indexes are handled gracefully when used for slicing\n",
    "text = \"python\"\n",
    "s1 = text[2:20]\n",
    "print(s1)"
   ]
  },
  {
   "cell_type": "code",
   "execution_count": 118,
   "metadata": {},
   "outputs": [
    {
     "ename": "IndexError",
     "evalue": "string index out of range",
     "output_type": "error",
     "traceback": [
      "\u001b[0;31m---------------------------------------------------------------------------\u001b[0m",
      "\u001b[0;31mIndexError\u001b[0m                                Traceback (most recent call last)",
      "\u001b[0;32m<ipython-input-118-1fed6ab10c30>\u001b[0m in \u001b[0;36m<module>\u001b[0;34m\u001b[0m\n\u001b[1;32m      1\u001b[0m \u001b[0;31m# Attempting to use an index that is too large will result in an error\u001b[0m\u001b[0;34m\u001b[0m\u001b[0;34m\u001b[0m\u001b[0;34m\u001b[0m\u001b[0m\n\u001b[1;32m      2\u001b[0m \u001b[0mtext\u001b[0m \u001b[0;34m=\u001b[0m \u001b[0;34m\"python\"\u001b[0m\u001b[0;34m\u001b[0m\u001b[0;34m\u001b[0m\u001b[0m\n\u001b[0;32m----> 3\u001b[0;31m \u001b[0ms1\u001b[0m \u001b[0;34m=\u001b[0m \u001b[0mtext\u001b[0m\u001b[0;34m[\u001b[0m\u001b[0;36m6\u001b[0m\u001b[0;34m]\u001b[0m\u001b[0;34m\u001b[0m\u001b[0;34m\u001b[0m\u001b[0m\n\u001b[0m\u001b[1;32m      4\u001b[0m \u001b[0mprint\u001b[0m\u001b[0;34m(\u001b[0m\u001b[0ms1\u001b[0m\u001b[0;34m)\u001b[0m\u001b[0;34m\u001b[0m\u001b[0;34m\u001b[0m\u001b[0m\n",
      "\u001b[0;31mIndexError\u001b[0m: string index out of range"
     ]
    }
   ],
   "source": [
    "# WILL RESULT ERROR: Attempting to use an index that is too large\n",
    "text = \"python\"\n",
    "s1 = text[6]\n",
    "print(s1)"
   ]
  },
  {
   "cell_type": "code",
   "execution_count": 119,
   "metadata": {},
   "outputs": [
    {
     "ename": "TypeError",
     "evalue": "'str' object does not support item assignment",
     "output_type": "error",
     "traceback": [
      "\u001b[0;31m---------------------------------------------------------------------------\u001b[0m",
      "\u001b[0;31mTypeError\u001b[0m                                 Traceback (most recent call last)",
      "\u001b[0;32m<ipython-input-119-0321b3e3ea1b>\u001b[0m in \u001b[0;36m<module>\u001b[0;34m\u001b[0m\n\u001b[1;32m      2\u001b[0m \u001b[0;31m#   Therefore, assigning to an indexed position in the string results in an error:\u001b[0m\u001b[0;34m\u001b[0m\u001b[0;34m\u001b[0m\u001b[0;34m\u001b[0m\u001b[0m\n\u001b[1;32m      3\u001b[0m \u001b[0mtext\u001b[0m \u001b[0;34m=\u001b[0m \u001b[0;34m\"This is Python\"\u001b[0m\u001b[0;34m\u001b[0m\u001b[0;34m\u001b[0m\u001b[0m\n\u001b[0;32m----> 4\u001b[0;31m \u001b[0mtext\u001b[0m\u001b[0;34m[\u001b[0m\u001b[0;36m8\u001b[0m\u001b[0;34m]\u001b[0m \u001b[0;34m=\u001b[0m \u001b[0;34m\"C\"\u001b[0m\u001b[0;34m\u001b[0m\u001b[0;34m\u001b[0m\u001b[0m\n\u001b[0m\u001b[1;32m      5\u001b[0m \u001b[0mprint\u001b[0m\u001b[0;34m(\u001b[0m\u001b[0mtext\u001b[0m\u001b[0;34m)\u001b[0m\u001b[0;34m\u001b[0m\u001b[0;34m\u001b[0m\u001b[0m\n",
      "\u001b[0;31mTypeError\u001b[0m: 'str' object does not support item assignment"
     ]
    }
   ],
   "source": [
    "# WILL RESULT ERROR: Python strings cannot be changed — they are immutable.\n",
    "#   Therefore, assigning to an indexed position in the string results in an error:\n",
    "text = \"This is Python\"\n",
    "text[8] = \"C\"\n",
    "print(text)"
   ]
  },
  {
   "cell_type": "code",
   "execution_count": 121,
   "metadata": {},
   "outputs": [
    {
     "name": "stdout",
     "output_type": "stream",
     "text": [
      "This is Cython\n"
     ]
    }
   ],
   "source": [
    "# This is okay\n",
    "text = \"This is Python\"\n",
    "text = text[:8] + \"C\" + text[9:]\n",
    "print(text)"
   ]
  },
  {
   "cell_type": "code",
   "execution_count": 122,
   "metadata": {},
   "outputs": [
    {
     "name": "stdout",
     "output_type": "stream",
     "text": [
      "14\n"
     ]
    }
   ],
   "source": [
    "text = \"This is Python\"\n",
    "print(len(text))"
   ]
  },
  {
   "cell_type": "markdown",
   "metadata": {},
   "source": [
    "### See also\n",
    "\n",
    "[Text Sequence Type — str](https://docs.python.org/3/library/stdtypes.html#textseq)  \n",
    "  Strings are examples of sequence types, and support the common operations supported by such types.\n",
    "\n",
    "[String Methods](https://docs.python.org/3/library/stdtypes.html#string-methods)  \n",
    "Strings support a large number of methods for basic transformations and searching.\n",
    "\n",
    "[Formatted string literals](https://docs.python.org/3/reference/lexical_analysis.html#f-strings)  \n",
    "String literals that have embedded expressions.\n",
    "\n",
    "[Format String Syntax](https://docs.python.org/3/library/string.html#formatstrings)  \n",
    "Information about string formatting with str.format().\n",
    "\n",
    "[printf-style String Formatting](https://docs.python.org/3/library/stdtypes.html#old-string-formatting)  \n",
    "The old formatting operations invoked when strings are the left operand of the % operator are described in more detail here."
   ]
  },
  {
   "cell_type": "markdown",
   "metadata": {},
   "source": [
    "## Lists"
   ]
  },
  {
   "cell_type": "code",
   "execution_count": 130,
   "metadata": {},
   "outputs": [
    {
     "name": "stdout",
     "output_type": "stream",
     "text": [
      "[1, 4, 9, 16, 25, 36, 49]\n"
     ]
    },
    {
     "data": {
      "text/plain": [
       "[1, 4, 9, 16, 25, 36, 49]"
      ]
     },
     "execution_count": 130,
     "metadata": {},
     "output_type": "execute_result"
    }
   ],
   "source": [
    "squares = [1, 4, 9, 16, 25, 36, 49]\n",
    "print(squares)\n",
    "squares"
   ]
  },
  {
   "cell_type": "code",
   "execution_count": 133,
   "metadata": {},
   "outputs": [
    {
     "name": "stdout",
     "output_type": "stream",
     "text": [
      "1\n",
      "49\n",
      "[9, 16, 25, 36, 49]\n",
      "[36, 49]\n",
      "[1, 4]\n",
      "[1, 4, 9, 16, 25]\n",
      "[9, 16, 25]\n"
     ]
    }
   ],
   "source": [
    "# Like strings (and all other built-in sequence types), lists can be indexed and sliced:\n",
    "squares = [1, 4, 9, 16, 25, 36, 49]\n",
    "a = squares[0]        # indexing returns the item\n",
    "b = squares[-1]       # indexing returns the item\n",
    "\n",
    "list1 = squares[2:]   # slicing returns a new list\n",
    "list2 = squares[-2:]  # slicing returns a new list\n",
    "list3 = squares[:2]   # slicing returns a new list\n",
    "list4 = squares[:-2]  # slicing returns a new list\n",
    "list5 = squares[2:-2] # slicing returns a new list\n",
    "\n",
    "print(a)\n",
    "print(b)\n",
    "print(list1)\n",
    "print(list2)\n",
    "print(list3)\n",
    "print(list4)\n",
    "print(list5)"
   ]
  },
  {
   "cell_type": "code",
   "execution_count": 134,
   "metadata": {},
   "outputs": [
    {
     "name": "stdout",
     "output_type": "stream",
     "text": [
      "[1, 4, 9, 16, 25, 36, 49]\n"
     ]
    }
   ],
   "source": [
    "# All slice operations return a new list containing the requested elements.\n",
    "# This means that the following slice returns a SHALLOW COPY of the list:\n",
    "squares = [1, 4, 9, 16, 25, 36, 49]\n",
    "list = squares[:]    # slicing returns a new list\n",
    "print(list)"
   ]
  },
  {
   "cell_type": "code",
   "execution_count": 142,
   "metadata": {},
   "outputs": [
    {
     "name": "stdout",
     "output_type": "stream",
     "text": [
      "[1, 4, 9, 16, 25, 36, 49, 64, 81, 100, 121]\n",
      "[1, 4, 9, 16, 25, 36, 49, 64, 81, 100, 121, 144, 169]\n"
     ]
    }
   ],
   "source": [
    "# list can be concatenated\n",
    "squares = [1, 4, 9, 16, 25, 36, 49]\n",
    "squares = squares + [64, 81, 100, 121]\n",
    "print(squares)\n",
    "\n",
    "squares.append(144)\n",
    "squares.append(13**2)\n",
    "print(squares)"
   ]
  },
  {
   "cell_type": "code",
   "execution_count": 137,
   "metadata": {},
   "outputs": [
    {
     "name": "stdout",
     "output_type": "stream",
     "text": [
      "[1, 8, 27, 64, 125]\n"
     ]
    }
   ],
   "source": [
    "# lists are a mutable type, i.e. it is possible to change their content\n",
    "cubes = [1, 8, 27, 65, 125]\n",
    "cubes[3] = 64\n",
    "print(cubes)"
   ]
  },
  {
   "cell_type": "code",
   "execution_count": 145,
   "metadata": {},
   "outputs": [
    {
     "name": "stdout",
     "output_type": "stream",
     "text": [
      "[1, 8, 27, 64, 125]\n",
      "[1, 8, 27, 64, 99, 125]\n"
     ]
    }
   ],
   "source": [
    "# lists are a mutable type, i.e. it is possible to change their content\n",
    "# Assignment to slices is also possible, \n",
    "# and this can even change the size of the list or clear it entirely:\n",
    "cubes = [1, 8, 20, 65, 125]\n",
    "cubes[2:4] = [27, 64]\n",
    "print(cubes)\n",
    "\n",
    "cubes = [1, 8, 20, 65, 125]\n",
    "cubes[2:4] = [27, 64, 99]   # 2 items replaced with 3 items\n",
    "print(cubes)"
   ]
  },
  {
   "cell_type": "code",
   "execution_count": 148,
   "metadata": {},
   "outputs": [
    {
     "name": "stdout",
     "output_type": "stream",
     "text": [
      "['a', 'b', 'c', 'd', 'e', 'f', 'g']\n",
      "['a', 'b', 'C', 'D', 'E', 'f', 'g']\n",
      "['a', 'b', 'X', 'Y', 'Z', 'W', 'f', 'g']\n",
      "['a', 'b', 'H', 'K', 'W', 'f', 'g']\n",
      "[]\n"
     ]
    }
   ],
   "source": [
    "# Assignment to slices is also possible,\n",
    "# and this can even change the size of the list or clear it entirely:\n",
    "letters = ['a', 'b', 'c', 'd', 'e', 'f', 'g']\n",
    "print(letters)\n",
    "\n",
    "letters[2:5] = ['C', 'D', 'E']\n",
    "print(letters)\n",
    "\n",
    "letters[2:5] = ['X', 'Y', 'Z', 'W']\n",
    "print(letters)\n",
    "\n",
    "letters[2:5] = ['H', 'K']\n",
    "print(letters)\n",
    "\n",
    "letters[:] = []   # clear the list by replacing all the elements with an empty list\n",
    "print(letters)\n"
   ]
  },
  {
   "cell_type": "code",
   "execution_count": 149,
   "metadata": {},
   "outputs": [
    {
     "name": "stdout",
     "output_type": "stream",
     "text": [
      "7\n"
     ]
    }
   ],
   "source": [
    "letters = ['a', 'b', 'c', 'd', 'e', 'f', 'g']\n",
    "print( len(letters) )"
   ]
  },
  {
   "cell_type": "code",
   "execution_count": 151,
   "metadata": {},
   "outputs": [
    {
     "name": "stdout",
     "output_type": "stream",
     "text": [
      "[['a', 'b', 'c'], [1, 2, 3, 4, 5], ['Ali', 'Chong', 'Gobi', 'Alan', 'Ahmad']]\n",
      "['a', 'b', 'c']\n",
      "[1, 2, 3, 4, 5]\n",
      "['Ali', 'Chong', 'Gobi', 'Alan', 'Ahmad']\n",
      "['a', 'b', 'c']\n",
      "3\n",
      "['Chong', 'Gobi']\n"
     ]
    }
   ],
   "source": [
    "# It is possible to nest lists (create lists containing other lists), for example:\n",
    "letters = ['a', 'b', 'c']\n",
    "num = [1, 2, 3, 4, 5]\n",
    "names = ['Ali', 'Chong', 'Gobi', 'Alan', 'Ahmad']\n",
    "x = [letters, num, names]\n",
    "print(x)\n",
    "\n",
    "print(x[0])\n",
    "print(x[1])\n",
    "print(x[2])\n",
    "\n",
    "print(x[0])\n",
    "print(x[1][2])\n",
    "print(x[2][1:3])"
   ]
  },
  {
   "cell_type": "markdown",
   "metadata": {},
   "source": [
    "## First Steps Towards Programming"
   ]
  },
  {
   "cell_type": "code",
   "execution_count": 170,
   "metadata": {},
   "outputs": [
    {
     "name": "stdout",
     "output_type": "stream",
     "text": [
      "Term  1  is  1\n",
      "Term  2  is  1\n",
      "Term  3  is  2\n",
      "Term  4  is  3\n",
      "Term  5  is  5\n",
      "Term  6  is  8\n",
      "Term  7  is  13\n"
     ]
    }
   ],
   "source": [
    "# Fibonacci series:\n",
    "# the sum of two elements defines the next\n",
    "term, a, b = 1, 0, 1\n",
    "while term <= 7:\n",
    "  print('Term ', term, ' is ', b)\n",
    "  term, a, b = term+1, b, a+b"
   ]
  },
  {
   "cell_type": "code",
   "execution_count": 173,
   "metadata": {},
   "outputs": [
    {
     "name": "stdout",
     "output_type": "stream",
     "text": [
      "1 => 1 => 2 => 3 => 5 => 8 => 13\n"
     ]
    }
   ],
   "source": [
    "# Fibonacci series:\n",
    "# the sum of two elements defines the next\n",
    "term, a, b = 1, 0, 1\n",
    "while term <= 6:\n",
    "  print(b, end=' => ')\n",
    "  term, a, b = term+1, b, a+b\n",
    "print(b)"
   ]
  },
  {
   "cell_type": "markdown",
   "metadata": {},
   "source": [
    "# END OF The Python Tutorial -> An Informal Introduction to Python"
   ]
  },
  {
   "cell_type": "code",
   "execution_count": null,
   "metadata": {},
   "outputs": [],
   "source": []
  }
 ],
 "metadata": {
  "kernelspec": {
   "display_name": "YP: TensorFlow-GPU",
   "language": "python",
   "name": "yp-tfgpu"
  },
  "language_info": {
   "codemirror_mode": {
    "name": "ipython",
    "version": 3
   },
   "file_extension": ".py",
   "mimetype": "text/x-python",
   "name": "python",
   "nbconvert_exporter": "python",
   "pygments_lexer": "ipython3",
   "version": "3.7.6"
  }
 },
 "nbformat": 4,
 "nbformat_minor": 4
}
